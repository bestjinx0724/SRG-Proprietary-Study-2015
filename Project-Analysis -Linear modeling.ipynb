{
 "cells": [
  {
   "cell_type": "code",
   "execution_count": 1,
   "metadata": {},
   "outputs": [],
   "source": [
    "#!pip install xlrd\n",
    "import xlrd #reading in excel files\n",
    "import pprint as pp\n",
    "from matplotlib import pyplot as plt\n",
    "%matplotlib inline\n",
    "\n",
    "import numpy as np\n",
    "import pandas as pd\n",
    "import statsmodels.api as sm\n",
    "import statsmodels.formula.api as smf\n",
    "#!pip install seaborn\n",
    "import seaborn as sns\n",
    "#!pip install sklearn\n",
    "import sklearn\n",
    "from sklearn.linear_model import LinearRegression\n",
    "from sklearn.preprocessing import scale"
   ]
  },
  {
   "cell_type": "code",
   "execution_count": 10,
   "metadata": {},
   "outputs": [
    {
     "ename": "URLError",
     "evalue": "<urlopen error [Errno 2] No such file or directory: '/Users/meihao/Desktop/predictive SAS/Final Project /project_cleaned_data.csv'>",
     "output_type": "error",
     "traceback": [
      "\u001b[0;31m---------------------------------------------------------------------------\u001b[0m",
      "\u001b[0;31mFileNotFoundError\u001b[0m                         Traceback (most recent call last)",
      "\u001b[0;32m~/anaconda3/lib/python3.7/urllib/request.py\u001b[0m in \u001b[0;36mopen_local_file\u001b[0;34m(self, req)\u001b[0m\n\u001b[1;32m   1472\u001b[0m         \u001b[0;32mtry\u001b[0m\u001b[0;34m:\u001b[0m\u001b[0;34m\u001b[0m\u001b[0;34m\u001b[0m\u001b[0m\n\u001b[0;32m-> 1473\u001b[0;31m             \u001b[0mstats\u001b[0m \u001b[0;34m=\u001b[0m \u001b[0mos\u001b[0m\u001b[0;34m.\u001b[0m\u001b[0mstat\u001b[0m\u001b[0;34m(\u001b[0m\u001b[0mlocalfile\u001b[0m\u001b[0;34m)\u001b[0m\u001b[0;34m\u001b[0m\u001b[0;34m\u001b[0m\u001b[0m\n\u001b[0m\u001b[1;32m   1474\u001b[0m             \u001b[0msize\u001b[0m \u001b[0;34m=\u001b[0m \u001b[0mstats\u001b[0m\u001b[0;34m.\u001b[0m\u001b[0mst_size\u001b[0m\u001b[0;34m\u001b[0m\u001b[0;34m\u001b[0m\u001b[0m\n",
      "\u001b[0;31mFileNotFoundError\u001b[0m: [Errno 2] No such file or directory: '/Users/meihao/Desktop/predictive SAS/Final Project /project_cleaned_data.csv'",
      "\nDuring handling of the above exception, another exception occurred:\n",
      "\u001b[0;31mURLError\u001b[0m                                  Traceback (most recent call last)",
      "\u001b[0;32m<ipython-input-10-c4995437437c>\u001b[0m in \u001b[0;36m<module>\u001b[0;34m\u001b[0m\n\u001b[0;32m----> 1\u001b[0;31m \u001b[0mdf_cleaned\u001b[0m \u001b[0;34m=\u001b[0m \u001b[0mpd\u001b[0m\u001b[0;34m.\u001b[0m\u001b[0mread_csv\u001b[0m\u001b[0;34m(\u001b[0m\u001b[0;34m'file:///Users/meihao/Desktop/predictive%20SAS/Final%20Project%20/project_cleaned_data.csv'\u001b[0m\u001b[0;34m)\u001b[0m\u001b[0;34m\u001b[0m\u001b[0;34m\u001b[0m\u001b[0m\n\u001b[0m",
      "\u001b[0;32m~/anaconda3/lib/python3.7/site-packages/pandas/io/parsers.py\u001b[0m in \u001b[0;36mparser_f\u001b[0;34m(filepath_or_buffer, sep, delimiter, header, names, index_col, usecols, squeeze, prefix, mangle_dupe_cols, dtype, engine, converters, true_values, false_values, skipinitialspace, skiprows, nrows, na_values, keep_default_na, na_filter, verbose, skip_blank_lines, parse_dates, infer_datetime_format, keep_date_col, date_parser, dayfirst, iterator, chunksize, compression, thousands, decimal, lineterminator, quotechar, quoting, escapechar, comment, encoding, dialect, tupleize_cols, error_bad_lines, warn_bad_lines, skipfooter, doublequote, delim_whitespace, low_memory, memory_map, float_precision)\u001b[0m\n\u001b[1;32m    676\u001b[0m                     skip_blank_lines=skip_blank_lines)\n\u001b[1;32m    677\u001b[0m \u001b[0;34m\u001b[0m\u001b[0m\n\u001b[0;32m--> 678\u001b[0;31m         \u001b[0;32mreturn\u001b[0m \u001b[0m_read\u001b[0m\u001b[0;34m(\u001b[0m\u001b[0mfilepath_or_buffer\u001b[0m\u001b[0;34m,\u001b[0m \u001b[0mkwds\u001b[0m\u001b[0;34m)\u001b[0m\u001b[0;34m\u001b[0m\u001b[0;34m\u001b[0m\u001b[0m\n\u001b[0m\u001b[1;32m    679\u001b[0m \u001b[0;34m\u001b[0m\u001b[0m\n\u001b[1;32m    680\u001b[0m     \u001b[0mparser_f\u001b[0m\u001b[0;34m.\u001b[0m\u001b[0m__name__\u001b[0m \u001b[0;34m=\u001b[0m \u001b[0mname\u001b[0m\u001b[0;34m\u001b[0m\u001b[0;34m\u001b[0m\u001b[0m\n",
      "\u001b[0;32m~/anaconda3/lib/python3.7/site-packages/pandas/io/parsers.py\u001b[0m in \u001b[0;36m_read\u001b[0;34m(filepath_or_buffer, kwds)\u001b[0m\n\u001b[1;32m    422\u001b[0m     \u001b[0mcompression\u001b[0m \u001b[0;34m=\u001b[0m \u001b[0m_infer_compression\u001b[0m\u001b[0;34m(\u001b[0m\u001b[0mfilepath_or_buffer\u001b[0m\u001b[0;34m,\u001b[0m \u001b[0mcompression\u001b[0m\u001b[0;34m)\u001b[0m\u001b[0;34m\u001b[0m\u001b[0;34m\u001b[0m\u001b[0m\n\u001b[1;32m    423\u001b[0m     filepath_or_buffer, _, compression, should_close = get_filepath_or_buffer(\n\u001b[0;32m--> 424\u001b[0;31m         filepath_or_buffer, encoding, compression)\n\u001b[0m\u001b[1;32m    425\u001b[0m     \u001b[0mkwds\u001b[0m\u001b[0;34m[\u001b[0m\u001b[0;34m'compression'\u001b[0m\u001b[0;34m]\u001b[0m \u001b[0;34m=\u001b[0m \u001b[0mcompression\u001b[0m\u001b[0;34m\u001b[0m\u001b[0;34m\u001b[0m\u001b[0m\n\u001b[1;32m    426\u001b[0m \u001b[0;34m\u001b[0m\u001b[0m\n",
      "\u001b[0;32m~/anaconda3/lib/python3.7/site-packages/pandas/io/common.py\u001b[0m in \u001b[0;36mget_filepath_or_buffer\u001b[0;34m(filepath_or_buffer, encoding, compression, mode)\u001b[0m\n\u001b[1;32m    193\u001b[0m \u001b[0;34m\u001b[0m\u001b[0m\n\u001b[1;32m    194\u001b[0m     \u001b[0;32mif\u001b[0m \u001b[0m_is_url\u001b[0m\u001b[0;34m(\u001b[0m\u001b[0mfilepath_or_buffer\u001b[0m\u001b[0;34m)\u001b[0m\u001b[0;34m:\u001b[0m\u001b[0;34m\u001b[0m\u001b[0;34m\u001b[0m\u001b[0m\n\u001b[0;32m--> 195\u001b[0;31m         \u001b[0mreq\u001b[0m \u001b[0;34m=\u001b[0m \u001b[0m_urlopen\u001b[0m\u001b[0;34m(\u001b[0m\u001b[0mfilepath_or_buffer\u001b[0m\u001b[0;34m)\u001b[0m\u001b[0;34m\u001b[0m\u001b[0;34m\u001b[0m\u001b[0m\n\u001b[0m\u001b[1;32m    196\u001b[0m         \u001b[0mcontent_encoding\u001b[0m \u001b[0;34m=\u001b[0m \u001b[0mreq\u001b[0m\u001b[0;34m.\u001b[0m\u001b[0mheaders\u001b[0m\u001b[0;34m.\u001b[0m\u001b[0mget\u001b[0m\u001b[0;34m(\u001b[0m\u001b[0;34m'Content-Encoding'\u001b[0m\u001b[0;34m,\u001b[0m \u001b[0;32mNone\u001b[0m\u001b[0;34m)\u001b[0m\u001b[0;34m\u001b[0m\u001b[0;34m\u001b[0m\u001b[0m\n\u001b[1;32m    197\u001b[0m         \u001b[0;32mif\u001b[0m \u001b[0mcontent_encoding\u001b[0m \u001b[0;34m==\u001b[0m \u001b[0;34m'gzip'\u001b[0m\u001b[0;34m:\u001b[0m\u001b[0;34m\u001b[0m\u001b[0;34m\u001b[0m\u001b[0m\n",
      "\u001b[0;32m~/anaconda3/lib/python3.7/urllib/request.py\u001b[0m in \u001b[0;36murlopen\u001b[0;34m(url, data, timeout, cafile, capath, cadefault, context)\u001b[0m\n\u001b[1;32m    220\u001b[0m     \u001b[0;32melse\u001b[0m\u001b[0;34m:\u001b[0m\u001b[0;34m\u001b[0m\u001b[0;34m\u001b[0m\u001b[0m\n\u001b[1;32m    221\u001b[0m         \u001b[0mopener\u001b[0m \u001b[0;34m=\u001b[0m \u001b[0m_opener\u001b[0m\u001b[0;34m\u001b[0m\u001b[0;34m\u001b[0m\u001b[0m\n\u001b[0;32m--> 222\u001b[0;31m     \u001b[0;32mreturn\u001b[0m \u001b[0mopener\u001b[0m\u001b[0;34m.\u001b[0m\u001b[0mopen\u001b[0m\u001b[0;34m(\u001b[0m\u001b[0murl\u001b[0m\u001b[0;34m,\u001b[0m \u001b[0mdata\u001b[0m\u001b[0;34m,\u001b[0m \u001b[0mtimeout\u001b[0m\u001b[0;34m)\u001b[0m\u001b[0;34m\u001b[0m\u001b[0;34m\u001b[0m\u001b[0m\n\u001b[0m\u001b[1;32m    223\u001b[0m \u001b[0;34m\u001b[0m\u001b[0m\n\u001b[1;32m    224\u001b[0m \u001b[0;32mdef\u001b[0m \u001b[0minstall_opener\u001b[0m\u001b[0;34m(\u001b[0m\u001b[0mopener\u001b[0m\u001b[0;34m)\u001b[0m\u001b[0;34m:\u001b[0m\u001b[0;34m\u001b[0m\u001b[0;34m\u001b[0m\u001b[0m\n",
      "\u001b[0;32m~/anaconda3/lib/python3.7/urllib/request.py\u001b[0m in \u001b[0;36mopen\u001b[0;34m(self, fullurl, data, timeout)\u001b[0m\n\u001b[1;32m    523\u001b[0m             \u001b[0mreq\u001b[0m \u001b[0;34m=\u001b[0m \u001b[0mmeth\u001b[0m\u001b[0;34m(\u001b[0m\u001b[0mreq\u001b[0m\u001b[0;34m)\u001b[0m\u001b[0;34m\u001b[0m\u001b[0;34m\u001b[0m\u001b[0m\n\u001b[1;32m    524\u001b[0m \u001b[0;34m\u001b[0m\u001b[0m\n\u001b[0;32m--> 525\u001b[0;31m         \u001b[0mresponse\u001b[0m \u001b[0;34m=\u001b[0m \u001b[0mself\u001b[0m\u001b[0;34m.\u001b[0m\u001b[0m_open\u001b[0m\u001b[0;34m(\u001b[0m\u001b[0mreq\u001b[0m\u001b[0;34m,\u001b[0m \u001b[0mdata\u001b[0m\u001b[0;34m)\u001b[0m\u001b[0;34m\u001b[0m\u001b[0;34m\u001b[0m\u001b[0m\n\u001b[0m\u001b[1;32m    526\u001b[0m \u001b[0;34m\u001b[0m\u001b[0m\n\u001b[1;32m    527\u001b[0m         \u001b[0;31m# post-process response\u001b[0m\u001b[0;34m\u001b[0m\u001b[0;34m\u001b[0m\u001b[0;34m\u001b[0m\u001b[0m\n",
      "\u001b[0;32m~/anaconda3/lib/python3.7/urllib/request.py\u001b[0m in \u001b[0;36m_open\u001b[0;34m(self, req, data)\u001b[0m\n\u001b[1;32m    541\u001b[0m         \u001b[0mprotocol\u001b[0m \u001b[0;34m=\u001b[0m \u001b[0mreq\u001b[0m\u001b[0;34m.\u001b[0m\u001b[0mtype\u001b[0m\u001b[0;34m\u001b[0m\u001b[0;34m\u001b[0m\u001b[0m\n\u001b[1;32m    542\u001b[0m         result = self._call_chain(self.handle_open, protocol, protocol +\n\u001b[0;32m--> 543\u001b[0;31m                                   '_open', req)\n\u001b[0m\u001b[1;32m    544\u001b[0m         \u001b[0;32mif\u001b[0m \u001b[0mresult\u001b[0m\u001b[0;34m:\u001b[0m\u001b[0;34m\u001b[0m\u001b[0;34m\u001b[0m\u001b[0m\n\u001b[1;32m    545\u001b[0m             \u001b[0;32mreturn\u001b[0m \u001b[0mresult\u001b[0m\u001b[0;34m\u001b[0m\u001b[0;34m\u001b[0m\u001b[0m\n",
      "\u001b[0;32m~/anaconda3/lib/python3.7/urllib/request.py\u001b[0m in \u001b[0;36m_call_chain\u001b[0;34m(self, chain, kind, meth_name, *args)\u001b[0m\n\u001b[1;32m    501\u001b[0m         \u001b[0;32mfor\u001b[0m \u001b[0mhandler\u001b[0m \u001b[0;32min\u001b[0m \u001b[0mhandlers\u001b[0m\u001b[0;34m:\u001b[0m\u001b[0;34m\u001b[0m\u001b[0;34m\u001b[0m\u001b[0m\n\u001b[1;32m    502\u001b[0m             \u001b[0mfunc\u001b[0m \u001b[0;34m=\u001b[0m \u001b[0mgetattr\u001b[0m\u001b[0;34m(\u001b[0m\u001b[0mhandler\u001b[0m\u001b[0;34m,\u001b[0m \u001b[0mmeth_name\u001b[0m\u001b[0;34m)\u001b[0m\u001b[0;34m\u001b[0m\u001b[0;34m\u001b[0m\u001b[0m\n\u001b[0;32m--> 503\u001b[0;31m             \u001b[0mresult\u001b[0m \u001b[0;34m=\u001b[0m \u001b[0mfunc\u001b[0m\u001b[0;34m(\u001b[0m\u001b[0;34m*\u001b[0m\u001b[0margs\u001b[0m\u001b[0;34m)\u001b[0m\u001b[0;34m\u001b[0m\u001b[0;34m\u001b[0m\u001b[0m\n\u001b[0m\u001b[1;32m    504\u001b[0m             \u001b[0;32mif\u001b[0m \u001b[0mresult\u001b[0m \u001b[0;32mis\u001b[0m \u001b[0;32mnot\u001b[0m \u001b[0;32mNone\u001b[0m\u001b[0;34m:\u001b[0m\u001b[0;34m\u001b[0m\u001b[0;34m\u001b[0m\u001b[0m\n\u001b[1;32m    505\u001b[0m                 \u001b[0;32mreturn\u001b[0m \u001b[0mresult\u001b[0m\u001b[0;34m\u001b[0m\u001b[0;34m\u001b[0m\u001b[0m\n",
      "\u001b[0;32m~/anaconda3/lib/python3.7/urllib/request.py\u001b[0m in \u001b[0;36mfile_open\u001b[0;34m(self, req)\u001b[0m\n\u001b[1;32m   1449\u001b[0m                 \u001b[0;32mraise\u001b[0m \u001b[0mURLError\u001b[0m\u001b[0;34m(\u001b[0m\u001b[0;34m\"file:// scheme is supported only on localhost\"\u001b[0m\u001b[0;34m)\u001b[0m\u001b[0;34m\u001b[0m\u001b[0;34m\u001b[0m\u001b[0m\n\u001b[1;32m   1450\u001b[0m         \u001b[0;32melse\u001b[0m\u001b[0;34m:\u001b[0m\u001b[0;34m\u001b[0m\u001b[0;34m\u001b[0m\u001b[0m\n\u001b[0;32m-> 1451\u001b[0;31m             \u001b[0;32mreturn\u001b[0m \u001b[0mself\u001b[0m\u001b[0;34m.\u001b[0m\u001b[0mopen_local_file\u001b[0m\u001b[0;34m(\u001b[0m\u001b[0mreq\u001b[0m\u001b[0;34m)\u001b[0m\u001b[0;34m\u001b[0m\u001b[0;34m\u001b[0m\u001b[0m\n\u001b[0m\u001b[1;32m   1452\u001b[0m \u001b[0;34m\u001b[0m\u001b[0m\n\u001b[1;32m   1453\u001b[0m     \u001b[0;31m# names for the localhost\u001b[0m\u001b[0;34m\u001b[0m\u001b[0;34m\u001b[0m\u001b[0;34m\u001b[0m\u001b[0m\n",
      "\u001b[0;32m~/anaconda3/lib/python3.7/urllib/request.py\u001b[0m in \u001b[0;36mopen_local_file\u001b[0;34m(self, req)\u001b[0m\n\u001b[1;32m   1488\u001b[0m                 \u001b[0;32mreturn\u001b[0m \u001b[0maddinfourl\u001b[0m\u001b[0;34m(\u001b[0m\u001b[0mopen\u001b[0m\u001b[0;34m(\u001b[0m\u001b[0mlocalfile\u001b[0m\u001b[0;34m,\u001b[0m \u001b[0;34m'rb'\u001b[0m\u001b[0;34m)\u001b[0m\u001b[0;34m,\u001b[0m \u001b[0mheaders\u001b[0m\u001b[0;34m,\u001b[0m \u001b[0morigurl\u001b[0m\u001b[0;34m)\u001b[0m\u001b[0;34m\u001b[0m\u001b[0;34m\u001b[0m\u001b[0m\n\u001b[1;32m   1489\u001b[0m         \u001b[0;32mexcept\u001b[0m \u001b[0mOSError\u001b[0m \u001b[0;32mas\u001b[0m \u001b[0mexp\u001b[0m\u001b[0;34m:\u001b[0m\u001b[0;34m\u001b[0m\u001b[0;34m\u001b[0m\u001b[0m\n\u001b[0;32m-> 1490\u001b[0;31m             \u001b[0;32mraise\u001b[0m \u001b[0mURLError\u001b[0m\u001b[0;34m(\u001b[0m\u001b[0mexp\u001b[0m\u001b[0;34m)\u001b[0m\u001b[0;34m\u001b[0m\u001b[0;34m\u001b[0m\u001b[0m\n\u001b[0m\u001b[1;32m   1491\u001b[0m         \u001b[0;32mraise\u001b[0m \u001b[0mURLError\u001b[0m\u001b[0;34m(\u001b[0m\u001b[0;34m'file not on local host'\u001b[0m\u001b[0;34m)\u001b[0m\u001b[0;34m\u001b[0m\u001b[0;34m\u001b[0m\u001b[0m\n\u001b[1;32m   1492\u001b[0m \u001b[0;34m\u001b[0m\u001b[0m\n",
      "\u001b[0;31mURLError\u001b[0m: <urlopen error [Errno 2] No such file or directory: '/Users/meihao/Desktop/predictive SAS/Final Project /project_cleaned_data.csv'>"
     ]
    }
   ],
   "source": [
    "df_cleaned = pd.read_csv('file:///Users/meihao/Desktop/predictive%20SAS/Final%20Project%20/project_cleaned_data.csv')"
   ]
  },
  {
   "cell_type": "code",
   "execution_count": 3,
   "metadata": {},
   "outputs": [
    {
     "data": {
      "text/html": [
       "<div>\n",
       "<style scoped>\n",
       "    .dataframe tbody tr th:only-of-type {\n",
       "        vertical-align: middle;\n",
       "    }\n",
       "\n",
       "    .dataframe tbody tr th {\n",
       "        vertical-align: top;\n",
       "    }\n",
       "\n",
       "    .dataframe thead th {\n",
       "        text-align: right;\n",
       "    }\n",
       "</style>\n",
       "<table border=\"1\" class=\"dataframe\">\n",
       "  <thead>\n",
       "    <tr style=\"text-align: right;\">\n",
       "      <th></th>\n",
       "      <th>Unnamed: 0</th>\n",
       "      <th>S1</th>\n",
       "      <th>S2</th>\n",
       "      <th>S3</th>\n",
       "      <th>hS3</th>\n",
       "      <th>Q1ra</th>\n",
       "      <th>Q1rb</th>\n",
       "      <th>Q1rd</th>\n",
       "      <th>Q1re</th>\n",
       "      <th>Q1rf</th>\n",
       "      <th>...</th>\n",
       "      <th>D7r5</th>\n",
       "      <th>D7r6</th>\n",
       "      <th>D7r7</th>\n",
       "      <th>D7r6oe</th>\n",
       "      <th>D8</th>\n",
       "      <th>D9</th>\n",
       "      <th>D10ra</th>\n",
       "      <th>D10rb</th>\n",
       "      <th>D11</th>\n",
       "      <th>qtime</th>\n",
       "    </tr>\n",
       "  </thead>\n",
       "  <tbody>\n",
       "    <tr>\n",
       "      <th>0</th>\n",
       "      <td>0</td>\n",
       "      <td>Myself</td>\n",
       "      <td>Female</td>\n",
       "      <td>52</td>\n",
       "      <td>50-54</td>\n",
       "      <td>Agree Some what</td>\n",
       "      <td>Agree Some what</td>\n",
       "      <td>Strongly Agree</td>\n",
       "      <td>Agree Some what</td>\n",
       "      <td>Agree Some what</td>\n",
       "      <td>...</td>\n",
       "      <td>NO TO: American Indian</td>\n",
       "      <td>NO TO: Other ( please specify)</td>\n",
       "      <td>NO TO: Decline to answer</td>\n",
       "      <td>NaN</td>\n",
       "      <td>Not currently employed, but looking for work</td>\n",
       "      <td>115</td>\n",
       "      <td>5</td>\n",
       "      <td>2</td>\n",
       "      <td>Illinois</td>\n",
       "      <td>657.14</td>\n",
       "    </tr>\n",
       "    <tr>\n",
       "      <th>1</th>\n",
       "      <td>1</td>\n",
       "      <td>Myself</td>\n",
       "      <td>Male</td>\n",
       "      <td>39</td>\n",
       "      <td>35-39</td>\n",
       "      <td>Agree Some what</td>\n",
       "      <td>Agree Some what</td>\n",
       "      <td>Agree Some what</td>\n",
       "      <td>Disagree Some what</td>\n",
       "      <td>Agree Some what</td>\n",
       "      <td>...</td>\n",
       "      <td>NO TO: American Indian</td>\n",
       "      <td>NO TO: Other ( please specify)</td>\n",
       "      <td>NO TO: Decline to answer</td>\n",
       "      <td>NaN</td>\n",
       "      <td>Work full time</td>\n",
       "      <td>275</td>\n",
       "      <td>6</td>\n",
       "      <td>2</td>\n",
       "      <td>Pennsylvania</td>\n",
       "      <td>885.05</td>\n",
       "    </tr>\n",
       "    <tr>\n",
       "      <th>2</th>\n",
       "      <td>2</td>\n",
       "      <td>Myself</td>\n",
       "      <td>Female</td>\n",
       "      <td>30</td>\n",
       "      <td>30-34</td>\n",
       "      <td>Strongly Agree</td>\n",
       "      <td>Strongly Agree</td>\n",
       "      <td>Strongly Agree</td>\n",
       "      <td>Strongly Agree</td>\n",
       "      <td>Agree Some what</td>\n",
       "      <td>...</td>\n",
       "      <td>NO TO: American Indian</td>\n",
       "      <td>NO TO: Other ( please specify)</td>\n",
       "      <td>NO TO: Decline to answer</td>\n",
       "      <td>NaN</td>\n",
       "      <td>Work full time</td>\n",
       "      <td>150</td>\n",
       "      <td>6</td>\n",
       "      <td>0</td>\n",
       "      <td>Illinois</td>\n",
       "      <td>777.58</td>\n",
       "    </tr>\n",
       "    <tr>\n",
       "      <th>3</th>\n",
       "      <td>3</td>\n",
       "      <td>Myself</td>\n",
       "      <td>Female</td>\n",
       "      <td>21</td>\n",
       "      <td>18-24</td>\n",
       "      <td>Agree Some what</td>\n",
       "      <td>Agree Some what</td>\n",
       "      <td>Strongly Agree</td>\n",
       "      <td>Agree Some what</td>\n",
       "      <td>Agree Some what</td>\n",
       "      <td>...</td>\n",
       "      <td>NO TO: American Indian</td>\n",
       "      <td>NO TO: Other ( please specify)</td>\n",
       "      <td>NO TO: Decline to answer</td>\n",
       "      <td>NaN</td>\n",
       "      <td>Work full time</td>\n",
       "      <td>150</td>\n",
       "      <td>5</td>\n",
       "      <td>8</td>\n",
       "      <td>Wisconsin</td>\n",
       "      <td>654.48</td>\n",
       "    </tr>\n",
       "    <tr>\n",
       "      <th>4</th>\n",
       "      <td>4</td>\n",
       "      <td>Myself</td>\n",
       "      <td>Male</td>\n",
       "      <td>43</td>\n",
       "      <td>40-44</td>\n",
       "      <td>Agree Some what</td>\n",
       "      <td>Agree Some what</td>\n",
       "      <td>Agree Some what</td>\n",
       "      <td>Agree Some what</td>\n",
       "      <td>Agree Some what</td>\n",
       "      <td>...</td>\n",
       "      <td>NO TO: American Indian</td>\n",
       "      <td>NO TO: Other ( please specify)</td>\n",
       "      <td>NO TO: Decline to answer</td>\n",
       "      <td>NaN</td>\n",
       "      <td>Not currently employed</td>\n",
       "      <td>213</td>\n",
       "      <td>5</td>\n",
       "      <td>7</td>\n",
       "      <td>New York</td>\n",
       "      <td>437.95</td>\n",
       "    </tr>\n",
       "  </tbody>\n",
       "</table>\n",
       "<p>5 rows × 384 columns</p>\n",
       "</div>"
      ],
      "text/plain": [
       "   Unnamed: 0      S1      S2  S3    hS3             Q1ra             Q1rb  \\\n",
       "0           0  Myself  Female  52  50-54  Agree Some what  Agree Some what   \n",
       "1           1  Myself    Male  39  35-39  Agree Some what  Agree Some what   \n",
       "2           2  Myself  Female  30  30-34   Strongly Agree   Strongly Agree   \n",
       "3           3  Myself  Female  21  18-24  Agree Some what  Agree Some what   \n",
       "4           4  Myself    Male  43  40-44  Agree Some what  Agree Some what   \n",
       "\n",
       "              Q1rd                Q1re             Q1rf  ...  \\\n",
       "0   Strongly Agree     Agree Some what  Agree Some what  ...   \n",
       "1  Agree Some what  Disagree Some what  Agree Some what  ...   \n",
       "2   Strongly Agree      Strongly Agree  Agree Some what  ...   \n",
       "3   Strongly Agree     Agree Some what  Agree Some what  ...   \n",
       "4  Agree Some what     Agree Some what  Agree Some what  ...   \n",
       "\n",
       "                     D7r5                            D7r6  \\\n",
       "0  NO TO: American Indian  NO TO: Other ( please specify)   \n",
       "1  NO TO: American Indian  NO TO: Other ( please specify)   \n",
       "2  NO TO: American Indian  NO TO: Other ( please specify)   \n",
       "3  NO TO: American Indian  NO TO: Other ( please specify)   \n",
       "4  NO TO: American Indian  NO TO: Other ( please specify)   \n",
       "\n",
       "                       D7r7 D7r6oe  \\\n",
       "0  NO TO: Decline to answer    NaN   \n",
       "1  NO TO: Decline to answer    NaN   \n",
       "2  NO TO: Decline to answer    NaN   \n",
       "3  NO TO: Decline to answer    NaN   \n",
       "4  NO TO: Decline to answer    NaN   \n",
       "\n",
       "                                             D8   D9 D10ra D10rb  \\\n",
       "0  Not currently employed, but looking for work  115     5     2   \n",
       "1                                Work full time  275     6     2   \n",
       "2                                Work full time  150     6     0   \n",
       "3                                Work full time  150     5     8   \n",
       "4                        Not currently employed  213     5     7   \n",
       "\n",
       "            D11   qtime  \n",
       "0      Illinois  657.14  \n",
       "1  Pennsylvania  885.05  \n",
       "2      Illinois  777.58  \n",
       "3     Wisconsin  654.48  \n",
       "4      New York  437.95  \n",
       "\n",
       "[5 rows x 384 columns]"
      ]
     },
     "execution_count": 3,
     "metadata": {},
     "output_type": "execute_result"
    }
   ],
   "source": [
    "df.head()"
   ]
  },
  {
   "cell_type": "code",
   "execution_count": 4,
   "metadata": {},
   "outputs": [],
   "source": [
    "df.drop([ 'Unnamed: 0'], axis=1,inplace=True)"
   ]
  },
  {
   "cell_type": "code",
   "execution_count": 5,
   "metadata": {
    "scrolled": false
   },
   "outputs": [
    {
     "data": {
      "text/plain": [
       "(1003, 383)"
      ]
     },
     "execution_count": 5,
     "metadata": {},
     "output_type": "execute_result"
    }
   ],
   "source": [
    "df.shape"
   ]
  },
  {
   "cell_type": "code",
   "execution_count": 6,
   "metadata": {},
   "outputs": [],
   "source": [
    "#sns.heatmap(df.corr().abs(),annot=True)"
   ]
  },
  {
   "cell_type": "markdown",
   "metadata": {},
   "source": [
    "#### Demographic "
   ]
  },
  {
   "cell_type": "markdown",
   "metadata": {},
   "source": [
    "|Section |\tQuestion |\tDescription|binary |multi| type|transform|from|To|\n",
    "|-------|-----------|--------------- |----------|-------|------|-------|-------|-------|\n",
    "| Demographic   |s1    |resposibility|\tyes\t|-\t\t|cat    |\tYes\t|string|0/1|\n",
    "|             \t|s2    |Gender\t     |yes\t|-\t    |cat    |\tYes\t|string|0/1|\n",
    "|            \t|s3    |Age\t         |-\t|Yes    |num\t|\tYes\t|string|int|\n",
    "|           \t|hs3   |Age group    |-    |Yes\t\t|cat\t|   Not yet\t|-|-|\n",
    "|            \t|D2     |number of household members| - | yes |cat|yes |string|int|\n",
    "|           \t|D3     |married or living          | yes | -   |cat|Yes|string|0/1|\n",
    "|            \t|D4     |#children residing with you| - | yes  |cat|Yes|string|int|\n",
    "|            \t|D5     |Education level            | - | yes   |cat|yes |cat|get dummies|\n",
    "|            \t|D6     |Income range before tax    |- | yes |cat|yes |cat|get dummies|\n",
    "|            \t|D7 r1-r7|Ethnicity options         | Yes | -   |cat|Yes|yes|transform into one column|\n",
    "|            \t|D7 r6oe|Ethnicity options-other    | -| Yes   |cat|Yes|yes|transform into one column|\n",
    "|            \t|D8     |work situation             | - | Yes   |cat|yes |cat|get dummies|\n",
    "| \t            |D11    |States                     | -| Yes  |cat|yes |cat|get dummies|"
   ]
  },
  {
   "cell_type": "markdown",
   "metadata": {},
   "source": [
    "Transformations"
   ]
  },
  {
   "cell_type": "code",
   "execution_count": 7,
   "metadata": {},
   "outputs": [
    {
     "name": "stdout",
     "output_type": "stream",
     "text": [
      "['Myself' 'I share the responsibility with someone else']\n",
      "['Female' 'Male']\n",
      "[52 39 30 21 43 26 54 36 20 29 37 62 32 18 65 61 48 59 25 47 45 28 40 31\n",
      " 53 51 57 42 34 24 46 23 27 44 60 64 55 33 56 22 58 41 19 35 50 38 63 49]\n",
      "[ 4  2  3  5  1  6  8 12  7  9]\n",
      "['Yes, married or living with partner'\n",
      " 'No, not married and not living with partner']\n",
      "[ 2.  1.  0.  3.  4.  5. 11.  7.  6.]\n"
     ]
    }
   ],
   "source": [
    "print(df.S1.unique())\n",
    "print(df.S2.unique())\n",
    "print(df.S3.unique())\n",
    "print(df.D2.unique())\n",
    "print(df.D3.unique())\n",
    "print(df.D4.unique())"
   ]
  },
  {
   "cell_type": "code",
   "execution_count": 8,
   "metadata": {},
   "outputs": [],
   "source": [
    "S1 = {\"S1\" : {'Myself':0, 'I share the responsibility with someone else':1}}\n",
    "df.replace(S1, inplace=True)"
   ]
  },
  {
   "cell_type": "code",
   "execution_count": 9,
   "metadata": {},
   "outputs": [],
   "source": [
    "S2 = {\"S2\" : {'Male':0, 'Female':1}}\n",
    "df.replace(S2, inplace=True)"
   ]
  },
  {
   "cell_type": "code",
   "execution_count": 10,
   "metadata": {},
   "outputs": [],
   "source": [
    "df['S3'] = df['S3'].astype(int)"
   ]
  },
  {
   "cell_type": "code",
   "execution_count": 11,
   "metadata": {},
   "outputs": [],
   "source": [
    "df.D3.replace(r' ', np.NaN, inplace= True)"
   ]
  },
  {
   "cell_type": "code",
   "execution_count": 12,
   "metadata": {},
   "outputs": [],
   "source": [
    "df.D4.replace(r' ', np.NaN, inplace= True)"
   ]
  },
  {
   "cell_type": "code",
   "execution_count": 13,
   "metadata": {},
   "outputs": [],
   "source": [
    "df['D4'].fillna(df['D4'].mode()[0], inplace=True)"
   ]
  },
  {
   "cell_type": "code",
   "execution_count": 14,
   "metadata": {},
   "outputs": [
    {
     "data": {
      "text/plain": [
       "array([ 4,  2,  3,  5,  1,  6,  8, 12,  7,  9], dtype=int64)"
      ]
     },
     "execution_count": 14,
     "metadata": {},
     "output_type": "execute_result"
    }
   ],
   "source": [
    "df.D2.unique()"
   ]
  },
  {
   "cell_type": "code",
   "execution_count": 15,
   "metadata": {},
   "outputs": [],
   "source": [
    "df['S3'] = df['S3'].astype(int)"
   ]
  },
  {
   "cell_type": "code",
   "execution_count": 16,
   "metadata": {},
   "outputs": [],
   "source": [
    "df['D4'] = df['D4'].astype(int)"
   ]
  },
  {
   "cell_type": "code",
   "execution_count": 17,
   "metadata": {},
   "outputs": [],
   "source": [
    "df['D2'] = df['D2'].astype(int)"
   ]
  },
  {
   "cell_type": "code",
   "execution_count": 18,
   "metadata": {},
   "outputs": [],
   "source": [
    "df['D3'].fillna(df['D3'].mode()[0], inplace=True)"
   ]
  },
  {
   "cell_type": "code",
   "execution_count": 19,
   "metadata": {},
   "outputs": [],
   "source": [
    "D3 = {\"D3\" : {'No, not married and not living with partner':0, 'Yes, married or living with partner':1}}\n",
    "df.replace(D3, inplace=True)"
   ]
  },
  {
   "cell_type": "code",
   "execution_count": 20,
   "metadata": {},
   "outputs": [
    {
     "data": {
      "text/plain": [
       "array(['Trade or technical school', 'Some college or Associate degree',\n",
       "       \"Attended graduate school or received Advanced degree (Master's, Ph.D.)\",\n",
       "       \"Graduated college/Bachelor's degree\", 'Graduated high school',\n",
       "       'Some high school or less', 'Decline to answer'], dtype=object)"
      ]
     },
     "execution_count": 20,
     "metadata": {},
     "output_type": "execute_result"
    }
   ],
   "source": [
    "df.D5.unique()"
   ]
  },
  {
   "cell_type": "code",
   "execution_count": 21,
   "metadata": {},
   "outputs": [],
   "source": [
    "df['D5'] = [1 if x in ['Trade or technical school', 'Some college or Associate degree',\"Attended graduate school or received Advanced degree (Master's, Ph.D.)\",\n",
    "       \"Graduated college/Bachelor's degree\"] else 0 for x in df['D5']]"
   ]
  },
  {
   "cell_type": "code",
   "execution_count": 22,
   "metadata": {
    "scrolled": true
   },
   "outputs": [
    {
     "data": {
      "text/plain": [
       "D6\n",
       "$100,000 but less than $200,000    104\n",
       "$15,000 but less than $25,000      151\n",
       "$200,000 but less than $300,000     14\n",
       "$25,000 but less than $35,000      133\n",
       "$300,000 but less than $500,000      7\n",
       "$35,000 but less than $50,000      139\n",
       "$50,000 but less than $75,000      186\n",
       "$500,000 or over                     2\n",
       "$75,000 but less than $100,000     106\n",
       "Decline to answer                   46\n",
       "Less than $15,000                  115\n",
       "dtype: int64"
      ]
     },
     "execution_count": 22,
     "metadata": {},
     "output_type": "execute_result"
    }
   ],
   "source": [
    "df.groupby(\"D6\").size()"
   ]
  },
  {
   "cell_type": "code",
   "execution_count": 23,
   "metadata": {},
   "outputs": [
    {
     "data": {
      "text/plain": [
       "368"
      ]
     },
     "execution_count": 23,
     "metadata": {},
     "output_type": "execute_result"
    }
   ],
   "source": [
    "df.columns.get_loc('D6')"
   ]
  },
  {
   "cell_type": "code",
   "execution_count": 24,
   "metadata": {},
   "outputs": [],
   "source": [
    "for i in range(0,1003):\n",
    "        if df.iloc[i,368]=='$500,000 or over':\n",
    "            df.iloc[i,368]= 500000\n",
    "        elif df.iloc[i,368]=='$35,000 but less than $50,000':\n",
    "            df.iloc[i,368]= 42500\n",
    "        elif df.iloc[i,368]=='$300,000 but less than $500,000':\n",
    "            df.iloc[i,368]= 400000\n",
    "        elif df.iloc[i,368]=='$25,000 but less than $35,000':\n",
    "            df.iloc[i,368]= 30000\n",
    "        elif df.iloc[i,368]=='$75,000 but less than $100,000':\n",
    "            df.iloc[i,368]= 87500\n",
    "        elif df.iloc[i,368]=='$50,000 but less than $75,000':\n",
    "            df.iloc[i,368]= 62500\n",
    "        elif df.iloc[i,368]=='$100,000 but less than $200,000':\n",
    "            df.iloc[i,368]= 150000\n",
    "        elif df.iloc[i,368]=='$15,000 but less than $25,000':\n",
    "            df.iloc[i,368]= 20000\n",
    "        elif df.iloc[i,368]=='Decline to answer':\n",
    "            df.iloc[i,368]= 62500\n",
    "        elif df.iloc[i,368]=='$200,000 but less than $300,000':\n",
    "            df.iloc[i,368]= 250000\n",
    "        else:\n",
    "            df.iloc[i,368]=15000"
   ]
  },
  {
   "cell_type": "code",
   "execution_count": 25,
   "metadata": {},
   "outputs": [
    {
     "name": "stdout",
     "output_type": "stream",
     "text": [
      "['White /Anglo/Caucasian' 'NO TO: White /Anglo/Caucasian']\n",
      "['NO TO: Hispanic' 'Hispanic']\n",
      "['NO TO: Black/African American' 'Black/African American']\n",
      "['NO TO: Asian/Oriental' 'Asian/Oriental']\n",
      "['NO TO: American Indian' 'American Indian']\n",
      "['NO TO: Other ( please specify)' 'Other ( please specify)']\n",
      "['NO TO: Decline to answer' 'Decline to answer']\n",
      "[nan 'South Asian' 'middle eastern' 'caribbean' 'Mixed Race' 'Hawaiian'\n",
      " 'italian' 'pacific isalnder']\n"
     ]
    }
   ],
   "source": [
    "print(df.D7r1.unique())\n",
    "print(df.D7r2.unique())\n",
    "print(df.D7r3.unique())\n",
    "print(df.D7r4.unique())\n",
    "print(df.D7r5.unique())\n",
    "print(df.D7r6.unique())\n",
    "print(df.D7r7.unique())\n",
    "print(df.D7r6oe.unique())"
   ]
  },
  {
   "cell_type": "code",
   "execution_count": 26,
   "metadata": {},
   "outputs": [],
   "source": [
    "def f(df):\n",
    "    if df['D7r1'] == 'White /Anglo/Caucasian':\n",
    "        val = 1\n",
    "    elif df['D7r2'] =='Hispanic':\n",
    "        val = 2\n",
    "    elif df['D7r3'] =='Black/African American':\n",
    "        val = 3\n",
    "    elif df['D7r4'] =='Asian/Oriental':\n",
    "        val = 4\n",
    "    elif df['D7r5'] =='American Indian':\n",
    "        val = 5\n",
    "    elif df['D7r7'] =='Decline to answer':\n",
    "        val = 0\n",
    "    else:\n",
    "        val = 6\n",
    "    return val"
   ]
  },
  {
   "cell_type": "code",
   "execution_count": 27,
   "metadata": {},
   "outputs": [],
   "source": [
    " df['D7'] = df.apply(f, axis=1)"
   ]
  },
  {
   "cell_type": "code",
   "execution_count": 28,
   "metadata": {},
   "outputs": [
    {
     "data": {
      "text/plain": [
       "0"
      ]
     },
     "execution_count": 28,
     "metadata": {},
     "output_type": "execute_result"
    }
   ],
   "source": [
    "df.D7.isnull().sum()"
   ]
  },
  {
   "cell_type": "code",
   "execution_count": 29,
   "metadata": {},
   "outputs": [],
   "source": [
    "s=df.groupby('D7').size()\n",
    "bar_D7=s.to_frame()\n",
    "bar_D7.reset_index(inplace=True)\n",
    "bar_D7.rename(columns = {0:'value'}, inplace = True)\n",
    "#bar_D7_1=bar_D7.sort_values('value', ascending=False)"
   ]
  },
  {
   "cell_type": "code",
   "execution_count": 30,
   "metadata": {},
   "outputs": [
    {
     "data": {
      "image/png": "[encoded data removed]",
      "text/plain": [
       "<Figure size 432x288 with 1 Axes>"
      ]
     },
     "metadata": {},
     "output_type": "display_data"
    }
   ],
   "source": [
    "# DONUT chart\n",
    "labels = bar_D7['D7']\n",
    "sizes = bar_D7['value']\n",
    "#,'#42326B',\"#34495e\",'#9D8DC7', \"#F1BDBD\"\n",
    "colors = ['#D63333','#DE5C5C','#42326B','#34495e',\"#34495e\",'#9D8DC7', \"#F1BDBD\"]\n",
    " \n",
    "fig1, ax1 = plt.subplots()\n",
    "ax1.pie(sizes, colors = colors, labels=labels, autopct='%1.1f%%', startangle=90)\n",
    "#draw circle\n",
    "centre_circle = plt.Circle((0,0),0.70,fc='white')\n",
    "fig = plt.gcf()\n",
    "fig.gca().add_artist(centre_circle)\n",
    "# Equal aspect ratio ensures that pie is drawn as a circle\n",
    "ax1.axis('equal')  \n",
    "plt.tight_layout()\n",
    "plt.show()"
   ]
  },
  {
   "cell_type": "code",
   "execution_count": 31,
   "metadata": {},
   "outputs": [],
   "source": [
    "demographic_columns=['S1','S2', 'S3', 'hS3','D2','D3','D4','D5','D6','D8', 'D11','D7']\n",
    "df_dem=df.loc[:, demographic_columns]"
   ]
  },
  {
   "cell_type": "code",
   "execution_count": 32,
   "metadata": {
    "scrolled": true
   },
   "outputs": [
    {
     "name": "stdout",
     "output_type": "stream",
     "text": [
      "<class 'pandas.core.frame.DataFrame'>\n",
      "RangeIndex: 1003 entries, 0 to 1002\n",
      "Data columns (total 12 columns):\n",
      " #   Column  Non-Null Count  Dtype \n",
      "---  ------  --------------  ----- \n",
      " 0   S1      1003 non-null   int64 \n",
      " 1   S2      1003 non-null   int64 \n",
      " 2   S3      1003 non-null   int32 \n",
      " 3   hS3     1003 non-null   object\n",
      " 4   D2      1003 non-null   int32 \n",
      " 5   D3      1003 non-null   int64 \n",
      " 6   D4      1003 non-null   int32 \n",
      " 7   D5      1003 non-null   int64 \n",
      " 8   D6      1003 non-null   object\n",
      " 9   D8      1003 non-null   object\n",
      " 10  D11     1003 non-null   object\n",
      " 11  D7      1003 non-null   int64 \n",
      "dtypes: int32(3), int64(5), object(4)\n",
      "memory usage: 82.4+ KB\n"
     ]
    }
   ],
   "source": [
    "df_dem.info()"
   ]
  },
  {
   "cell_type": "code",
   "execution_count": 33,
   "metadata": {},
   "outputs": [
    {
     "data": {
      "text/plain": [
       "<matplotlib.axes._subplots.AxesSubplot at 0x20250625e80>"
      ]
     },
     "execution_count": 33,
     "metadata": {},
     "output_type": "execute_result"
    },
    {
     "data": {
      "image/png": "[encoded data removed]",
      "text/plain": [
       "<Figure size 432x288 with 2 Axes>"
      ]
     },
     "metadata": {
      "needs_background": "light"
     },
     "output_type": "display_data"
    }
   ],
   "source": [
    "sns.heatmap(df_dem.corr().abs(),annot=True)"
   ]
  },
  {
   "cell_type": "markdown",
   "metadata": {},
   "source": [
    "#### Physical health "
   ]
  },
  {
   "cell_type": "markdown",
   "metadata": {},
   "source": [
    "|Section |\tQuestion |\tDescription|values.count |options.count| type|\n",
    "|-------|-----------|--------------- |----------|-------|------|\n",
    "|            \t|D9     |weight pound               |194| -   |num|\n",
    "| \t            |D10ra  |height ft                  | 5 | -   |num|\n",
    "| \t            |D10rb  |height inch                | 13| -   |num|"
   ]
  },
  {
   "cell_type": "code",
   "execution_count": 34,
   "metadata": {},
   "outputs": [],
   "source": [
    "PHH_columns=['D9','D10ra', 'D10rb']\n",
    "df_PHH=df.loc[:, PHH_columns]"
   ]
  },
  {
   "cell_type": "markdown",
   "metadata": {},
   "source": [
    "We will calculate BMI as a measure of physical health."
   ]
  },
  {
   "cell_type": "code",
   "execution_count": 35,
   "metadata": {},
   "outputs": [],
   "source": [
    "#BMI = (Weight in Pounds / (Height in inches) x (Height in inches)\t) x 703\n",
    "df['BMI']=(df['D9']/(12*df[\"D10ra\"]+df[\"D10rb\"])**2)*703"
   ]
  },
  {
   "cell_type": "code",
   "execution_count": 36,
   "metadata": {
    "scrolled": false
   },
   "outputs": [
    {
     "data": {
      "text/plain": [
       "<bound method IndexOpsMixin.nunique of 0       21.031478\n",
       "1       35.304054\n",
       "2       20.341435\n",
       "3       22.804931\n",
       "4       33.356872\n",
       "          ...    \n",
       "998     24.370667\n",
       "999     25.821855\n",
       "1000    63.503418\n",
       "1001    21.945890\n",
       "1002    34.967561\n",
       "Name: BMI, Length: 1003, dtype: float64>"
      ]
     },
     "execution_count": 36,
     "metadata": {},
     "output_type": "execute_result"
    }
   ],
   "source": [
    "df.BMI.nunique"
   ]
  },
  {
   "cell_type": "code",
   "execution_count": 37,
   "metadata": {},
   "outputs": [],
   "source": [
    "def g(df):\n",
    "    if (df['BMI'] <= 18.5):\n",
    "        val = 0\n",
    "    elif (df['BMI'] > 18.5 and df['BMI'] <= 24.9):\n",
    "        val = 1\n",
    "    elif (df['BMI'] > 25.0 and df['BMI']<= 29.9):\n",
    "        val = 2\n",
    "    else:\n",
    "        val = 3\n",
    "    return val"
   ]
  },
  {
   "cell_type": "code",
   "execution_count": 38,
   "metadata": {},
   "outputs": [],
   "source": [
    "df[\"BMI_group\"]=df.apply(g, axis=1)"
   ]
  },
  {
   "cell_type": "code",
   "execution_count": 39,
   "metadata": {},
   "outputs": [
    {
     "data": {
      "text/plain": [
       "0       1\n",
       "1       3\n",
       "2       1\n",
       "3       1\n",
       "4       3\n",
       "       ..\n",
       "998     1\n",
       "999     2\n",
       "1000    3\n",
       "1001    1\n",
       "1002    3\n",
       "Name: BMI_group, Length: 1003, dtype: int64"
      ]
     },
     "execution_count": 39,
     "metadata": {},
     "output_type": "execute_result"
    }
   ],
   "source": [
    "df[\"BMI_group\"]"
   ]
  },
  {
   "cell_type": "code",
   "execution_count": 40,
   "metadata": {},
   "outputs": [],
   "source": [
    "s=df.groupby('BMI_group').size()\n",
    "bar_BMI=s.to_frame()\n",
    "bar_BMI.reset_index(inplace=True)\n",
    "bar_BMI.rename(columns = {0:'value'}, inplace = True)\n",
    "#bar_D7_1=bar_D7.sort_values('value', ascending=False)"
   ]
  },
  {
   "cell_type": "code",
   "execution_count": 41,
   "metadata": {},
   "outputs": [
    {
     "data": {
      "image/png": "[encoded data removed]",
      "text/plain": [
       "<Figure size 432x288 with 1 Axes>"
      ]
     },
     "metadata": {},
     "output_type": "display_data"
    }
   ],
   "source": [
    "# DONUT chart\n",
    "labels = bar_BMI['BMI_group']\n",
    "sizes = bar_BMI['value']\n",
    "#,'#42326B',\"#34495e\",'#9D8DC7', \"#F1BDBD\"\n",
    "colors = ['#D63333','#DE5C5C','#42326B','#34495e',\"#34495e\",'#9D8DC7', \"#F1BDBD\"]\n",
    " \n",
    "fig1, ax1 = plt.subplots()\n",
    "ax1.pie(sizes, colors = colors, labels=labels, autopct='%1.1f%%', startangle=90)\n",
    "#draw circle\n",
    "centre_circle = plt.Circle((0,0),0.70,fc='white')\n",
    "fig = plt.gcf()\n",
    "fig.gca().add_artist(centre_circle)\n",
    "# Equal aspect ratio ensures that pie is drawn as a circle\n",
    "ax1.axis('equal')  \n",
    "plt.tight_layout()\n",
    "plt.show()"
   ]
  },
  {
   "cell_type": "markdown",
   "metadata": {},
   "source": [
    "- 0:underwieght\n",
    "- 1:normal\n",
    "- 2:overweight\n",
    "- 3:obese"
   ]
  },
  {
   "cell_type": "markdown",
   "metadata": {},
   "source": [
    "#### Current mental state"
   ]
  },
  {
   "cell_type": "markdown",
   "metadata": {},
   "source": [
    "|Section |\tQuestion |\tDescription|binary |multi| type|transform|from|To|\n",
    "|-------|-----------|--------------- |----------|-------|------|-------|-------|-------|\n",
    "|Q1             |ra-rt |Attitude     |4\t    |4\t\t|cat\t|  No\t|-||\n",
    "|               |hra-hrt|Attitude    |4     |4\t\t|points   |No\t|-|\n",
    "|               |       |            |      |       |         |     | |\n",
    "|Q2           \t|ra-rb |ideal\t     |2     |2\t\t|cat-blank|don't use  | |\n",
    "|           \t|hra-hrb|            |2\t    |2\t\t|points\t  |No   |-|\n",
    "|               |       |            |      |       |         |     | |\n",
    "|Q3\t            |ra-rc\t|everyday mood|2\t|2\t\t|cat-blank|don't use | |\n",
    "|             \t|hra-hrc|             |2\t|2\t\t|points\t  |No\t|-|\n",
    "|               |       |            |      |       |         |     | |\n",
    "|Q4\t            |       |weight goal  |5\t|5\t\t|cat\t  |-   |-|\n",
    "|               |hQ4    |weight goal  |5    |5      |points   |No   |-|\n",
    "|Q5          \t|       |weightgoalnumeric|\t5 |\t5\t|cat      |-  |-|\t\n",
    "|               |hQ5    |weightgaolnumeric| 5 | 5   |points   |No  |-|\n",
    "|Q6\t            |       |Exercise freq.\t  | 6 |\t6\t|cat\t  |-   |-|\n",
    "|               |hQ6    |Exercise freq.\t  | 6 | 6   |points   |No   |-|\n",
    "|               |       |            |      |       |         |     | |\n",
    "|POINTS         |       |Test point       |75 | -   |num      |Yes  |number|groups|\n",
    "|qtime \t        |       |interview time             |997| -   |num|No |-|-|"
   ]
  },
  {
   "cell_type": "markdown",
   "metadata": {},
   "source": [
    "For the attitude questions 1,2,3 will use the survey's point system."
   ]
  },
  {
   "cell_type": "code",
   "execution_count": 42,
   "metadata": {},
   "outputs": [
    {
     "data": {
      "text/plain": [
       "49"
      ]
     },
     "execution_count": 42,
     "metadata": {},
     "output_type": "execute_result"
    }
   ],
   "source": [
    "df.columns.get_loc(\"hQ4\") #21\n",
    "#df.columns.get_loc(\"hQ1rt\") #37"
   ]
  },
  {
   "cell_type": "code",
   "execution_count": 43,
   "metadata": {},
   "outputs": [],
   "source": [
    "attitude_columns=['hQ1ra','hQ1rb','hQ1rd','hQ1re','hQ1rf', 'hQ1rh', 'hQ1ri', 'hQ1rj','hQ1rk', 'hQ1rm', 'hQ1rn', 'hQ1ro', 'hQ1rp', 'hQ1rq'\n",
    " , 'hQ1rr', 'hQ1rs','hQ1rt','hQ2ra','hQ2rb','hQ3ra','hQ3rb','hQ3rc','hQ4','hQ5','hQ6']"
   ]
  },
  {
   "cell_type": "code",
   "execution_count": 44,
   "metadata": {},
   "outputs": [],
   "source": [
    "df_attitude=df.loc[:, attitude_columns]"
   ]
  },
  {
   "cell_type": "code",
   "execution_count": 45,
   "metadata": {
    "scrolled": true
   },
   "outputs": [
    {
     "name": "stdout",
     "output_type": "stream",
     "text": [
      "<class 'pandas.core.frame.DataFrame'>\n",
      "RangeIndex: 1003 entries, 0 to 1002\n",
      "Data columns (total 25 columns):\n",
      " #   Column  Non-Null Count  Dtype  \n",
      "---  ------  --------------  -----  \n",
      " 0   hQ1ra   1003 non-null   int64  \n",
      " 1   hQ1rb   1003 non-null   int64  \n",
      " 2   hQ1rd   1003 non-null   int64  \n",
      " 3   hQ1re   1003 non-null   int64  \n",
      " 4   hQ1rf   1003 non-null   int64  \n",
      " 5   hQ1rh   1003 non-null   int64  \n",
      " 6   hQ1ri   1003 non-null   int64  \n",
      " 7   hQ1rj   1003 non-null   int64  \n",
      " 8   hQ1rk   1003 non-null   int64  \n",
      " 9   hQ1rm   1003 non-null   int64  \n",
      " 10  hQ1rn   1003 non-null   int64  \n",
      " 11  hQ1ro   1003 non-null   int64  \n",
      " 12  hQ1rp   1003 non-null   int64  \n",
      " 13  hQ1rq   1003 non-null   int64  \n",
      " 14  hQ1rr   1003 non-null   int64  \n",
      " 15  hQ1rs   1003 non-null   int64  \n",
      " 16  hQ1rt   1003 non-null   int64  \n",
      " 17  hQ2ra   1003 non-null   int64  \n",
      " 18  hQ2rb   1003 non-null   int64  \n",
      " 19  hQ3ra   1003 non-null   int64  \n",
      " 20  hQ3rb   1003 non-null   int64  \n",
      " 21  hQ3rc   1003 non-null   int64  \n",
      " 22  hQ4     1003 non-null   int64  \n",
      " 23  hQ5     1003 non-null   float64\n",
      " 24  hQ6     1003 non-null   int64  \n",
      "dtypes: float64(1), int64(24)\n",
      "memory usage: 196.0 KB\n"
     ]
    }
   ],
   "source": [
    "df_attitude.info()"
   ]
  },
  {
   "cell_type": "code",
   "execution_count": 46,
   "metadata": {},
   "outputs": [
    {
     "data": {
      "text/plain": [
       "0"
      ]
     },
     "execution_count": 46,
     "metadata": {},
     "output_type": "execute_result"
    }
   ],
   "source": [
    "df_attitude.isnull().any().sum()"
   ]
  },
  {
   "cell_type": "markdown",
   "metadata": {},
   "source": [
    "#### POINTS"
   ]
  },
  {
   "cell_type": "code",
   "execution_count": 47,
   "metadata": {},
   "outputs": [],
   "source": [
    "df.POINTS.replace(r' ', np.NaN, inplace= True)"
   ]
  },
  {
   "cell_type": "code",
   "execution_count": 48,
   "metadata": {},
   "outputs": [],
   "source": [
    "df.POINTS.replace(r'', np.NaN, inplace= True)"
   ]
  },
  {
   "cell_type": "code",
   "execution_count": 49,
   "metadata": {},
   "outputs": [],
   "source": [
    "df['points']= df.loc[:, attitude_columns].sum(axis=1)"
   ]
  },
  {
   "cell_type": "code",
   "execution_count": 50,
   "metadata": {},
   "outputs": [
    {
     "data": {
      "text/plain": [
       "0       19.0\n",
       "1       18.0\n",
       "2        6.0\n",
       "3        0.0\n",
       "4       20.0\n",
       "        ... \n",
       "998      8.0\n",
       "999     28.0\n",
       "1000   -18.0\n",
       "1001    15.0\n",
       "1002   -15.0\n",
       "Name: points, Length: 1003, dtype: float64"
      ]
     },
     "execution_count": 50,
     "metadata": {},
     "output_type": "execute_result"
    }
   ],
   "source": [
    "df[\"points\"]"
   ]
  },
  {
   "cell_type": "code",
   "execution_count": 51,
   "metadata": {},
   "outputs": [
    {
     "data": {
      "text/plain": [
       "0       19.0\n",
       "1       18.0\n",
       "2        6.0\n",
       "3        0.0\n",
       "4       20.0\n",
       "        ... \n",
       "998      8.0\n",
       "999     28.0\n",
       "1000   -18.0\n",
       "1001    15.0\n",
       "1002   -15.0\n",
       "Name: POINTS, Length: 1003, dtype: float64"
      ]
     },
     "execution_count": 51,
     "metadata": {},
     "output_type": "execute_result"
    }
   ],
   "source": [
    "df['POINTS'] "
   ]
  },
  {
   "cell_type": "code",
   "execution_count": 52,
   "metadata": {},
   "outputs": [],
   "source": [
    "df['POINTS'] = df['POINTS'].astype(float)"
   ]
  },
  {
   "cell_type": "code",
   "execution_count": 53,
   "metadata": {},
   "outputs": [],
   "source": [
    "df['points'] = df['points'].astype(int)"
   ]
  },
  {
   "cell_type": "markdown",
   "metadata": {},
   "source": [
    " SCORING SYSTEM - ADD UP THE TOTAL POINTS ON Q1-6\n",
    "- SCORE OF 34 or Higher is Epitomizing Wellness\n",
    "- SCORE OF 17 to 33 is Aspiring to Wellness\n",
    "- SCORE OF 0 to 16 is Sacrificing Wellness\n",
    "- SCORE OF -1 to -16 is Scrambling for Wellness\n",
    "- SCORE OF -17 to -33 is Compromised Wellness\n",
    "- SCORE OF -34 or lower is Neglected Wellness"
   ]
  },
  {
   "cell_type": "code",
   "execution_count": 54,
   "metadata": {},
   "outputs": [],
   "source": [
    "def g2(df):\n",
    "    if (df['POINTS'] <= -34):\n",
    "        val = 1\n",
    "    elif (df['POINTS'] >= -33 and df['BMI'] <= -17):\n",
    "        val = 2\n",
    "    elif (df['POINTS'] >= -16 and df['BMI']<= -1):\n",
    "        val = 3\n",
    "    elif (df['POINTS'] >= 0 and df['BMI'] <= 16):\n",
    "        val = 4\n",
    "    elif (df['POINTS'] >= 17 and df['BMI']<= 33):\n",
    "        val = 5\n",
    "    else:\n",
    "        val = 6\n",
    "    return val"
   ]
  },
  {
   "cell_type": "code",
   "execution_count": 55,
   "metadata": {},
   "outputs": [],
   "source": [
    "df[\"attitude_group\"]=df.apply(g2, axis=1)"
   ]
  },
  {
   "cell_type": "code",
   "execution_count": 56,
   "metadata": {},
   "outputs": [
    {
     "data": {
      "text/plain": [
       "0       5\n",
       "1       6\n",
       "2       6\n",
       "3       6\n",
       "4       6\n",
       "       ..\n",
       "998     6\n",
       "999     5\n",
       "1000    6\n",
       "1001    6\n",
       "1002    6\n",
       "Name: attitude_group, Length: 1003, dtype: int64"
      ]
     },
     "execution_count": 56,
     "metadata": {},
     "output_type": "execute_result"
    }
   ],
   "source": [
    "df[\"attitude_group\"]"
   ]
  },
  {
   "cell_type": "code",
   "execution_count": 57,
   "metadata": {},
   "outputs": [],
   "source": [
    "#df.qtime.unique()\n",
    "#might not use this at all"
   ]
  },
  {
   "cell_type": "markdown",
   "metadata": {},
   "source": [
    " Outlier detection"
   ]
  },
  {
   "cell_type": "code",
   "execution_count": 58,
   "metadata": {},
   "outputs": [
    {
     "name": "stdout",
     "output_type": "stream",
     "text": [
      "[ 0.34871726  0.29956356  0.32274178 ... 13.03650447 14.82775352\n",
      "  8.20843215]\n"
     ]
    }
   ],
   "source": [
    "from scipy import stats\n",
    "import numpy as np\n",
    "z = np.abs(stats.zscore(df['qtime']))\n",
    "print(z)"
   ]
  },
  {
   "cell_type": "code",
   "execution_count": 59,
   "metadata": {},
   "outputs": [],
   "source": [
    "df_not = df.qtime[(z < 3)]"
   ]
  },
  {
   "cell_type": "code",
   "execution_count": 60,
   "metadata": {},
   "outputs": [
    {
     "data": {
      "text/plain": [
       "(991,)"
      ]
     },
     "execution_count": 60,
     "metadata": {},
     "output_type": "execute_result"
    }
   ],
   "source": [
    "df_not.shape"
   ]
  },
  {
   "cell_type": "markdown",
   "metadata": {},
   "source": [
    "### Eating habits"
   ]
  },
  {
   "cell_type": "markdown",
   "metadata": {},
   "source": [
    "Foods and sources"
   ]
  },
  {
   "cell_type": "markdown",
   "metadata": {},
   "source": [
    "|Section |\tQuestion |\tDescription|binary |multi| type|transform|from|To|\n",
    "|-------|-----------|--------------- |----------|-------|------|-------|-------|-------|\n",
    "|Q7\t            |1raa-13rfb| How frequent you eat stuff|7|  7  |cat|yes |multi|binary|\n",
    "|Q8\t            |ra-ri    | Stores                    |7|  7  |cat|yes |multi|binary|\t"
   ]
  },
  {
   "cell_type": "code",
   "execution_count": 61,
   "metadata": {
    "scrolled": true
   },
   "outputs": [
    {
     "data": {
      "text/plain": [
       "array(['Every day', 'Several times a week', 'Once a month',\n",
       "       'Several times a month', 'Never', 'Several times a year',\n",
       "       'Once a year or less'], dtype=object)"
      ]
     },
     "execution_count": 61,
     "metadata": {},
     "output_type": "execute_result"
    }
   ],
   "source": [
    "df.Q7_1raa.unique()"
   ]
  },
  {
   "cell_type": "markdown",
   "metadata": {},
   "source": [
    " |level|point|\n",
    " |-----|-----|\n",
    " |Every day|   365|\n",
    " |Several times a week| 156|\n",
    " |Several times a month| 72|\n",
    " |Once a month|12|\n",
    " |Several times a year|5|\n",
    " |Once a year or less| 1|\n",
    " |Never|0|\n",
    " "
   ]
  },
  {
   "cell_type": "code",
   "execution_count": 62,
   "metadata": {
    "scrolled": false
   },
   "outputs": [
    {
     "data": {
      "text/plain": [
       "185"
      ]
     },
     "execution_count": 62,
     "metadata": {},
     "output_type": "execute_result"
    }
   ],
   "source": [
    "df.columns.get_loc(\"Q7_1raa\")#55\n",
    "df.columns.get_loc(\"Q7_13rfb\")"
   ]
  },
  {
   "cell_type": "code",
   "execution_count": 63,
   "metadata": {},
   "outputs": [],
   "source": [
    "df_food=df.iloc[:,55:186]"
   ]
  },
  {
   "cell_type": "markdown",
   "metadata": {},
   "source": [
    "If we are consuming an item <'Every day','Several times a week','Several times a month'> it means that we are consuming it alot x=1 and if not we are not consuming it alot x=0."
   ]
  },
  {
   "cell_type": "code",
   "execution_count": 64,
   "metadata": {},
   "outputs": [],
   "source": [
    "for column in df_food.columns :\n",
    "    df[column] = [1 if x in ['Every day','Several times a week','Several times a month'] else 0 for x in df[column]]"
   ]
  },
  {
   "cell_type": "code",
   "execution_count": 65,
   "metadata": {},
   "outputs": [
    {
     "data": {
      "text/plain": [
       "Q7_1raa\n",
       "0    591\n",
       "1    412\n",
       "dtype: int64"
      ]
     },
     "execution_count": 65,
     "metadata": {},
     "output_type": "execute_result"
    }
   ],
   "source": [
    "df.groupby('Q7_1raa').size()\n",
    "#Q7_1raa\n",
    "#0    591\n",
    "#1    412"
   ]
  },
  {
   "cell_type": "code",
   "execution_count": 66,
   "metadata": {
    "scrolled": true
   },
   "outputs": [
    {
     "data": {
      "text/plain": [
       "array(['About once a week', 'About once a month',\n",
       "       'Two times a week or more', 'Less than monthly',\n",
       "       'About once every two weeks', 'Not in the past several months'],\n",
       "      dtype=object)"
      ]
     },
     "execution_count": 66,
     "metadata": {},
     "output_type": "execute_result"
    }
   ],
   "source": [
    "df.Q8ra.unique()"
   ]
  },
  {
   "cell_type": "markdown",
   "metadata": {},
   "source": [
    " |level|point|\n",
    " |-----|-----|\n",
    " |Two times a week or more|   100|\n",
    " |About once a week| 50|\n",
    " |About once every two weeks| 24|\n",
    " |About once a month|12|\n",
    " |Less than monthly|6|\n",
    " |Not in the past several months|0|\n",
    " \n",
    " \n",
    " "
   ]
  },
  {
   "cell_type": "code",
   "execution_count": 67,
   "metadata": {
    "scrolled": false
   },
   "outputs": [
    {
     "data": {
      "text/plain": [
       "194"
      ]
     },
     "execution_count": 67,
     "metadata": {},
     "output_type": "execute_result"
    }
   ],
   "source": [
    "df.columns.get_loc(\"Q8ra\")#186\n",
    "df.columns.get_loc(\"Q8ri\")#194"
   ]
  },
  {
   "cell_type": "code",
   "execution_count": 68,
   "metadata": {},
   "outputs": [],
   "source": [
    "df_store=df.iloc[:,186:195]"
   ]
  },
  {
   "cell_type": "markdown",
   "metadata": {},
   "source": [
    "If we areare buying from a store <'Two times a week or more','About once a week','About once every two weeks','About once a month'> it means that we are buying from it frequent enough x=1 and if not we are not frequently buying from it."
   ]
  },
  {
   "cell_type": "code",
   "execution_count": 69,
   "metadata": {},
   "outputs": [],
   "source": [
    "for column in df_store.columns :\n",
    "    df[column] = [1 if x in ['Two times a week or more','About once a week','About once every two weeks','About once a month'] else 0 for x in df[column]]"
   ]
  },
  {
   "cell_type": "code",
   "execution_count": 70,
   "metadata": {},
   "outputs": [
    {
     "data": {
      "text/plain": [
       "Q8ra\n",
       "0    149\n",
       "1    854\n",
       "dtype: int64"
      ]
     },
     "execution_count": 70,
     "metadata": {},
     "output_type": "execute_result"
    }
   ],
   "source": [
    "df.groupby('Q8ra').size()\n",
    "#Q7_1raa\n",
    "#0    591\n",
    "#1    412\n",
    "#854=177+379+170+128 #1"
   ]
  },
  {
   "cell_type": "markdown",
   "metadata": {},
   "source": [
    "Food preparations"
   ]
  },
  {
   "cell_type": "markdown",
   "metadata": {},
   "source": [
    "|Section |\tQuestion |\tDescription|binary |multi| type|transform|from|To|\n",
    "|-------|-----------|--------------- |----------|-------|------|-------|-------|-------|\n",
    "|Q13\t        |          | preparing time            |6|  6 |cat|Yes|multi |bin|\t\t\t\n",
    "|Q14\t        |          | cooking time              |7|  7 |cat|Yes|multi |bin|\t\t\t\t\n",
    "|Q15\t        |ra-rh     | cooking kitchen appliance |2|  2 |cat|Yes| multi|bin|"
   ]
  },
  {
   "cell_type": "code",
   "execution_count": 71,
   "metadata": {
    "scrolled": true
   },
   "outputs": [
    {
     "data": {
      "text/plain": [
       "array(['16-30 minutes', '31-45 minutes', 'Less than five minutes',\n",
       "       '6-15 minutes', '46-60 minutes', 'Over one hour'], dtype=object)"
      ]
     },
     "execution_count": 71,
     "metadata": {},
     "output_type": "execute_result"
    }
   ],
   "source": [
    "df.Q13.unique()"
   ]
  },
  {
   "cell_type": "code",
   "execution_count": 72,
   "metadata": {},
   "outputs": [
    {
     "data": {
      "text/plain": [
       "Q13\n",
       "16-30 minutes             339\n",
       "31-45 minutes             101\n",
       "46-60 minutes              55\n",
       "6-15 minutes              248\n",
       "Less than five minutes    236\n",
       "Over one hour              24\n",
       "dtype: int64"
      ]
     },
     "execution_count": 72,
     "metadata": {},
     "output_type": "execute_result"
    }
   ],
   "source": [
    "df.groupby('Q13').size()"
   ]
  },
  {
   "cell_type": "code",
   "execution_count": 73,
   "metadata": {},
   "outputs": [],
   "source": [
    "df['Q13_bin'] = [1 if x in ['Over one hour','46-60 minutes','31-45 minutes'] else 0 for x in df['Q13']]"
   ]
  },
  {
   "cell_type": "code",
   "execution_count": 74,
   "metadata": {
    "scrolled": true
   },
   "outputs": [
    {
     "data": {
      "text/plain": [
       "Q13_bin\n",
       "0    823\n",
       "1    180\n",
       "dtype: int64"
      ]
     },
     "execution_count": 74,
     "metadata": {},
     "output_type": "execute_result"
    }
   ],
   "source": [
    "df.groupby('Q13_bin').size()"
   ]
  },
  {
   "cell_type": "code",
   "execution_count": 75,
   "metadata": {},
   "outputs": [
    {
     "data": {
      "text/plain": [
       "Q14\n",
       "16-30 minutes                                    354\n",
       "31-45 minutes                                    163\n",
       "46-60 minutes                                     62\n",
       "6-15 minutes                                     193\n",
       "Less than five minutes                           167\n",
       "Over one hour                                     45\n",
       "Put something in the crock pot in the morning     19\n",
       "dtype: int64"
      ]
     },
     "execution_count": 75,
     "metadata": {},
     "output_type": "execute_result"
    }
   ],
   "source": [
    "df.groupby('Q14').size()"
   ]
  },
  {
   "cell_type": "code",
   "execution_count": 76,
   "metadata": {},
   "outputs": [],
   "source": [
    "df['Q14_bin'] = [1 if x in ['Over one hour','46-60 minutes','31-45 minutes','Put something in the crock pot in the morning'] else 0 for x in df['Q14']]"
   ]
  },
  {
   "cell_type": "code",
   "execution_count": 77,
   "metadata": {
    "scrolled": false
   },
   "outputs": [
    {
     "data": {
      "text/plain": [
       "Q14_bin\n",
       "0    714\n",
       "1    289\n",
       "dtype: int64"
      ]
     },
     "execution_count": 77,
     "metadata": {},
     "output_type": "execute_result"
    }
   ],
   "source": [
    "df.groupby('Q14_bin').size()"
   ]
  },
  {
   "cell_type": "code",
   "execution_count": 78,
   "metadata": {},
   "outputs": [],
   "source": [
    "df['Q15ra'] = [1 if x =='Stove top' else 0 for x in df['Q15ra']]\n",
    "df['Q15rb'] = [1 if x =='Microwave' else 0 for x in df['Q15rb']]\n",
    "df['Q15rc'] = [1 if x =='Oven/Broiler' else 0 for x in df['Q15rc']]\n",
    "df['Q15rd'] = [1 if x =='Toaster Oven' else 0 for x in df['Q15rd']]\n",
    "df['Q15re'] = [1 if x =='Crock Pot' else 0 for x in df['Q15re']]\n",
    "df['Q15rf'] = [1 if x =='BBQ Grill' else 0 for x in df['Q15rf']]\n",
    "df['Q15rg'] = [1 if x =='Blender' else 0 for x in df['Q15rg']]\n",
    "df['Q15rh'] = [1 if x =='Food Processor' else 0 for x in df['Q15rh']]"
   ]
  },
  {
   "cell_type": "markdown",
   "metadata": {},
   "source": [
    "Dinner experience"
   ]
  },
  {
   "cell_type": "markdown",
   "metadata": {},
   "source": [
    "|Section |\tQuestion |\tDescription|binary |multi| type|transform|from|To|\n",
    "|-------|-----------|--------------- |----------|-------|------|-------|-------|-------|\n",
    "|Q9\t            |c1-c4    | Dinner 4 nights           |11|12  |cat|Yes|multi|bin|\n",
    "|Q10\t        |r1-r4    | Dinner place              |3|  3  |cat|Yes|cat|num|\t\n",
    "|Q11\t        |ra-rff   | Mood for dinner prep      |2|  2  |cat|Yes |cat|num\t\n",
    "|Q12\t        |ra-rhh   | last night dinner         |2|  2  |cat|No |cat|num|\n",
    "|    \t        |rzoe-rhhoe| last night dinner        |42/19|-|cat|Yes| drop|-|\n",
    "|Q16\t        |ra-rk     | type of dinner companion  |7|  7 |cat|No idea|? |\t\n",
    "|Q17\t        |          | Satisfaction w dinner     |10|  10 |cat|yes|cat|num|\n",
    "|   \t        |          |                           |  |     |   |  | |\n",
    "|   \t        |          |                           |  |     |   |  | |\n",
    "|Q18\t        |          | satisfaction w healthy dinner|4|  4 |cat|Yes|cat |\tnum|\n",
    "|Q19\t        |          | satisfaction w tasty dinner |4|  4 |cat|Yes| cat |\tnum|\n",
    "|Q20\t        |          | satisfying with hunger      |4|  4 |cat|Yes| cat |\tnum|\n",
    "|Q21\t        |          | good source of energy       |4|  4 |cat|Yes| cat |\tnum|\n",
    "|Q22\t        |          | well balanced meal          |4|  4 |cat|Yes| cat |\tnum|\n",
    "|Q23\t        |          | dinner comforting           |4|  4 |cat|Yes| cat |\tnum|\n",
    "|   \t        |          |                           |  |     |   |  | |\n",
    "|   \t        |          |                           |  |     |   |  | |\n",
    "|Q24\t        |          | overal description          |11|11 |cat|yes|cat |bin|\t\n",
    "|Q25\t        |          | snack yes/no 24hours        |2|  2 |cat|yes|cat |bin|\n",
    "|Q26\t        |ra-rh     | well balanced meal          |2|  2 |cat|Yes| cat|bin|"
   ]
  },
  {
   "cell_type": "markdown",
   "metadata": {},
   "source": [
    "#### Q9"
   ]
  },
  {
   "cell_type": "code",
   "execution_count": 79,
   "metadata": {},
   "outputs": [
    {
     "data": {
      "text/plain": [
       "198"
      ]
     },
     "execution_count": 79,
     "metadata": {},
     "output_type": "execute_result"
    }
   ],
   "source": [
    "df.Q9c1.unique()\n",
    "df.columns.get_loc(\"Q9c4\") "
   ]
  },
  {
   "cell_type": "code",
   "execution_count": 80,
   "metadata": {},
   "outputs": [],
   "source": [
    "dining_choice=[\"Nourish Me: I made a decision to eat something that's better for me\",\n",
    "             'Time to Savor: I had plenty of time to relax and eat dinner',\n",
    "       'Oasis: I made time to recover and reward myself or my family for a busy week',\n",
    "       \"Change of Pace: I decided to change things up a bit and have something I don't have often\",\n",
    "              'Expand my Horizons: I took the time to be adventurous and try something new',\n",
    "              'Some other situation']\n",
    "df_dinner_choice=df.iloc[:,195:200]"
   ]
  },
  {
   "cell_type": "code",
   "execution_count": 81,
   "metadata": {},
   "outputs": [],
   "source": [
    "for column in df_dinner_choice.columns :\n",
    "    df[column] = [1 if x in dining_choice else 0 for x in df[column]]"
   ]
  },
  {
   "cell_type": "markdown",
   "metadata": {},
   "source": [
    "#### Q12"
   ]
  },
  {
   "cell_type": "code",
   "execution_count": 82,
   "metadata": {},
   "outputs": [],
   "source": [
    "#meals made at home\n",
    "df['hQ12r1'] = [1 if x =='Meals Made at Home' else 0 for x in df['hQ12r1']]\n",
    "df['hQ12r2'] = [1 if x =='Meals from Away from Home' else 0 for x in df['hQ12r2']]\n",
    "df['Q12ra'] = [1 if x =='Plated entrée - a meal that could include a protein, a side dish (like a vegetable) and a starch (like potatoes or rice' else 0 for x in df['Q12ra']]\n",
    "df['Q12rb'] = [1 if x =='Pasta (does not include macaroni & cheese)' else 0 for x in df['Q12rb']]\n",
    "df['Q12rc'] = [1 if x =='Pizza (not delivered)' else 0 for x in df['Q12rc']]\n",
    "df['Q12rd'] = [1 if x =='Salad' else 0 for x in df['Q12rd']]\n",
    "df['Q12re'] = [1 if x =='Sandwich - lunchmeat, grilled cheese, BLTs, etc.' else 0 for x in df['Q12re']]\n",
    "df['Q12rf'] = [1 if x =='From the grill - burgers, hot dogs, brats or smoked sausage in a bun' else 0 for x in df['Q12rf']]\n",
    "df['Q12rg'] = [1 if x =='Traditional favorites - meatloaf, roasts, etc.' else 0 for x in df['Q12rg']]\n",
    "df['Q12rh'] = [1 if x =='Kids favorites - corn dogs, macaroni & cheese, chicken nuggets' else 0 for x in df['Q12rh']]\n",
    "df['Q12ri'] = [1 if x =='Casseroles' else 0 for x in df['Q12ri']]\n",
    "df['Q12rk'] = [1 if x =='Crockpot meal' else 0 for x in df['Q12rk']]\n",
    "df['Q12rj'] = [1 if x =='Soups, stews, chili or gumbo' else 0 for x in df['Q12rj']]\n",
    "df['Q12rl'] = [1 if x =='Meatless Meal - baked potatoes, vegetable sauté' else 0 for x in df['Q12rl']]\n",
    "df['Q12rm'] = [1 if x =='Breakfast foods - eggs, cereal, waffles, etc.' else 0 for x in df['Q12rm']]\n",
    "df['Q12rn'] = [1 if x =='Frozen complete meal kit - frozen or refrigerated bagged meals (e.g. Bertolli, P.F. Changs)' else 0 for x in df['Q12rn']]\n",
    "df['Q12ro'] = [1 if x =='Shelf stable meal starter kit (e.g. Hamburger Helper)' else 0 for x in df['Q12ro']]\n",
    "df['Q12rp'] = [1 if x =='Refrigerated meal starter kit (e.g. sliced pre-cooked chicken, other pre-cooked meats)' else 0 for x in df['Q12rp']]\n",
    "df['Q12rq'] = [1 if x ==\"Heat and eat meal - frozen entrees (e.g. Lean Cuisine, Stouffer's)\" else 0 for x in df['Q12rq']]\n",
    "df['Q12rr'] = [1 if x =='Snack Food or Dessert Food as Dinner - ate snacks or desserts instead of making dinner' else 0 for x in df['Q12rr']]\n",
    "df['Q12rs'] = [1 if x =='Sushi' else 0 for x in df['Q12rs']]\n",
    "df['Q12rt'] = [1 if x =='Italian foods - chicken parmesan, pesto' else 0 for x in df['Q12rt']]\n",
    "df['Q12ru'] = [1 if x =='Asian foods - Chinese, Thai etc.' else 0 for x in df['Q12ru']]\n",
    "df['Q12rv'] = [1 if x =='Mexican food - tacos, burritos, quesadilla, etc.' else 0 for x in df['Q12rv']]\n",
    "df['Q12rx'] = [1 if x =='Latin food (non-Mexican) - Cuban, South American etc.' else 0 for x in df['Q12rx']]\n",
    "df['Q12ry'] = [1 if x =='Indian food - Chicken Tikka, Chana Masala, Saag Paneer etc.' else 0 for x in df['Q12ry']]\n",
    "df['Q12rz'] = [1 if x =='Other (please specify):' else 0 for x in df['Q12rz']]\n",
    "#meals away from home\n",
    "df['Q12raa'] = [1 if x =='Fast Food - food from any fast food restaurant' else 0 for x in df['Q12raa']]\n",
    "df['Q12rbb'] = [1 if x =='Carry Out or Delivery Pizza' else 0 for x in df['Q12rbb']]\n",
    "df['Q12rcc'] = [1 if x =='Ate Food from a Fast Casual Restaurant - order food at a counter, no wait staff, no tips left such as Chipotle, Panera,' else 0 for x in df['Q12rcc']]\n",
    "df['Q12rdd'] = [1 if x ==\"Ate at a Casual Dining Restaurant - order from the waiter or waitress such as Chili's or Applebee's\" else 0 for x in df['Q12rdd']]\n",
    "df['Q12ree'] = [1 if x =='Ate at a local restaurant' else 0 for x in df['Q12ree']]\n",
    "df['Q12rff'] = [1 if x =='Ate at a fine dining restaurant' else 0 for x in df['Q12rff']]\n",
    "df['Q12rgg'] = [1 if x =='Ate prepared food from the grocery store - either at the grocery store or take away' else 0 for x in df['Q12rgg']]\n",
    "df['Q12rhh'] = [1 if x =='Other (please specify):' else 0 for x in df['Q12rhh']]"
   ]
  },
  {
   "cell_type": "code",
   "execution_count": 83,
   "metadata": {},
   "outputs": [],
   "source": [
    "home_meal=['Q12ra','Q12rb','Q12rc','Q12rd','Q12re', 'Q12rf', 'Q12rg','Q12rh','Q12ri','Q12rj','Q12rk','Q12rl','Q12rm', 'Q12rn','Q12ro', 'Q12rp',\n",
    " 'Q12rq','Q12rr','Q12rs','Q12rt','Q12ru','Q12rv', 'Q12rx','Q12ry','Q12rz']\n",
    "away_meal=['Q12raa','Q12rbb','Q12rcc','Q12rdd','Q12ree','Q12rff','Q12rgg','Q12rhh']"
   ]
  },
  {
   "cell_type": "code",
   "execution_count": 84,
   "metadata": {},
   "outputs": [],
   "source": [
    "df.drop('Q12rzoe', axis=1, inplace=True)\n",
    "df.drop('Q12rhhoe', axis=1, inplace=True)"
   ]
  },
  {
   "cell_type": "markdown",
   "metadata": {},
   "source": [
    "#### Q10"
   ]
  },
  {
   "cell_type": "code",
   "execution_count": 85,
   "metadata": {},
   "outputs": [
    {
     "data": {
      "text/plain": [
       "array(['Ate at home', 'Ate at a restaurant',\n",
       "       \"Ate at someone else's house\"], dtype=object)"
      ]
     },
     "execution_count": 85,
     "metadata": {},
     "output_type": "execute_result"
    }
   ],
   "source": [
    "df.Q10r2.unique()"
   ]
  },
  {
   "cell_type": "code",
   "execution_count": 86,
   "metadata": {},
   "outputs": [
    {
     "data": {
      "text/plain": [
       "202"
      ]
     },
     "execution_count": 86,
     "metadata": {},
     "output_type": "execute_result"
    }
   ],
   "source": [
    "df.columns.get_loc(\"Q10r4\") "
   ]
  },
  {
   "cell_type": "code",
   "execution_count": 87,
   "metadata": {},
   "outputs": [],
   "source": [
    "for j in range(199,203) :\n",
    "    for i in range(0,1003):\n",
    "        if df.iloc[i,j]=='Ate at home':\n",
    "            df.iloc[i,j]= 3\n",
    "        elif df.iloc[i,j]==\"Ate at someone else's house\":\n",
    "            df.iloc[i,j]= 2\n",
    "        else:\n",
    "            df.iloc[i,j]= 1"
   ]
  },
  {
   "cell_type": "markdown",
   "metadata": {},
   "source": [
    "#### Q11"
   ]
  },
  {
   "cell_type": "code",
   "execution_count": 88,
   "metadata": {},
   "outputs": [
    {
     "data": {
      "text/plain": [
       "203"
      ]
     },
     "execution_count": 88,
     "metadata": {},
     "output_type": "execute_result"
    }
   ],
   "source": [
    "df.columns.get_loc(\"Q11ra\") #203"
   ]
  },
  {
   "cell_type": "code",
   "execution_count": 89,
   "metadata": {},
   "outputs": [],
   "source": [
    "negative_emo =['Q11rb','Q11rc','Q11rf','Q11rg' ,'Q11ri','Q11rm' ,'Q11ro','Q11rs','Q11rt','Q11ry','Q11rz','Q11rbb','Q11rcc','Q11rdd']\n",
    "Positive_emo= ['Q11ra','Q11rd','Q11re','Q11rh','Q11rj','Q11rk','Q11rl','Q11rn','Q11rp','Q11rq','Q11rt','Q11rv','Q11rw','Q11rx','Q11raa','Q11ree','Q11rff']\n"
   ]
  },
  {
   "cell_type": "code",
   "execution_count": 90,
   "metadata": {},
   "outputs": [],
   "source": [
    "df['Q11ra'] = [1 if x =='Accomplished' else 0 for x in df['Q11ra']]\n",
    "df['Q11rb'] = [1 if x =='Bad Mood' else 0 for x in df['Q11rb']]\n",
    "df['Q11rc'] = [1 if x =='Bored' else 0 for x in df['Q11rc']]\n",
    "df['Q11rd'] = [1 if x =='Calm' else 0 for x in df['Q11rd']]\n",
    "df['Q11re'] = [1 if x =='Content' else 0 for x in df['Q11re']]\n",
    "df['Q11rf'] = [1 if x =='Cranky/Crabby' else 0 for x in df['Q11rf']]\n",
    "df['Q11rg'] = [1 if x =='Depressed' else 0 for x in df['Q11rg']]\n",
    "df['Q11rh'] = [1 if x =='Excited' else 0 for x in df['Q11rh']]\n",
    "df['Q11ri'] = [1 if x =='Exhausted' else 0 for x in df['Q11ri']]\n",
    "df['Q11rk'] = [1 if x =='Good Mood' else 0 for x in df['Q11rk']]\n",
    "df['Q11rj'] = [1 if x =='Energetic' else 0 for x in df['Q11rj']]\n",
    "df['Q11rl'] = [1 if x =='Happy' else 0 for x in df['Q11rl']]\n",
    "df['Q11rm'] = [1 if x =='Hurried' else 0 for x in df['Q11rm']]\n",
    "df['Q11rn'] = [1 if x =='In control' else 0 for x in df['Q11rn']]\n",
    "df['Q11ro'] = [1 if x =='Lonely' else 0 for x in df['Q11ro']]\n",
    "df['Q11rp'] = [1 if x =='Caring' else 0 for x in df['Q11rp']]\n",
    "df['Q11rq'] = [1 if x =='Inspired' else 0 for x in df['Q11rq']]\n",
    "df['Q11rr'] = [1 if x =='Joyful' else 0 for x in df['Q11rr']]\n",
    "df['Q11rs'] = [1 if x =='Mentally tired' else 0 for x in df['Q11rs']]\n",
    "df['Q11rt'] = [1 if x =='Overwhelmed' else 0 for x in df['Q11rt']]\n",
    "df['Q11ru'] = [1 if x =='Peaceful' else 0 for x in df['Q11ru']]\n",
    "df['Q11rv'] = [1 if x =='Positive' else 0 for x in df['Q11rv']]\n",
    "df['Q11rw'] = [1 if x =='Productive' else 0 for x in df['Q11rw']]\n",
    "df['Q11rx'] = [1 if x =='Relaxed' else 0 for x in df['Q11rx']]\n",
    "df['Q11ry'] = [1 if x =='Rushed' else 0 for x in df['Q11ry']]\n",
    "df['Q11rz'] = [1 if x =='Sad' else 0 for x in df['Q11rz']]\n",
    "df['Q11raa'] = [1 if x =='Sociable' else 0 for x in df['Q11raa']]\n",
    "df['Q11rbb'] = [1 if x =='Stressed' else 0 for x in df['Q11rbb']]\n",
    "df['Q11rcc'] = [1 if x =='Tense' else 0 for x in df['Q11rcc']]\n",
    "df['Q11rdd'] = [1 if x =='Tired' else 0 for x in df['Q11rdd']]\n",
    "df['Q11ree'] = [1 if x =='Creative' else 0 for x in df['Q11ree']]\n",
    "df['Q11rff'] = [1 if x =='Adventurous' else 0 for x in df['Q11rff']]"
   ]
  },
  {
   "cell_type": "code",
   "execution_count": 91,
   "metadata": {},
   "outputs": [
    {
     "data": {
      "text/plain": [
       "array([0, 1], dtype=int64)"
      ]
     },
     "execution_count": 91,
     "metadata": {},
     "output_type": "execute_result"
    }
   ],
   "source": [
    "df.Q11rff.unique()"
   ]
  },
  {
   "cell_type": "markdown",
   "metadata": {},
   "source": [
    "#### Q16"
   ]
  },
  {
   "cell_type": "code",
   "execution_count": 92,
   "metadata": {},
   "outputs": [
    {
     "data": {
      "text/plain": [
       "array([ 0,  1,  2,  4,  8,  6,  3, 10, 45,  9, 56], dtype=int64)"
      ]
     },
     "execution_count": 92,
     "metadata": {},
     "output_type": "execute_result"
    }
   ],
   "source": [
    "df.Q16rk.unique()"
   ]
  },
  {
   "cell_type": "markdown",
   "metadata": {},
   "source": [
    "#### Q17"
   ]
  },
  {
   "cell_type": "code",
   "execution_count": 93,
   "metadata": {},
   "outputs": [
    {
     "data": {
      "text/plain": [
       "291"
      ]
     },
     "execution_count": 93,
     "metadata": {},
     "output_type": "execute_result"
    }
   ],
   "source": [
    "df.Q17.unique()\n",
    "df.columns.get_loc('Q17')"
   ]
  },
  {
   "cell_type": "code",
   "execution_count": 94,
   "metadata": {},
   "outputs": [],
   "source": [
    "for i in range(0,1003):\n",
    "        if df.iloc[i,291]=='Extremely Satisfied 10':\n",
    "            df.iloc[i,291]= 10\n",
    "        elif df.iloc[i,291]=='Not at All Satisfied 1':\n",
    "            df.iloc[i,291]= 1\n",
    "        elif df.iloc[i,291]=='8':\n",
    "            df.iloc[i,291]= 8\n",
    "        elif df.iloc[i,291]=='4':\n",
    "            df.iloc[i,291]= 4\n",
    "        elif df.iloc[i,291]=='7':\n",
    "            df.iloc[i,291]= 7\n",
    "        elif df.iloc[i,291]=='9':\n",
    "            df.iloc[i,291]= 9\n",
    "        elif df.iloc[i,291]=='3':\n",
    "            df.iloc[i,291]= 3\n",
    "        elif df.iloc[i,291]=='5':\n",
    "            df.iloc[i,291]= 5\n",
    "        elif df.iloc[i,291]=='6':\n",
    "            df.iloc[i,291]= 6\n",
    "        else:\n",
    "            df.iloc[i,291]= 2"
   ]
  },
  {
   "cell_type": "markdown",
   "metadata": {},
   "source": [
    "#### Q25"
   ]
  },
  {
   "cell_type": "code",
   "execution_count": 95,
   "metadata": {},
   "outputs": [
    {
     "data": {
      "text/plain": [
       "array(['No', 'Yes'], dtype=object)"
      ]
     },
     "execution_count": 95,
     "metadata": {},
     "output_type": "execute_result"
    }
   ],
   "source": [
    "df.Q25.unique()"
   ]
  },
  {
   "cell_type": "code",
   "execution_count": 96,
   "metadata": {},
   "outputs": [],
   "source": [
    "df['Q25'] = [1 if x =='Yes' else 0 for x in df['Q25']]"
   ]
  },
  {
   "cell_type": "code",
   "execution_count": 97,
   "metadata": {},
   "outputs": [
    {
     "data": {
      "text/plain": [
       "Q25\n",
       "0    281\n",
       "1    722\n",
       "dtype: int64"
      ]
     },
     "execution_count": 97,
     "metadata": {},
     "output_type": "execute_result"
    }
   ],
   "source": [
    "df.groupby('Q25').size()"
   ]
  },
  {
   "cell_type": "markdown",
   "metadata": {},
   "source": [
    "#### Q26"
   ]
  },
  {
   "cell_type": "code",
   "execution_count": 98,
   "metadata": {
    "scrolled": true
   },
   "outputs": [
    {
     "data": {
      "text/plain": [
       "array(['NO TO: Late night', 'Late night'], dtype=object)"
      ]
     },
     "execution_count": 98,
     "metadata": {},
     "output_type": "execute_result"
    }
   ],
   "source": [
    "df.Q26rh.unique()"
   ]
  },
  {
   "cell_type": "code",
   "execution_count": 99,
   "metadata": {},
   "outputs": [],
   "source": [
    "df['Q26ra'] = [1 if x =='Before breakfast' else 0 for x in df['Q26ra']]\n",
    "df['Q26rb'] = [1 if x =='With breakfast' else 0 for x in df['Q26rb']]\n",
    "df['Q26rc'] = [1 if x =='Between breakfast and lunch' else 0 for x in df['Q26rc']]\n",
    "df['Q26rd'] = [1 if x =='With lunch' else 0 for x in df['Q26rd']]\n",
    "df['Q26re'] = [1 if x =='Between lunch and dinner' else 0 for x in df['Q26re']]\n",
    "df['Q26rf'] = [1 if x =='With dinner' else 0 for x in df['Q26rf']]\n",
    "df['Q26rg'] = [1 if x =='After dinner' else 0 for x in df['Q26rg']]\n",
    "df['Q26rh'] = [1 if x =='Late night' else 0 for x in df['Q26rh']]"
   ]
  },
  {
   "cell_type": "markdown",
   "metadata": {},
   "source": [
    "#### Q18"
   ]
  },
  {
   "cell_type": "code",
   "execution_count": 100,
   "metadata": {},
   "outputs": [
    {
     "name": "stdout",
     "output_type": "stream",
     "text": [
      "292\n",
      "['A little healthier than other options'\n",
      " 'Much healthier than other options'\n",
      " 'Much less healthy than other options'\n",
      " 'A little less healthy than other options']\n"
     ]
    },
    {
     "data": {
      "text/plain": [
       "Q18\n",
       "A little healthier than other options       439\n",
       "A little less healthy than other options    219\n",
       "Much healthier than other options           269\n",
       "Much less healthy than other options         76\n",
       "dtype: int64"
      ]
     },
     "execution_count": 100,
     "metadata": {},
     "output_type": "execute_result"
    }
   ],
   "source": [
    "print(df.columns.get_loc(\"Q18\"))\n",
    "print(df.Q18.unique())\n",
    "df.groupby(\"Q18\").size()"
   ]
  },
  {
   "cell_type": "code",
   "execution_count": 101,
   "metadata": {},
   "outputs": [],
   "source": [
    "for i in range(0,1003):\n",
    "    if df.iloc[i,292]=='Much healthier than other options':\n",
    "        df.iloc[i,292]= 4\n",
    "    elif df.iloc[i,292]=='A little healthier than other options':\n",
    "        df.iloc[i,292]= 3\n",
    "        df.iloc[i,292]= 2\n",
    "    else:\n",
    "        df.iloc[i,292]= 1"
   ]
  },
  {
   "cell_type": "code",
   "execution_count": 102,
   "metadata": {
    "scrolled": true
   },
   "outputs": [
    {
     "name": "stdout",
     "output_type": "stream",
     "text": [
      "[2 4 1]\n"
     ]
    },
    {
     "data": {
      "text/plain": [
       "Q18\n",
       "1    295\n",
       "2    439\n",
       "4    269\n",
       "dtype: int64"
      ]
     },
     "execution_count": 102,
     "metadata": {},
     "output_type": "execute_result"
    }
   ],
   "source": [
    "print(df.Q18.unique())\n",
    "df.groupby(\"Q18\").size()"
   ]
  },
  {
   "cell_type": "markdown",
   "metadata": {},
   "source": [
    "#### Q19"
   ]
  },
  {
   "cell_type": "code",
   "execution_count": 103,
   "metadata": {},
   "outputs": [
    {
     "name": "stdout",
     "output_type": "stream",
     "text": [
      "293\n",
      "['A little tastier than other options' 'Much tastier than other options'\n",
      " 'A little less tasty than other options'\n",
      " 'Much less tasty than other options']\n"
     ]
    },
    {
     "data": {
      "text/plain": [
       "Q19\n",
       "A little less tasty than other options    121\n",
       "A little tastier than other options       448\n",
       "Much less tasty than other options         27\n",
       "Much tastier than other options           407\n",
       "dtype: int64"
      ]
     },
     "execution_count": 103,
     "metadata": {},
     "output_type": "execute_result"
    }
   ],
   "source": [
    "print(df.columns.get_loc(\"Q19\"))\n",
    "print(df.Q19.unique())\n",
    "df.groupby(\"Q19\").size()"
   ]
  },
  {
   "cell_type": "code",
   "execution_count": 104,
   "metadata": {},
   "outputs": [],
   "source": [
    "for i in range(0,1003):\n",
    "    if df.iloc[i,293]=='Much tastier than other options':\n",
    "        df.iloc[i,293]= 4\n",
    "    elif df.iloc[i,293]=='A little tastier than other options':\n",
    "        df.iloc[i,293]= 3\n",
    "    elif df.iloc[i,293]=='A little less tasty than other options':\n",
    "        df.iloc[i,293]= 2\n",
    "    else:\n",
    "        df.iloc[i,293]= 1"
   ]
  },
  {
   "cell_type": "code",
   "execution_count": 105,
   "metadata": {},
   "outputs": [
    {
     "name": "stdout",
     "output_type": "stream",
     "text": [
      "[3 4 2 1]\n"
     ]
    },
    {
     "data": {
      "text/plain": [
       "Q19\n",
       "1     27\n",
       "2    121\n",
       "3    448\n",
       "4    407\n",
       "dtype: int64"
      ]
     },
     "execution_count": 105,
     "metadata": {},
     "output_type": "execute_result"
    }
   ],
   "source": [
    "print(df.Q19.unique())\n",
    "df.groupby(\"Q19\").size()"
   ]
  },
  {
   "cell_type": "markdown",
   "metadata": {},
   "source": [
    "#### Q20-23"
   ]
  },
  {
   "cell_type": "code",
   "execution_count": 106,
   "metadata": {},
   "outputs": [
    {
     "name": "stdout",
     "output_type": "stream",
     "text": [
      "294\n",
      "297\n"
     ]
    },
    {
     "data": {
      "text/plain": [
       "Q20\n",
       "Somewhat dissatisfied     52\n",
       "Somewhat satisfied       342\n",
       "Very dissatisfied         22\n",
       "Very satisfied           587\n",
       "dtype: int64"
      ]
     },
     "execution_count": 106,
     "metadata": {},
     "output_type": "execute_result"
    }
   ],
   "source": [
    "print(df.columns.get_loc(\"Q20\"))\n",
    "print(df.columns.get_loc(\"Q23\"))\n",
    "df.groupby(\"Q20\").size()"
   ]
  },
  {
   "cell_type": "code",
   "execution_count": 107,
   "metadata": {},
   "outputs": [],
   "source": [
    "for j in range(294,298) :\n",
    "    for i in range(0,1003):\n",
    "        if df.iloc[i,j]=='Very satisfied':\n",
    "            df.iloc[i,j]= 4\n",
    "        elif df.iloc[i,j]=='Somewhat satisfied':\n",
    "            df.iloc[i,j]= 3\n",
    "        elif df.iloc[i,j]=='Somewhat dissatisfied':\n",
    "            df.iloc[i,j]= 2\n",
    "        else:\n",
    "            df.iloc[i,j]= 1"
   ]
  },
  {
   "cell_type": "code",
   "execution_count": 108,
   "metadata": {
    "scrolled": true
   },
   "outputs": [
    {
     "data": {
      "text/plain": [
       "Q23\n",
       "1     26\n",
       "2     80\n",
       "3    409\n",
       "4    488\n",
       "dtype: int64"
      ]
     },
     "execution_count": 108,
     "metadata": {},
     "output_type": "execute_result"
    }
   ],
   "source": [
    "df.groupby(\"Q23\").size()"
   ]
  },
  {
   "cell_type": "markdown",
   "metadata": {},
   "source": [
    "#### Q24"
   ]
  },
  {
   "cell_type": "code",
   "execution_count": 109,
   "metadata": {},
   "outputs": [],
   "source": [
    "df['Q24'] = [1 if x in dining_choice else 0 for x in df['Q24']]"
   ]
  },
  {
   "cell_type": "markdown",
   "metadata": {},
   "source": [
    "Current attempt at healthy life and diets"
   ]
  },
  {
   "cell_type": "markdown",
   "metadata": {},
   "source": [
    "|Section |\tQuestion |\tDescription|binary |multi| type|transform|from|To|\n",
    "|-------|-----------|--------------- |----------|-------|------|-------|-------|-------|\n",
    "|Q30\t        |raa-rbm         | attempt at health plan      |4|  4 |cat|No | | |\t\t\t\t\t\t\t\n",
    "|D1             |ra-ro           | diets\t                   |2|\t2 |cat|No | | |\t"
   ]
  },
  {
   "cell_type": "code",
   "execution_count": 110,
   "metadata": {
    "scrolled": true
   },
   "outputs": [
    {
     "data": {
      "text/plain": [
       "308"
      ]
     },
     "execution_count": 110,
     "metadata": {},
     "output_type": "execute_result"
    }
   ],
   "source": [
    "df.groupby('Q30raa').size()\n",
    "df.columns.get_loc(\"Q30raa\")"
   ]
  },
  {
   "cell_type": "code",
   "execution_count": 111,
   "metadata": {},
   "outputs": [],
   "source": [
    "for j in range(308,349) :\n",
    "    for i in range(0,1003):\n",
    "        if df.iloc[i,j]=='Strongly agree':\n",
    "            df.iloc[i,j]= 4\n",
    "        elif df.iloc[i,j]=='Agree somewhat':\n",
    "            df.iloc[i,j]= 3\n",
    "        elif df.iloc[i,j]=='Disagree somewhat':\n",
    "            df.iloc[i,j]= 2\n",
    "        else:\n",
    "            df.iloc[i,j]= 1"
   ]
  },
  {
   "cell_type": "code",
   "execution_count": 112,
   "metadata": {},
   "outputs": [
    {
     "data": {
      "text/plain": [
       "Q30rbm\n",
       "1     45\n",
       "2    223\n",
       "3    493\n",
       "4    242\n",
       "dtype: int64"
      ]
     },
     "execution_count": 112,
     "metadata": {},
     "output_type": "execute_result"
    }
   ],
   "source": [
    "df.groupby('Q30rbm').size()"
   ]
  },
  {
   "cell_type": "markdown",
   "metadata": {},
   "source": [
    "Diets"
   ]
  },
  {
   "cell_type": "code",
   "execution_count": 113,
   "metadata": {},
   "outputs": [
    {
     "data": {
      "text/plain": [
       "D1ra\n",
       "1    1003\n",
       "dtype: int64"
      ]
     },
     "execution_count": 113,
     "metadata": {},
     "output_type": "execute_result"
    }
   ],
   "source": [
    "df.groupby('D1ra').size()"
   ]
  },
  {
   "cell_type": "code",
   "execution_count": 114,
   "metadata": {},
   "outputs": [],
   "source": [
    "df['D1ra'] = [1 if x =='Gluten free' else 0 for x in df['D1ra']]\n",
    "df['D1rb'] = [1 if x =='Dairy free' else 0 for x in df['D1rb']]\n",
    "df['D1rc'] = [1 if x =='Nut free' else 0 for x in df['D1rc']]\n",
    "df['D1rd'] = [1 if x =='Diabetic' else 0 for x in df['D1rd']]\n",
    "df['D1re'] = [1 if x =='Plant based diet' else 0 for x in df['D1re']]\n",
    "df['D1rf'] = [1 if x =='Vegan' else 0 for x in df['D1rf']]\n",
    "df['D1rg'] = [1 if x =='Vegetarian' else 0 for x in df['D1rg']]\n",
    "df['D1rh'] = [1 if x =='Low sodium' else 0 for x in df['D1rh']]\n",
    "df['D1ri'] = [1 if x =='Low carb' else 0 for x in df['D1ri']]\n",
    "df['D1rk'] = [1 if x =='Non-GMO' else 0 for x in df['D1rk']]\n",
    "df['D1rj'] = [1 if x =='Low calorie' else 0 for x in df['D1rj']]\n",
    "df['D1rl'] = [1 if x =='Antibiotic free' else 0 for x in df['D1rl']]\n",
    "df['D1rm'] = [1 if x =='Hormone free' else 0 for x in df['D1rm']]\n",
    "df['D1rn'] = [1 if x =='Allergen free' else 0 for x in df['D1rn']]\n",
    "df['D1ro'] = [1 if x =='Locally sourced' else 0 for x in df['D1ro']]"
   ]
  },
  {
   "cell_type": "code",
   "execution_count": 115,
   "metadata": {},
   "outputs": [],
   "source": [
    "#later for machine learning\n",
    "#multi_option=['D7','D8']#'D11',\n",
    "#df = pd.get_dummies(data = df,columns = multi_option )"
   ]
  },
  {
   "cell_type": "code",
   "execution_count": 116,
   "metadata": {},
   "outputs": [
    {
     "name": "stdout",
     "output_type": "stream",
     "text": [
      "['Not currently employed, but looking for work' 'Work full time'\n",
      " 'Not currently employed' 'Home maker/Stay at home parent'\n",
      " 'Work part time' 'Retired' 'Decline to answer']\n"
     ]
    }
   ],
   "source": [
    "print(df.D8.unique())"
   ]
  },
  {
   "cell_type": "code",
   "execution_count": 117,
   "metadata": {},
   "outputs": [
    {
     "data": {
      "text/plain": [
       "375"
      ]
     },
     "execution_count": 117,
     "metadata": {},
     "output_type": "execute_result"
    }
   ],
   "source": [
    "df.columns.get_loc('D8')"
   ]
  },
  {
   "cell_type": "code",
   "execution_count": 118,
   "metadata": {},
   "outputs": [],
   "source": [
    "for i in range(0,1003):\n",
    "        if df.iloc[i,375]=='Not currently employed, but looking for work':\n",
    "            df.iloc[i,375]= 1\n",
    "        elif df.iloc[i,375]=='Work full time':\n",
    "            df.iloc[i,375]= 2\n",
    "        elif df.iloc[i,375]=='Not currently employed':\n",
    "            df.iloc[i,375]= 1\n",
    "        elif df.iloc[i,375]=='Home maker/Stay at home parent':\n",
    "            df.iloc[i,375]= 1\n",
    "        elif df.iloc[i,375]=='Work part time':\n",
    "            df.iloc[i,375]= 2\n",
    "        elif df.iloc[i,375]=='Retired':\n",
    "            df.iloc[i,375]= 1\n",
    "        else:\n",
    "            df.iloc[i,375]= 0"
   ]
  },
  {
   "cell_type": "code",
   "execution_count": 119,
   "metadata": {},
   "outputs": [],
   "source": [
    "data=df.copy()"
   ]
  },
  {
   "cell_type": "code",
   "execution_count": 120,
   "metadata": {},
   "outputs": [],
   "source": [
    "df['equality'] = np.where(df['points']==df['POINTS'], \n",
    "                                           'yes', 'no')"
   ]
  },
  {
   "cell_type": "code",
   "execution_count": 121,
   "metadata": {
    "scrolled": true
   },
   "outputs": [
    {
     "data": {
      "text/html": [
       "<div>\n",
       "<style scoped>\n",
       "    .dataframe tbody tr th:only-of-type {\n",
       "        vertical-align: middle;\n",
       "    }\n",
       "\n",
       "    .dataframe tbody tr th {\n",
       "        vertical-align: top;\n",
       "    }\n",
       "\n",
       "    .dataframe thead th {\n",
       "        text-align: right;\n",
       "    }\n",
       "</style>\n",
       "<table border=\"1\" class=\"dataframe\">\n",
       "  <thead>\n",
       "    <tr style=\"text-align: right;\">\n",
       "      <th></th>\n",
       "      <th>points</th>\n",
       "      <th>POINTS</th>\n",
       "    </tr>\n",
       "  </thead>\n",
       "  <tbody>\n",
       "    <tr>\n",
       "      <th>251</th>\n",
       "      <td>-1</td>\n",
       "      <td>NaN</td>\n",
       "    </tr>\n",
       "    <tr>\n",
       "      <th>308</th>\n",
       "      <td>-1</td>\n",
       "      <td>NaN</td>\n",
       "    </tr>\n",
       "    <tr>\n",
       "      <th>341</th>\n",
       "      <td>-1</td>\n",
       "      <td>NaN</td>\n",
       "    </tr>\n",
       "    <tr>\n",
       "      <th>523</th>\n",
       "      <td>-1</td>\n",
       "      <td>NaN</td>\n",
       "    </tr>\n",
       "    <tr>\n",
       "      <th>553</th>\n",
       "      <td>-1</td>\n",
       "      <td>NaN</td>\n",
       "    </tr>\n",
       "    <tr>\n",
       "      <th>568</th>\n",
       "      <td>-1</td>\n",
       "      <td>NaN</td>\n",
       "    </tr>\n",
       "    <tr>\n",
       "      <th>611</th>\n",
       "      <td>-1</td>\n",
       "      <td>NaN</td>\n",
       "    </tr>\n",
       "    <tr>\n",
       "      <th>613</th>\n",
       "      <td>-1</td>\n",
       "      <td>NaN</td>\n",
       "    </tr>\n",
       "    <tr>\n",
       "      <th>642</th>\n",
       "      <td>-1</td>\n",
       "      <td>NaN</td>\n",
       "    </tr>\n",
       "    <tr>\n",
       "      <th>646</th>\n",
       "      <td>-1</td>\n",
       "      <td>NaN</td>\n",
       "    </tr>\n",
       "    <tr>\n",
       "      <th>696</th>\n",
       "      <td>-1</td>\n",
       "      <td>NaN</td>\n",
       "    </tr>\n",
       "    <tr>\n",
       "      <th>749</th>\n",
       "      <td>-1</td>\n",
       "      <td>NaN</td>\n",
       "    </tr>\n",
       "    <tr>\n",
       "      <th>793</th>\n",
       "      <td>-1</td>\n",
       "      <td>NaN</td>\n",
       "    </tr>\n",
       "    <tr>\n",
       "      <th>821</th>\n",
       "      <td>-1</td>\n",
       "      <td>NaN</td>\n",
       "    </tr>\n",
       "    <tr>\n",
       "      <th>919</th>\n",
       "      <td>-1</td>\n",
       "      <td>NaN</td>\n",
       "    </tr>\n",
       "    <tr>\n",
       "      <th>946</th>\n",
       "      <td>-1</td>\n",
       "      <td>NaN</td>\n",
       "    </tr>\n",
       "    <tr>\n",
       "      <th>970</th>\n",
       "      <td>-1</td>\n",
       "      <td>NaN</td>\n",
       "    </tr>\n",
       "  </tbody>\n",
       "</table>\n",
       "</div>"
      ],
      "text/plain": [
       "     points  POINTS\n",
       "251      -1     NaN\n",
       "308      -1     NaN\n",
       "341      -1     NaN\n",
       "523      -1     NaN\n",
       "553      -1     NaN\n",
       "568      -1     NaN\n",
       "611      -1     NaN\n",
       "613      -1     NaN\n",
       "642      -1     NaN\n",
       "646      -1     NaN\n",
       "696      -1     NaN\n",
       "749      -1     NaN\n",
       "793      -1     NaN\n",
       "821      -1     NaN\n",
       "919      -1     NaN\n",
       "946      -1     NaN\n",
       "970      -1     NaN"
      ]
     },
     "execution_count": 121,
     "metadata": {},
     "output_type": "execute_result"
    }
   ],
   "source": [
    "dif=df[df['equality']=='no']\n",
    "dif[[\"points\",\"POINTS\"]]"
   ]
  },
  {
   "cell_type": "code",
   "execution_count": 122,
   "metadata": {},
   "outputs": [],
   "source": [
    "data.drop('POINTS', axis=1, inplace=True)"
   ]
  },
  {
   "cell_type": "code",
   "execution_count": 123,
   "metadata": {
    "scrolled": true
   },
   "outputs": [
    {
     "data": {
      "text/plain": [
       "374"
      ]
     },
     "execution_count": 123,
     "metadata": {},
     "output_type": "execute_result"
    }
   ],
   "source": [
    "df.columns.get_loc('D7r6oe')"
   ]
  },
  {
   "cell_type": "code",
   "execution_count": 124,
   "metadata": {},
   "outputs": [],
   "source": [
    "df_Q1=df.iloc[:,4:21]\n",
    "df_D=df.iloc[:,367:375]"
   ]
  },
  {
   "cell_type": "code",
   "execution_count": 125,
   "metadata": {},
   "outputs": [],
   "source": [
    "df_Q1_list=list(df_Q1.columns)\n",
    "df_D_list=list(df_D.columns)"
   ]
  },
  {
   "cell_type": "code",
   "execution_count": 126,
   "metadata": {
    "scrolled": true
   },
   "outputs": [],
   "source": [
    "data.drop('Q4', axis=1, inplace=True)\n",
    "data.drop('Q5', axis=1, inplace=True)\n",
    "data.drop('Q6', axis=1, inplace=True)\n",
    "data.drop('hS3', axis=1, inplace=True)\n",
    "data.drop('Q13', axis=1, inplace=True)\n",
    "data.drop('Q14', axis=1, inplace=True)\n",
    "\n",
    "data.drop(df_Q1_list, axis=1, inplace=True)\n",
    "data.drop(df_D_list , axis=1, inplace=True)\n",
    "data.drop('Q2ra', axis=1, inplace=True)\n",
    "data.drop('Q2rb', axis=1, inplace=True)\n",
    "\n",
    "data.drop('Q3ra', axis=1, inplace=True)\n",
    "data.drop('Q3rb', axis=1, inplace=True)\n",
    "data.drop('Q3rc', axis=1, inplace=True)\n",
    "\n",
    "#states dropped for now\n",
    "data.drop('D11', axis=1, inplace=True)"
   ]
  },
  {
   "cell_type": "code",
   "execution_count": 127,
   "metadata": {},
   "outputs": [],
   "source": [
    "#data.to_csv('project_cleaned_transformed_LM_data.csv')"
   ]
  },
  {
   "cell_type": "code",
   "execution_count": 128,
   "metadata": {},
   "outputs": [],
   "source": [
    "indexNames = data[data['BMI'] >= 50].index\n",
    "data.drop(indexNames , inplace=True)"
   ]
  },
  {
   "cell_type": "code",
   "execution_count": 129,
   "metadata": {},
   "outputs": [],
   "source": [
    "data_copy=data.copy()"
   ]
  },
  {
   "cell_type": "markdown",
   "metadata": {},
   "source": [
    "## Questions  "
   ]
  },
  {
   "cell_type": "code",
   "execution_count": 140,
   "metadata": {},
   "outputs": [],
   "source": [
    "from sklearn.preprocessing import StandardScaler, normalize\n",
    "from sklearn.model_selection import train_test_split"
   ]
  },
  {
   "cell_type": "markdown",
   "metadata": {},
   "source": [
    "#### Linear Modeling"
   ]
  },
  {
   "cell_type": "markdown",
   "metadata": {},
   "source": [
    "What are our Y variables?"
   ]
  },
  {
   "cell_type": "markdown",
   "metadata": {},
   "source": [
    "1. Regression :\n",
    "    - BMI for health\n",
    "    - points for wellbeing\n",
    "    - excersice \n",
    "2. Classification:\n",
    "    -BMI"
   ]
  },
  {
   "cell_type": "markdown",
   "metadata": {},
   "source": [
    "# Factors that affect Health"
   ]
  },
  {
   "cell_type": "markdown",
   "metadata": {},
   "source": [
    " Can we predict health & wellness, if so how?\n"
   ]
  },
  {
   "cell_type": "markdown",
   "metadata": {},
   "source": [
    "In order to predecit Health and wellness we have to define them, then we can choose the dependent variables (Questions in survey) that will tell us about the people's state of health and wellness and  find the covariates that effect them."
   ]
  },
  {
   "cell_type": "markdown",
   "metadata": {},
   "source": [
    "#### Health :\n",
    "In 1946, the World Health Organization (WHO) defined health as “a state of complete physical, mental, and social well-being, and not merely the absence of disease or infirmity.”\n",
    "\n",
    "When it comes to Health based on nutrition, BMI is a good __indicator__ of how healthy a person is:\n",
    "\n",
    "How is BMI interpreted for adults?\n",
    "\n",
    "BMI\tWeight Status\n",
    "\n",
    "- Below 18.5        Underweight\n",
    "- 18.5 – 24.9\t    Normal or Healthy Weight\n",
    "- 25.0 – 29.9   \tOverweight\n",
    "- 30.0 and Above\tObese\n",
    "\n",
    "\n",
    "#### Wellness:\n",
    "Wellness is a measure of a person's mental and physical health, and is commonly used by therapists, medical doctors, and alternative medicine practitioners to characterize a person's overall health and well-being.\n",
    "\n",
    "When it comes to Health based on How motivated you are :\n",
    "\n",
    "We will be using \"Points\" system used by the survey makers.\n",
    "\n",
    "Also  \"frequency of excercising\" is a good reflection on your motivation in taking charge of your mental and physical health.\n",
    "\n",
    "\n",
    "\n",
    "\n"
   ]
  },
  {
   "cell_type": "markdown",
   "metadata": {},
   "source": [
    "Major determinants of food choice:\n",
    "\n",
    "The key driver for eating is of course hunger but what we choose to eat is not determined solely by physiological or nutritional needs. Some of the other factors that influence food choice include:\n",
    "\n",
    "- Biological determinants such as hunger, appetite, and taste\n",
    "- Economic determinants such as cost, __income__, availability\n",
    "- Physical determinants such as access, __education__, skills (e.g. cooking) and time\n",
    "- Social determinants such as culture, family, peers and meal patterns\n",
    "- Psychological determinants such as __mood__, stress and guilt\n",
    "- __Attitudes__, beliefs and knowledge about food"
   ]
  },
  {
   "cell_type": "markdown",
   "metadata": {},
   "source": [
    "#### Demographic data "
   ]
  },
  {
   "cell_type": "code",
   "execution_count": 130,
   "metadata": {},
   "outputs": [],
   "source": [
    "demographic_list=['S1', 'S2', 'S3','D2','D3','D4','D5','D6','D7','D8']\n",
    "demographic_df = data[['S1', 'S2', 'S3','D2','D3','D4','D5','D6','D7','D8','BMI','points','BMI_group']]"
   ]
  },
  {
   "cell_type": "code",
   "execution_count": 131,
   "metadata": {
    "scrolled": false
   },
   "outputs": [
    {
     "data": {
      "text/html": [
       "<div>\n",
       "<style scoped>\n",
       "    .dataframe tbody tr th:only-of-type {\n",
       "        vertical-align: middle;\n",
       "    }\n",
       "\n",
       "    .dataframe tbody tr th {\n",
       "        vertical-align: top;\n",
       "    }\n",
       "\n",
       "    .dataframe thead th {\n",
       "        text-align: right;\n",
       "    }\n",
       "</style>\n",
       "<table border=\"1\" class=\"dataframe\">\n",
       "  <thead>\n",
       "    <tr style=\"text-align: right;\">\n",
       "      <th></th>\n",
       "      <th>S1</th>\n",
       "      <th>S2</th>\n",
       "      <th>S3</th>\n",
       "      <th>D2</th>\n",
       "      <th>D3</th>\n",
       "      <th>D4</th>\n",
       "      <th>D5</th>\n",
       "      <th>D6</th>\n",
       "      <th>D7</th>\n",
       "      <th>D8</th>\n",
       "      <th>BMI</th>\n",
       "      <th>points</th>\n",
       "      <th>BMI_group</th>\n",
       "    </tr>\n",
       "  </thead>\n",
       "  <tbody>\n",
       "    <tr>\n",
       "      <th>0</th>\n",
       "      <td>0</td>\n",
       "      <td>1</td>\n",
       "      <td>52</td>\n",
       "      <td>4</td>\n",
       "      <td>1</td>\n",
       "      <td>2</td>\n",
       "      <td>1</td>\n",
       "      <td>42500</td>\n",
       "      <td>1</td>\n",
       "      <td>1</td>\n",
       "      <td>21.031478</td>\n",
       "      <td>19</td>\n",
       "      <td>1</td>\n",
       "    </tr>\n",
       "    <tr>\n",
       "      <th>1</th>\n",
       "      <td>0</td>\n",
       "      <td>0</td>\n",
       "      <td>39</td>\n",
       "      <td>2</td>\n",
       "      <td>0</td>\n",
       "      <td>1</td>\n",
       "      <td>1</td>\n",
       "      <td>87500</td>\n",
       "      <td>1</td>\n",
       "      <td>2</td>\n",
       "      <td>35.304054</td>\n",
       "      <td>18</td>\n",
       "      <td>3</td>\n",
       "    </tr>\n",
       "    <tr>\n",
       "      <th>2</th>\n",
       "      <td>0</td>\n",
       "      <td>1</td>\n",
       "      <td>30</td>\n",
       "      <td>2</td>\n",
       "      <td>1</td>\n",
       "      <td>0</td>\n",
       "      <td>1</td>\n",
       "      <td>250000</td>\n",
       "      <td>3</td>\n",
       "      <td>2</td>\n",
       "      <td>20.341435</td>\n",
       "      <td>6</td>\n",
       "      <td>1</td>\n",
       "    </tr>\n",
       "    <tr>\n",
       "      <th>3</th>\n",
       "      <td>0</td>\n",
       "      <td>1</td>\n",
       "      <td>21</td>\n",
       "      <td>3</td>\n",
       "      <td>0</td>\n",
       "      <td>1</td>\n",
       "      <td>1</td>\n",
       "      <td>87500</td>\n",
       "      <td>1</td>\n",
       "      <td>2</td>\n",
       "      <td>22.804931</td>\n",
       "      <td>0</td>\n",
       "      <td>1</td>\n",
       "    </tr>\n",
       "    <tr>\n",
       "      <th>4</th>\n",
       "      <td>0</td>\n",
       "      <td>0</td>\n",
       "      <td>43</td>\n",
       "      <td>2</td>\n",
       "      <td>1</td>\n",
       "      <td>0</td>\n",
       "      <td>0</td>\n",
       "      <td>20000</td>\n",
       "      <td>2</td>\n",
       "      <td>1</td>\n",
       "      <td>33.356872</td>\n",
       "      <td>20</td>\n",
       "      <td>3</td>\n",
       "    </tr>\n",
       "    <tr>\n",
       "      <th>...</th>\n",
       "      <td>...</td>\n",
       "      <td>...</td>\n",
       "      <td>...</td>\n",
       "      <td>...</td>\n",
       "      <td>...</td>\n",
       "      <td>...</td>\n",
       "      <td>...</td>\n",
       "      <td>...</td>\n",
       "      <td>...</td>\n",
       "      <td>...</td>\n",
       "      <td>...</td>\n",
       "      <td>...</td>\n",
       "      <td>...</td>\n",
       "    </tr>\n",
       "    <tr>\n",
       "      <th>997</th>\n",
       "      <td>0</td>\n",
       "      <td>0</td>\n",
       "      <td>39</td>\n",
       "      <td>3</td>\n",
       "      <td>0</td>\n",
       "      <td>2</td>\n",
       "      <td>0</td>\n",
       "      <td>15000</td>\n",
       "      <td>3</td>\n",
       "      <td>0</td>\n",
       "      <td>32.979921</td>\n",
       "      <td>-4</td>\n",
       "      <td>3</td>\n",
       "    </tr>\n",
       "    <tr>\n",
       "      <th>998</th>\n",
       "      <td>0</td>\n",
       "      <td>0</td>\n",
       "      <td>35</td>\n",
       "      <td>1</td>\n",
       "      <td>1</td>\n",
       "      <td>0</td>\n",
       "      <td>1</td>\n",
       "      <td>30000</td>\n",
       "      <td>1</td>\n",
       "      <td>2</td>\n",
       "      <td>24.370667</td>\n",
       "      <td>8</td>\n",
       "      <td>1</td>\n",
       "    </tr>\n",
       "    <tr>\n",
       "      <th>999</th>\n",
       "      <td>1</td>\n",
       "      <td>0</td>\n",
       "      <td>35</td>\n",
       "      <td>3</td>\n",
       "      <td>0</td>\n",
       "      <td>1</td>\n",
       "      <td>1</td>\n",
       "      <td>62500</td>\n",
       "      <td>1</td>\n",
       "      <td>1</td>\n",
       "      <td>25.821855</td>\n",
       "      <td>28</td>\n",
       "      <td>2</td>\n",
       "    </tr>\n",
       "    <tr>\n",
       "      <th>1001</th>\n",
       "      <td>0</td>\n",
       "      <td>1</td>\n",
       "      <td>43</td>\n",
       "      <td>1</td>\n",
       "      <td>1</td>\n",
       "      <td>0</td>\n",
       "      <td>1</td>\n",
       "      <td>62500</td>\n",
       "      <td>1</td>\n",
       "      <td>2</td>\n",
       "      <td>21.945890</td>\n",
       "      <td>15</td>\n",
       "      <td>1</td>\n",
       "    </tr>\n",
       "    <tr>\n",
       "      <th>1002</th>\n",
       "      <td>0</td>\n",
       "      <td>0</td>\n",
       "      <td>39</td>\n",
       "      <td>2</td>\n",
       "      <td>1</td>\n",
       "      <td>0</td>\n",
       "      <td>1</td>\n",
       "      <td>20000</td>\n",
       "      <td>1</td>\n",
       "      <td>2</td>\n",
       "      <td>34.967561</td>\n",
       "      <td>-15</td>\n",
       "      <td>3</td>\n",
       "    </tr>\n",
       "  </tbody>\n",
       "</table>\n",
       "<p>982 rows × 13 columns</p>\n",
       "</div>"
      ],
      "text/plain": [
       "      S1  S2  S3  D2  D3  D4  D5      D6  D7 D8        BMI  points  BMI_group\n",
       "0      0   1  52   4   1   2   1   42500   1  1  21.031478      19          1\n",
       "1      0   0  39   2   0   1   1   87500   1  2  35.304054      18          3\n",
       "2      0   1  30   2   1   0   1  250000   3  2  20.341435       6          1\n",
       "3      0   1  21   3   0   1   1   87500   1  2  22.804931       0          1\n",
       "4      0   0  43   2   1   0   0   20000   2  1  33.356872      20          3\n",
       "...   ..  ..  ..  ..  ..  ..  ..     ...  .. ..        ...     ...        ...\n",
       "997    0   0  39   3   0   2   0   15000   3  0  32.979921      -4          3\n",
       "998    0   0  35   1   1   0   1   30000   1  2  24.370667       8          1\n",
       "999    1   0  35   3   0   1   1   62500   1  1  25.821855      28          2\n",
       "1001   0   1  43   1   1   0   1   62500   1  2  21.945890      15          1\n",
       "1002   0   0  39   2   1   0   1   20000   1  2  34.967561     -15          3\n",
       "\n",
       "[982 rows x 13 columns]"
      ]
     },
     "execution_count": 131,
     "metadata": {},
     "output_type": "execute_result"
    }
   ],
   "source": [
    "demographic_df"
   ]
  },
  {
   "cell_type": "code",
   "execution_count": 132,
   "metadata": {
    "scrolled": false
   },
   "outputs": [
    {
     "data": {
      "text/plain": [
       "<matplotlib.axes._subplots.AxesSubplot at 0x202509c0fd0>"
      ]
     },
     "execution_count": 132,
     "metadata": {},
     "output_type": "execute_result"
    },
    {
     "data": {
      "image/png": "[encoded data removed]",
      "text/plain": [
       "<Figure size 1080x1080 with 2 Axes>"
      ]
     },
     "metadata": {
      "needs_background": "light"
     },
     "output_type": "display_data"
    }
   ],
   "source": [
    "plt.figure(figsize=(15,15))\n",
    "sns.heatmap(demographic_df.corr(), annot = True)"
   ]
  },
  {
   "cell_type": "markdown",
   "metadata": {},
   "source": [
    "|Variable 1 | variable 2 | correlation value|\n",
    "|----------|-----------|-----------------|\n",
    "|BMI|BMI_group|0.88|\n",
    "|BMI|points|-0.4|\n",
    "|BMI_group|points|-0.36|\n",
    "|D2|D4|0.87|"
   ]
  },
  {
   "cell_type": "code",
   "execution_count": 139,
   "metadata": {},
   "outputs": [
    {
     "data": {
      "image/png": "[encoded data removed]",
      "text/plain": [
       "<Figure size 432x288 with 1 Axes>"
      ]
     },
     "metadata": {
      "needs_background": "light"
     },
     "output_type": "display_data"
    }
   ],
   "source": [
    "ax = sns.violinplot(x=\"D6\", y=\"BMI\", data=demographic_df)"
   ]
  },
  {
   "cell_type": "markdown",
   "metadata": {},
   "source": [
    "BMI and Income"
   ]
  },
  {
   "cell_type": "code",
   "execution_count": 134,
   "metadata": {
    "scrolled": false
   },
   "outputs": [
    {
     "data": {
      "image/png": "[encoded data removed]",
      "text/plain": [
       "<Figure size 432x432 with 3 Axes>"
      ]
     },
     "metadata": {
      "needs_background": "light"
     },
     "output_type": "display_data"
    }
   ],
   "source": [
    "sns.jointplot(x=\"D6\", y=\"BMI\", data=demographic_df);"
   ]
  },
  {
   "cell_type": "code",
   "execution_count": 156,
   "metadata": {},
   "outputs": [],
   "source": [
    "Y = demographic_df.BMI\n",
    "X = demographic_df.drop(['BMI','BMI_group','D4'], axis=1)"
   ]
  },
  {
   "cell_type": "code",
   "execution_count": 157,
   "metadata": {},
   "outputs": [],
   "source": [
    "X_train, X_test, Y_train, Y_test = train_test_split(X, Y, test_size = 0.2, random_state = 0)"
   ]
  },
  {
   "cell_type": "code",
   "execution_count": 159,
   "metadata": {},
   "outputs": [
    {
     "data": {
      "text/plain": [
       "LinearRegression(copy_X=True, fit_intercept=True, n_jobs=None, normalize=False)"
      ]
     },
     "execution_count": 159,
     "metadata": {},
     "output_type": "execute_result"
    }
   ],
   "source": [
    "lreg = LinearRegression()\n",
    "lreg.fit(X_train, Y_train)"
   ]
  },
  {
   "cell_type": "code",
   "execution_count": 155,
   "metadata": {
    "scrolled": true
   },
   "outputs": [
    {
     "name": "stdout",
     "output_type": "stream",
     "text": [
      "Train score: 21.3472 %\n",
      "Test score: 12.0045 %\n",
      "RMSE: 6.0797\n",
      "r2_score :  0.12004537309144236\n"
     ]
    }
   ],
   "source": [
    "from sklearn.metrics import mean_squared_error\n",
    "pred_linear = lreg.predict(X_test)\n",
    "\n",
    "print('Train score: {:.4f} %'.format(lreg.score(X_train, Y_train)*100))\n",
    "print('Test score: {:.4f} %'.format(lreg.score(X_test, Y_test)*100))\n",
    "\n",
    "print('RMSE: {:.4f}'.format(np.sqrt(mean_squared_error(Y_test,pred_linear))))\n",
    "print (\"r2_score : \", lreg.score(X_test,Y_test))"
   ]
  },
  {
   "cell_type": "code",
   "execution_count": 160,
   "metadata": {},
   "outputs": [],
   "source": [
    "Y = demographic_df.points\n",
    "X = demographic_df.drop(['points','D4'], axis=1)"
   ]
  },
  {
   "cell_type": "code",
   "execution_count": 161,
   "metadata": {},
   "outputs": [],
   "source": [
    "X_train, X_test, Y_train, Y_test = train_test_split(X, Y, test_size = 0.2, random_state = 0)"
   ]
  },
  {
   "cell_type": "code",
   "execution_count": 162,
   "metadata": {},
   "outputs": [
    {
     "data": {
      "text/plain": [
       "LinearRegression(copy_X=True, fit_intercept=True, n_jobs=None, normalize=False)"
      ]
     },
     "execution_count": 162,
     "metadata": {},
     "output_type": "execute_result"
    }
   ],
   "source": [
    "lreg = LinearRegression()\n",
    "lreg.fit(X_train, Y_train)"
   ]
  },
  {
   "cell_type": "code",
   "execution_count": 163,
   "metadata": {
    "scrolled": false
   },
   "outputs": [
    {
     "name": "stdout",
     "output_type": "stream",
     "text": [
      "Train score: 21.0593 %\n",
      "Test score: 8.9826 %\n",
      "RMSE: 13.7708\n",
      "r2_score :  0.08982582088053548\n"
     ]
    }
   ],
   "source": [
    "from sklearn.metrics import mean_squared_error\n",
    "pred_linear = lreg.predict(X_test)\n",
    "\n",
    "print('Train score: {:.4f} %'.format(lreg.score(X_train, Y_train)*100))\n",
    "print('Test score: {:.4f} %'.format(lreg.score(X_test, Y_test)*100))\n",
    "\n",
    "print('RMSE: {:.4f}'.format(np.sqrt(mean_squared_error(Y_test,pred_linear))))\n",
    "print (\"r2_score : \", lreg.score(X_test,Y_test))"
   ]
  },
  {
   "cell_type": "code",
   "execution_count": 168,
   "metadata": {},
   "outputs": [
    {
     "name": "stdout",
     "output_type": "stream",
     "text": [
      "24.959276567641655\n",
      "[ 1.37290175e-01 -1.40355148e+00  6.73137258e-02 -2.80759779e-01\n",
      "  1.95340725e+00  1.01780402e+00  1.56767985e-05  1.03175256e+00\n",
      "  4.95587088e-01 -5.55712104e-01 -2.50032629e+00]\n"
     ]
    }
   ],
   "source": [
    "#To retrieve the intercept:\n",
    "print(lreg.intercept_)\n",
    "#For retrieving the slope:\n",
    "print(lreg.coef_)"
   ]
  },
  {
   "cell_type": "code",
   "execution_count": 177,
   "metadata": {},
   "outputs": [
    {
     "data": {
      "text/html": [
       "<table class=\"simpletable\">\n",
       "<caption>OLS Regression Results</caption>\n",
       "<tr>\n",
       "  <th>Dep. Variable:</th>         <td>points</td>      <th>  R-squared:         </th> <td>   0.211</td>\n",
       "</tr>\n",
       "<tr>\n",
       "  <th>Model:</th>                   <td>OLS</td>       <th>  Adj. R-squared:    </th> <td>   0.199</td>\n",
       "</tr>\n",
       "<tr>\n",
       "  <th>Method:</th>             <td>Least Squares</td>  <th>  F-statistic:       </th> <td>   18.75</td>\n",
       "</tr>\n",
       "<tr>\n",
       "  <th>Date:</th>             <td>Sat, 25 Apr 2020</td> <th>  Prob (F-statistic):</th> <td>1.65e-33</td>\n",
       "</tr>\n",
       "<tr>\n",
       "  <th>Time:</th>                 <td>19:11:12</td>     <th>  Log-Likelihood:    </th> <td> -3083.2</td>\n",
       "</tr>\n",
       "<tr>\n",
       "  <th>No. Observations:</th>      <td>   785</td>      <th>  AIC:               </th> <td>   6190.</td>\n",
       "</tr>\n",
       "<tr>\n",
       "  <th>Df Residuals:</th>          <td>   773</td>      <th>  BIC:               </th> <td>   6246.</td>\n",
       "</tr>\n",
       "<tr>\n",
       "  <th>Df Model:</th>              <td>    11</td>      <th>                     </th>     <td> </td>   \n",
       "</tr>\n",
       "<tr>\n",
       "  <th>Covariance Type:</th>      <td>nonrobust</td>    <th>                     </th>     <td> </td>   \n",
       "</tr>\n",
       "</table>\n",
       "<table class=\"simpletable\">\n",
       "<tr>\n",
       "      <td></td>         <th>coef</th>     <th>std err</th>      <th>t</th>      <th>P>|t|</th>  <th>[0.025</th>    <th>0.975]</th>  \n",
       "</tr>\n",
       "<tr>\n",
       "  <th>const</th>     <td>   24.9593</td> <td>    3.827</td> <td>    6.522</td> <td> 0.000</td> <td>   17.446</td> <td>   32.472</td>\n",
       "</tr>\n",
       "<tr>\n",
       "  <th>S1</th>        <td>    0.1373</td> <td>    1.082</td> <td>    0.127</td> <td> 0.899</td> <td>   -1.987</td> <td>    2.262</td>\n",
       "</tr>\n",
       "<tr>\n",
       "  <th>S2</th>        <td>   -1.4036</td> <td>    0.918</td> <td>   -1.529</td> <td> 0.127</td> <td>   -3.205</td> <td>    0.398</td>\n",
       "</tr>\n",
       "<tr>\n",
       "  <th>S3</th>        <td>    0.0673</td> <td>    0.036</td> <td>    1.864</td> <td> 0.063</td> <td>   -0.004</td> <td>    0.138</td>\n",
       "</tr>\n",
       "<tr>\n",
       "  <th>D2</th>        <td>   -0.2808</td> <td>    0.330</td> <td>   -0.850</td> <td> 0.395</td> <td>   -0.929</td> <td>    0.367</td>\n",
       "</tr>\n",
       "<tr>\n",
       "  <th>D3</th>        <td>    1.9534</td> <td>    1.068</td> <td>    1.830</td> <td> 0.068</td> <td>   -0.142</td> <td>    4.049</td>\n",
       "</tr>\n",
       "<tr>\n",
       "  <th>D5</th>        <td>    1.0178</td> <td>    1.074</td> <td>    0.947</td> <td> 0.344</td> <td>   -1.091</td> <td>    3.127</td>\n",
       "</tr>\n",
       "<tr>\n",
       "  <th>D6</th>        <td> 1.568e-05</td> <td> 8.21e-06</td> <td>    1.908</td> <td> 0.057</td> <td>-4.49e-07</td> <td> 3.18e-05</td>\n",
       "</tr>\n",
       "<tr>\n",
       "  <th>D7</th>        <td>    1.0318</td> <td>    0.451</td> <td>    2.290</td> <td> 0.022</td> <td>    0.147</td> <td>    1.916</td>\n",
       "</tr>\n",
       "<tr>\n",
       "  <th>D8</th>        <td>    0.4956</td> <td>    0.908</td> <td>    0.546</td> <td> 0.585</td> <td>   -1.287</td> <td>    2.279</td>\n",
       "</tr>\n",
       "<tr>\n",
       "  <th>BMI</th>       <td>   -0.5557</td> <td>    0.140</td> <td>   -3.983</td> <td> 0.000</td> <td>   -0.830</td> <td>   -0.282</td>\n",
       "</tr>\n",
       "<tr>\n",
       "  <th>BMI_group</th> <td>   -2.5003</td> <td>    1.026</td> <td>   -2.437</td> <td> 0.015</td> <td>   -4.515</td> <td>   -0.486</td>\n",
       "</tr>\n",
       "</table>\n",
       "<table class=\"simpletable\">\n",
       "<tr>\n",
       "  <th>Omnibus:</th>       <td>11.756</td> <th>  Durbin-Watson:     </th> <td>   2.037</td>\n",
       "</tr>\n",
       "<tr>\n",
       "  <th>Prob(Omnibus):</th> <td> 0.003</td> <th>  Jarque-Bera (JB):  </th> <td>   9.633</td>\n",
       "</tr>\n",
       "<tr>\n",
       "  <th>Skew:</th>          <td> 0.191</td> <th>  Prob(JB):          </th> <td> 0.00809</td>\n",
       "</tr>\n",
       "<tr>\n",
       "  <th>Kurtosis:</th>      <td> 2.614</td> <th>  Cond. No.          </th> <td>7.41e+05</td>\n",
       "</tr>\n",
       "</table><br/><br/>Warnings:<br/>[1] Standard Errors assume that the covariance matrix of the errors is correctly specified.<br/>[2] The condition number is large, 7.41e+05. This might indicate that there are<br/>strong multicollinearity or other numerical problems."
      ],
      "text/plain": [
       "<class 'statsmodels.iolib.summary.Summary'>\n",
       "\"\"\"\n",
       "                            OLS Regression Results                            \n",
       "==============================================================================\n",
       "Dep. Variable:                 points   R-squared:                       0.211\n",
       "Model:                            OLS   Adj. R-squared:                  0.199\n",
       "Method:                 Least Squares   F-statistic:                     18.75\n",
       "Date:                Sat, 25 Apr 2020   Prob (F-statistic):           1.65e-33\n",
       "Time:                        19:11:12   Log-Likelihood:                -3083.2\n",
       "No. Observations:                 785   AIC:                             6190.\n",
       "Df Residuals:                     773   BIC:                             6246.\n",
       "Df Model:                          11                                         \n",
       "Covariance Type:            nonrobust                                         \n",
       "==============================================================================\n",
       "                 coef    std err          t      P>|t|      [0.025      0.975]\n",
       "------------------------------------------------------------------------------\n",
       "const         24.9593      3.827      6.522      0.000      17.446      32.472\n",
       "S1             0.1373      1.082      0.127      0.899      -1.987       2.262\n",
       "S2            -1.4036      0.918     -1.529      0.127      -3.205       0.398\n",
       "S3             0.0673      0.036      1.864      0.063      -0.004       0.138\n",
       "D2            -0.2808      0.330     -0.850      0.395      -0.929       0.367\n",
       "D3             1.9534      1.068      1.830      0.068      -0.142       4.049\n",
       "D5             1.0178      1.074      0.947      0.344      -1.091       3.127\n",
       "D6          1.568e-05   8.21e-06      1.908      0.057   -4.49e-07    3.18e-05\n",
       "D7             1.0318      0.451      2.290      0.022       0.147       1.916\n",
       "D8             0.4956      0.908      0.546      0.585      -1.287       2.279\n",
       "BMI           -0.5557      0.140     -3.983      0.000      -0.830      -0.282\n",
       "BMI_group     -2.5003      1.026     -2.437      0.015      -4.515      -0.486\n",
       "==============================================================================\n",
       "Omnibus:                       11.756   Durbin-Watson:                   2.037\n",
       "Prob(Omnibus):                  0.003   Jarque-Bera (JB):                9.633\n",
       "Skew:                           0.191   Prob(JB):                      0.00809\n",
       "Kurtosis:                       2.614   Cond. No.                     7.41e+05\n",
       "==============================================================================\n",
       "\n",
       "Warnings:\n",
       "[1] Standard Errors assume that the covariance matrix of the errors is correctly specified.\n",
       "[2] The condition number is large, 7.41e+05. This might indicate that there are\n",
       "strong multicollinearity or other numerical problems.\n",
       "\"\"\""
      ]
     },
     "execution_count": 177,
     "metadata": {},
     "output_type": "execute_result"
    }
   ],
   "source": [
    "X_train = sm.add_constant(X_train)\n",
    "results = sm.OLS(Y_train, X_train.astype(float)).fit()\n",
    "results.summary()"
   ]
  },
  {
   "cell_type": "markdown",
   "metadata": {},
   "source": [
    "#### Food choice "
   ]
  },
  {
   "cell_type": "code",
   "execution_count": 181,
   "metadata": {},
   "outputs": [
    {
     "data": {
      "text/plain": [
       "167"
      ]
     },
     "execution_count": 181,
     "metadata": {},
     "output_type": "execute_result"
    }
   ],
   "source": [
    "data.columns.get_loc('Q8ri')"
   ]
  },
  {
   "cell_type": "code",
   "execution_count": 186,
   "metadata": {},
   "outputs": [],
   "source": [
    "df_food=df.iloc[:,28:168]"
   ]
  },
  {
   "cell_type": "code",
   "execution_count": null,
   "metadata": {},
   "outputs": [],
   "source": []
  },
  {
   "cell_type": "markdown",
   "metadata": {},
   "source": [
    " The above can help you to provide measurement of people healthiness in different dimensions. Now, how can we map the above analysis into peoples’ choice behavior and the food consumption. Do their behaviors align with their mindset?\n"
   ]
  },
  {
   "cell_type": "code",
   "execution_count": null,
   "metadata": {},
   "outputs": [],
   "source": []
  },
  {
   "cell_type": "code",
   "execution_count": null,
   "metadata": {},
   "outputs": [],
   "source": []
  }
 ],
 "metadata": {
  "kernelspec": {
   "display_name": "Python 3",
   "language": "python",
   "name": "python3"
  },
  "language_info": {
   "codemirror_mode": {
    "name": "ipython",
    "version": 3
   },
   "file_extension": ".py",
   "mimetype": "text/x-python",
   "name": "python",
   "nbconvert_exporter": "python",
   "pygments_lexer": "ipython3",
   "version": "3.7.1"
  }
 },
 "nbformat": 4,
 "nbformat_minor": 4
}
