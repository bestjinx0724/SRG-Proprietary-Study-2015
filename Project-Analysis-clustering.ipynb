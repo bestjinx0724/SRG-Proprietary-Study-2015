{
 "cells": [
  {
   "cell_type": "code",
   "execution_count": 1,
   "metadata": {},
   "outputs": [],
   "source": [
    "#!pip install xlrd\n",
    "import xlrd #reading in excel files\n",
    "import pprint as pp\n",
    "from matplotlib import pyplot as plt\n",
    "%matplotlib inline\n",
    "\n",
    "import numpy as np\n",
    "import pandas as pd\n",
    "import statsmodels.api as sm\n",
    "import statsmodels.formula.api as smf\n",
    "#!pip install seaborn\n",
    "import seaborn as sns\n",
    "#!pip install sklearn\n",
    "import sklearn\n",
    "from sklearn.linear_model import LinearRegression\n",
    "from sklearn.preprocessing import scale"
   ]
  },
  {
   "cell_type": "code",
   "execution_count": 23,
   "metadata": {},
   "outputs": [],
   "source": [
    "df = pd.read_csv('file:///Users/meihao/Desktop/predictive%20SAS/Final%20Project%20/project_cleaned_data.csv')"
   ]
  },
  {
   "cell_type": "code",
   "execution_count": 24,
   "metadata": {},
   "outputs": [
    {
     "data": {
      "text/html": [
       "<div>\n",
       "<style scoped>\n",
       "    .dataframe tbody tr th:only-of-type {\n",
       "        vertical-align: middle;\n",
       "    }\n",
       "\n",
       "    .dataframe tbody tr th {\n",
       "        vertical-align: top;\n",
       "    }\n",
       "\n",
       "    .dataframe thead th {\n",
       "        text-align: right;\n",
       "    }\n",
       "</style>\n",
       "<table border=\"1\" class=\"dataframe\">\n",
       "  <thead>\n",
       "    <tr style=\"text-align: right;\">\n",
       "      <th></th>\n",
       "      <th>Unnamed: 0</th>\n",
       "      <th>S1</th>\n",
       "      <th>S2</th>\n",
       "      <th>S3</th>\n",
       "      <th>hS3</th>\n",
       "      <th>Q1ra</th>\n",
       "      <th>Q1rb</th>\n",
       "      <th>Q1rd</th>\n",
       "      <th>Q1re</th>\n",
       "      <th>Q1rf</th>\n",
       "      <th>...</th>\n",
       "      <th>D7r5</th>\n",
       "      <th>D7r6</th>\n",
       "      <th>D7r7</th>\n",
       "      <th>D7r6oe</th>\n",
       "      <th>D8</th>\n",
       "      <th>D9</th>\n",
       "      <th>D10ra</th>\n",
       "      <th>D10rb</th>\n",
       "      <th>D11</th>\n",
       "      <th>qtime</th>\n",
       "    </tr>\n",
       "  </thead>\n",
       "  <tbody>\n",
       "    <tr>\n",
       "      <th>0</th>\n",
       "      <td>0</td>\n",
       "      <td>Myself</td>\n",
       "      <td>Female</td>\n",
       "      <td>52</td>\n",
       "      <td>50-54</td>\n",
       "      <td>Agree Some what</td>\n",
       "      <td>Agree Some what</td>\n",
       "      <td>Strongly Agree</td>\n",
       "      <td>Agree Some what</td>\n",
       "      <td>Agree Some what</td>\n",
       "      <td>...</td>\n",
       "      <td>NO TO: American Indian</td>\n",
       "      <td>NO TO: Other ( please specify)</td>\n",
       "      <td>NO TO: Decline to answer</td>\n",
       "      <td></td>\n",
       "      <td>Not currently employed, but looking for work</td>\n",
       "      <td>115</td>\n",
       "      <td>5</td>\n",
       "      <td>2</td>\n",
       "      <td>Illinois</td>\n",
       "      <td>657.14</td>\n",
       "    </tr>\n",
       "    <tr>\n",
       "      <th>1</th>\n",
       "      <td>1</td>\n",
       "      <td>Myself</td>\n",
       "      <td>Male</td>\n",
       "      <td>39</td>\n",
       "      <td>35-39</td>\n",
       "      <td>Agree Some what</td>\n",
       "      <td>Agree Some what</td>\n",
       "      <td>Agree Some what</td>\n",
       "      <td>Disagree Some what</td>\n",
       "      <td>Agree Some what</td>\n",
       "      <td>...</td>\n",
       "      <td>NO TO: American Indian</td>\n",
       "      <td>NO TO: Other ( please specify)</td>\n",
       "      <td>NO TO: Decline to answer</td>\n",
       "      <td></td>\n",
       "      <td>Work full time</td>\n",
       "      <td>275</td>\n",
       "      <td>6</td>\n",
       "      <td>2</td>\n",
       "      <td>Pennsylvania</td>\n",
       "      <td>885.05</td>\n",
       "    </tr>\n",
       "    <tr>\n",
       "      <th>2</th>\n",
       "      <td>2</td>\n",
       "      <td>Myself</td>\n",
       "      <td>Female</td>\n",
       "      <td>30</td>\n",
       "      <td>30-34</td>\n",
       "      <td>Strongly Agree</td>\n",
       "      <td>Strongly Agree</td>\n",
       "      <td>Strongly Agree</td>\n",
       "      <td>Strongly Agree</td>\n",
       "      <td>Agree Some what</td>\n",
       "      <td>...</td>\n",
       "      <td>NO TO: American Indian</td>\n",
       "      <td>NO TO: Other ( please specify)</td>\n",
       "      <td>NO TO: Decline to answer</td>\n",
       "      <td></td>\n",
       "      <td>Work full time</td>\n",
       "      <td>150</td>\n",
       "      <td>6</td>\n",
       "      <td>0</td>\n",
       "      <td>Illinois</td>\n",
       "      <td>777.58</td>\n",
       "    </tr>\n",
       "    <tr>\n",
       "      <th>3</th>\n",
       "      <td>3</td>\n",
       "      <td>Myself</td>\n",
       "      <td>Female</td>\n",
       "      <td>21</td>\n",
       "      <td>18-24</td>\n",
       "      <td>Agree Some what</td>\n",
       "      <td>Agree Some what</td>\n",
       "      <td>Strongly Agree</td>\n",
       "      <td>Agree Some what</td>\n",
       "      <td>Agree Some what</td>\n",
       "      <td>...</td>\n",
       "      <td>NO TO: American Indian</td>\n",
       "      <td>NO TO: Other ( please specify)</td>\n",
       "      <td>NO TO: Decline to answer</td>\n",
       "      <td></td>\n",
       "      <td>Work full time</td>\n",
       "      <td>150</td>\n",
       "      <td>5</td>\n",
       "      <td>8</td>\n",
       "      <td>Wisconsin</td>\n",
       "      <td>654.48</td>\n",
       "    </tr>\n",
       "    <tr>\n",
       "      <th>4</th>\n",
       "      <td>4</td>\n",
       "      <td>Myself</td>\n",
       "      <td>Male</td>\n",
       "      <td>43</td>\n",
       "      <td>40-44</td>\n",
       "      <td>Agree Some what</td>\n",
       "      <td>Agree Some what</td>\n",
       "      <td>Agree Some what</td>\n",
       "      <td>Agree Some what</td>\n",
       "      <td>Agree Some what</td>\n",
       "      <td>...</td>\n",
       "      <td>NO TO: American Indian</td>\n",
       "      <td>NO TO: Other ( please specify)</td>\n",
       "      <td>NO TO: Decline to answer</td>\n",
       "      <td></td>\n",
       "      <td>Not currently employed</td>\n",
       "      <td>213</td>\n",
       "      <td>5</td>\n",
       "      <td>7</td>\n",
       "      <td>New York</td>\n",
       "      <td>437.95</td>\n",
       "    </tr>\n",
       "  </tbody>\n",
       "</table>\n",
       "<p>5 rows × 384 columns</p>\n",
       "</div>"
      ],
      "text/plain": [
       "   Unnamed: 0      S1      S2  S3    hS3             Q1ra             Q1rb  \\\n",
       "0           0  Myself  Female  52  50-54  Agree Some what  Agree Some what   \n",
       "1           1  Myself    Male  39  35-39  Agree Some what  Agree Some what   \n",
       "2           2  Myself  Female  30  30-34   Strongly Agree   Strongly Agree   \n",
       "3           3  Myself  Female  21  18-24  Agree Some what  Agree Some what   \n",
       "4           4  Myself    Male  43  40-44  Agree Some what  Agree Some what   \n",
       "\n",
       "              Q1rd                Q1re             Q1rf   ...    \\\n",
       "0   Strongly Agree     Agree Some what  Agree Some what   ...     \n",
       "1  Agree Some what  Disagree Some what  Agree Some what   ...     \n",
       "2   Strongly Agree      Strongly Agree  Agree Some what   ...     \n",
       "3   Strongly Agree     Agree Some what  Agree Some what   ...     \n",
       "4  Agree Some what     Agree Some what  Agree Some what   ...     \n",
       "\n",
       "                     D7r5                            D7r6  \\\n",
       "0  NO TO: American Indian  NO TO: Other ( please specify)   \n",
       "1  NO TO: American Indian  NO TO: Other ( please specify)   \n",
       "2  NO TO: American Indian  NO TO: Other ( please specify)   \n",
       "3  NO TO: American Indian  NO TO: Other ( please specify)   \n",
       "4  NO TO: American Indian  NO TO: Other ( please specify)   \n",
       "\n",
       "                       D7r7 D7r6oe  \\\n",
       "0  NO TO: Decline to answer          \n",
       "1  NO TO: Decline to answer          \n",
       "2  NO TO: Decline to answer          \n",
       "3  NO TO: Decline to answer          \n",
       "4  NO TO: Decline to answer          \n",
       "\n",
       "                                             D8   D9 D10ra D10rb  \\\n",
       "0  Not currently employed, but looking for work  115     5     2   \n",
       "1                                Work full time  275     6     2   \n",
       "2                                Work full time  150     6     0   \n",
       "3                                Work full time  150     5     8   \n",
       "4                        Not currently employed  213     5     7   \n",
       "\n",
       "            D11   qtime  \n",
       "0      Illinois  657.14  \n",
       "1  Pennsylvania  885.05  \n",
       "2      Illinois  777.58  \n",
       "3     Wisconsin  654.48  \n",
       "4      New York  437.95  \n",
       "\n",
       "[5 rows x 384 columns]"
      ]
     },
     "execution_count": 24,
     "metadata": {},
     "output_type": "execute_result"
    }
   ],
   "source": [
    "df.head()"
   ]
  },
  {
   "cell_type": "code",
   "execution_count": 25,
   "metadata": {},
   "outputs": [],
   "source": [
    "df.drop([ 'Unnamed: 0'], axis=1,inplace=True)"
   ]
  },
  {
   "cell_type": "code",
   "execution_count": 26,
   "metadata": {
    "scrolled": false
   },
   "outputs": [
    {
     "data": {
      "text/plain": [
       "(1003, 383)"
      ]
     },
     "execution_count": 26,
     "metadata": {},
     "output_type": "execute_result"
    }
   ],
   "source": [
    "df.shape"
   ]
  },
  {
   "cell_type": "code",
   "execution_count": 15,
   "metadata": {},
   "outputs": [
    {
     "data": {
      "text/plain": [
       "<matplotlib.axes._subplots.AxesSubplot at 0x10fa77128>"
      ]
     },
     "execution_count": 15,
     "metadata": {},
     "output_type": "execute_result"
    },
    {
     "data": {
      "image/png": "[encoded data removed]",
      "text/plain": [
       "<Figure size 432x288 with 2 Axes>"
      ]
     },
     "metadata": {
      "needs_background": "light"
     },
     "output_type": "display_data"
    }
   ],
   "source": [
    "sns.heatmap(df.corr().abs(),annot=True)"
   ]
  },
  {
   "cell_type": "markdown",
   "metadata": {},
   "source": [
    "#### Demographic "
   ]
  },
  {
   "cell_type": "markdown",
   "metadata": {},
   "source": [
    "|Section |\tQuestion |\tDescription|binary |multi| type|transform|from|To|\n",
    "|-------|-----------|--------------- |----------|-------|------|-------|-------|-------|\n",
    "| Demographic   |s1    |resposibility|\tyes\t|-\t\t|cat    |\tYes\t|string|0/1|\n",
    "|             \t|s2    |Gender\t     |yes\t|-\t    |cat    |\tYes\t|string|0/1|\n",
    "|            \t|s3    |Age\t         |-\t|Yes    |num\t|\tYes\t|string|int|\n",
    "|           \t|hs3   |Age group    |-    |Yes\t\t|cat\t|   Not yet\t|-|-|\n",
    "|            \t|D2     |number of household members| - | yes |cat|yes |string|int|\n",
    "|           \t|D3     |married or living          | yes | -   |cat|Yes|string|0/1|\n",
    "|            \t|D4     |#children residing with you| - | yes  |cat|Yes|string|int|\n",
    "|            \t|D5     |Education level            | - | yes   |cat|yes |cat|get dummies|\n",
    "|            \t|D6     |Income range before tax    |- | yes |cat|yes |cat|get dummies|\n",
    "|            \t|D7 r1-r7|Ethnicity options         | Yes | -   |cat|Yes|yes|transform into one column|\n",
    "|            \t|D7 r6oe|Ethnicity options-other    | -| Yes   |cat|Yes|yes|transform into one column|\n",
    "|            \t|D8     |work situation             | - | Yes   |cat|yes |cat|get dummies|\n",
    "| \t            |D11    |States                     | -| Yes  |cat|yes |cat|get dummies|"
   ]
  },
  {
   "cell_type": "markdown",
   "metadata": {},
   "source": [
    "Transformations"
   ]
  },
  {
   "cell_type": "code",
   "execution_count": 27,
   "metadata": {},
   "outputs": [
    {
     "name": "stdout",
     "output_type": "stream",
     "text": [
      "S1: ['Myself' 'I share the responsibility with someone else']\n",
      "S2 ['Female' 'Male']\n",
      "S3 [52 39 30 21 43 26 54 36 20 29 37 62 32 18 65 61 48 59 25 47 45 28 40 31\n",
      " 53 51 57 42 34 24 46 23 27 44 60 64 55 33 56 22 58 41 19 35 50 38 63 49]\n",
      "D2 [ 4  2  3  5  1  6  8 12  7  9]\n",
      "D3 ['Yes, married or living with partner'\n",
      " 'No, not married and not living with partner' ' ']\n",
      "D4 ['2' '1' ' ' '3' '4' '5' '11' '7' '6']\n"
     ]
    }
   ],
   "source": [
    "print(\"S1:\",df.S1.unique())\n",
    "print(\"S2\",df.S2.unique())\n",
    "print(\"S3\",df.S3.unique())\n",
    "print(\"D2\",df.D2.unique())\n",
    "print(\"D3\",df.D3.unique())\n",
    "print(\"D4\",df.D4.unique())"
   ]
  },
  {
   "cell_type": "code",
   "execution_count": 28,
   "metadata": {},
   "outputs": [],
   "source": [
    "S1 = {\"S1\" : {'Myself':0, 'I share the responsibility with someone else':1}}\n",
    "df.replace(S1, inplace=True)\n"
   ]
  },
  {
   "cell_type": "code",
   "execution_count": 29,
   "metadata": {},
   "outputs": [],
   "source": [
    "S2 = {\"S2\" : {'Male':0, 'Female':1}}\n",
    "df.replace(S2, inplace=True)"
   ]
  },
  {
   "cell_type": "code",
   "execution_count": 30,
   "metadata": {},
   "outputs": [],
   "source": [
    "df['S3'] = df['S3'].astype(int)"
   ]
  },
  {
   "cell_type": "code",
   "execution_count": 31,
   "metadata": {},
   "outputs": [],
   "source": [
    "df.D3.replace(r' ', np.NaN, inplace= True)"
   ]
  },
  {
   "cell_type": "code",
   "execution_count": 32,
   "metadata": {},
   "outputs": [],
   "source": [
    "df.D4.replace(r' ', np.NaN, inplace= True)"
   ]
  },
  {
   "cell_type": "code",
   "execution_count": 33,
   "metadata": {},
   "outputs": [],
   "source": [
    "df['D4'].fillna(df['D4'].mode()[0], inplace=True)"
   ]
  },
  {
   "cell_type": "code",
   "execution_count": 14,
   "metadata": {},
   "outputs": [
    {
     "data": {
      "text/plain": [
       "array([ 4,  2,  3,  5,  1,  6,  8, 12,  7,  9], dtype=int64)"
      ]
     },
     "execution_count": 14,
     "metadata": {},
     "output_type": "execute_result"
    }
   ],
   "source": [
    "df.D2.unique()"
   ]
  },
  {
   "cell_type": "code",
   "execution_count": 34,
   "metadata": {},
   "outputs": [],
   "source": [
    "df['S3'] = df['S3'].astype(int)"
   ]
  },
  {
   "cell_type": "code",
   "execution_count": 35,
   "metadata": {},
   "outputs": [],
   "source": [
    "df['D4'] = df['D4'].astype(int)"
   ]
  },
  {
   "cell_type": "code",
   "execution_count": 36,
   "metadata": {},
   "outputs": [],
   "source": [
    "df['D2'] = df['D2'].astype(int)"
   ]
  },
  {
   "cell_type": "code",
   "execution_count": 37,
   "metadata": {},
   "outputs": [],
   "source": [
    "df['D3'].fillna(df['D3'].mode()[0], inplace=True)"
   ]
  },
  {
   "cell_type": "code",
   "execution_count": 38,
   "metadata": {},
   "outputs": [],
   "source": [
    "D3 = {\"D3\" : {'No, not married and not living with partner':0, 'Yes, married or living with partner':1}}\n",
    "df.replace(D3, inplace=True)"
   ]
  },
  {
   "cell_type": "code",
   "execution_count": 39,
   "metadata": {},
   "outputs": [
    {
     "data": {
      "text/plain": [
       "array(['Trade or technical school', 'Some college or Associate degree',\n",
       "       \"Attended graduate school or received Advanced degree (Master's, Ph.D.)\",\n",
       "       \"Graduated college/Bachelor's degree\", 'Graduated high school',\n",
       "       'Some high school or less', 'Decline to answer'], dtype=object)"
      ]
     },
     "execution_count": 39,
     "metadata": {},
     "output_type": "execute_result"
    }
   ],
   "source": [
    "df.D5.unique()"
   ]
  },
  {
   "cell_type": "code",
   "execution_count": 40,
   "metadata": {},
   "outputs": [],
   "source": [
    "df['D5'] = [1 if x in ['Trade or technical school', 'Some college or Associate degree',\"Attended graduate school or received Advanced degree (Master's, Ph.D.)\",\n",
    "       \"Graduated college/Bachelor's degree\"] else 0 for x in df['D5']]"
   ]
  },
  {
   "cell_type": "code",
   "execution_count": 41,
   "metadata": {
    "scrolled": true
   },
   "outputs": [
    {
     "data": {
      "text/plain": [
       "D6\n",
       "$100,000 but less than $200,000    104\n",
       "$15,000 but less than $25,000      151\n",
       "$200,000 but less than $300,000     14\n",
       "$25,000 but less than $35,000      133\n",
       "$300,000 but less than $500,000      7\n",
       "$35,000 but less than $50,000      139\n",
       "$50,000 but less than $75,000      186\n",
       "$500,000 or over                     2\n",
       "$75,000 but less than $100,000     106\n",
       "Decline to answer                   46\n",
       "Less than $15,000                  115\n",
       "dtype: int64"
      ]
     },
     "execution_count": 41,
     "metadata": {},
     "output_type": "execute_result"
    }
   ],
   "source": [
    "df.groupby(\"D6\").size()"
   ]
  },
  {
   "cell_type": "code",
   "execution_count": 42,
   "metadata": {},
   "outputs": [
    {
     "data": {
      "text/plain": [
       "368"
      ]
     },
     "execution_count": 42,
     "metadata": {},
     "output_type": "execute_result"
    }
   ],
   "source": [
    "df.columns.get_loc('D6')"
   ]
  },
  {
   "cell_type": "code",
   "execution_count": 43,
   "metadata": {},
   "outputs": [],
   "source": [
    "for i in range(0,1003):\n",
    "        if df.iloc[i,368]=='$500,000 or over':\n",
    "            df.iloc[i,368]= 500000\n",
    "        elif df.iloc[i,368]=='$35,000 but less than $50,000':\n",
    "            df.iloc[i,368]= 42500\n",
    "        elif df.iloc[i,368]=='$300,000 but less than $500,000':\n",
    "            df.iloc[i,368]= 400000\n",
    "        elif df.iloc[i,368]=='$25,000 but less than $35,000':\n",
    "            df.iloc[i,368]= 30000\n",
    "        elif df.iloc[i,368]=='$75,000 but less than $100,000':\n",
    "            df.iloc[i,368]= 87500\n",
    "        elif df.iloc[i,368]=='$50,000 but less than $75,000':\n",
    "            df.iloc[i,368]= 62500\n",
    "        elif df.iloc[i,368]=='$100,000 but less than $200,000':\n",
    "            df.iloc[i,368]= 150000\n",
    "        elif df.iloc[i,368]=='$15,000 but less than $25,000':\n",
    "            df.iloc[i,368]= 20000\n",
    "        elif df.iloc[i,368]=='Decline to answer':\n",
    "            df.iloc[i,368]= 62500\n",
    "        elif df.iloc[i,368]=='$200,000 but less than $300,000':\n",
    "            df.iloc[i,368]= 250000\n",
    "        else:\n",
    "            df.iloc[i,368]=15000"
   ]
  },
  {
   "cell_type": "code",
   "execution_count": 44,
   "metadata": {},
   "outputs": [
    {
     "name": "stdout",
     "output_type": "stream",
     "text": [
      "['White /Anglo/Caucasian' 'NO TO: White /Anglo/Caucasian']\n",
      "['NO TO: Hispanic' 'Hispanic']\n",
      "['NO TO: Black/African American' 'Black/African American']\n",
      "['NO TO: Asian/Oriental' 'Asian/Oriental']\n",
      "['NO TO: American Indian' 'American Indian']\n",
      "['NO TO: Other ( please specify)' 'Other ( please specify)']\n",
      "['NO TO: Decline to answer' 'Decline to answer']\n",
      "[' ' 'South Asian' 'middle eastern' 'caribbean' 'Mixed Race' 'Hawaiian'\n",
      " 'italian' 'pacific isalnder']\n"
     ]
    }
   ],
   "source": [
    "print(df.D7r1.unique())\n",
    "print(df.D7r2.unique())\n",
    "print(df.D7r3.unique())\n",
    "print(df.D7r4.unique())\n",
    "print(df.D7r5.unique())\n",
    "print(df.D7r6.unique())\n",
    "print(df.D7r7.unique())\n",
    "print(df.D7r6oe.unique())"
   ]
  },
  {
   "cell_type": "code",
   "execution_count": 45,
   "metadata": {},
   "outputs": [],
   "source": [
    "def f(df):\n",
    "    if df['D7r1'] == 'White /Anglo/Caucasian':\n",
    "        val = 1\n",
    "    elif df['D7r2'] =='Hispanic':\n",
    "        val = 2\n",
    "    elif df['D7r3'] =='Black/African American':\n",
    "        val = 3\n",
    "    elif df['D7r4'] =='Asian/Oriental':\n",
    "        val = 4\n",
    "    elif df['D7r5'] =='American Indian':\n",
    "        val = 5\n",
    "    elif df['D7r7'] =='Decline to answer':\n",
    "        val = 0\n",
    "    else:\n",
    "        val = 6\n",
    "    return val"
   ]
  },
  {
   "cell_type": "code",
   "execution_count": 46,
   "metadata": {},
   "outputs": [],
   "source": [
    " df['D7'] = df.apply(f, axis=1)"
   ]
  },
  {
   "cell_type": "code",
   "execution_count": 47,
   "metadata": {},
   "outputs": [
    {
     "data": {
      "text/plain": [
       "0"
      ]
     },
     "execution_count": 47,
     "metadata": {},
     "output_type": "execute_result"
    }
   ],
   "source": [
    "df.D7.isnull().sum()"
   ]
  },
  {
   "cell_type": "code",
   "execution_count": 49,
   "metadata": {},
   "outputs": [],
   "source": [
    "s=df.groupby('D7').size()\n",
    "bar_D7=s.to_frame()\n",
    "bar_D7.reset_index(inplace=True)\n",
    "bar_D7.rename(columns = {0:'value'}, inplace = True)\n",
    "bar_D7_1=bar_D7.sort_values('value', ascending=False)"
   ]
  },
  {
   "cell_type": "code",
   "execution_count": 50,
   "metadata": {},
   "outputs": [
    {
     "data": {
      "image/png": "[encoded data removed]",
      "text/plain": [
       "<Figure size 432x288 with 1 Axes>"
      ]
     },
     "metadata": {},
     "output_type": "display_data"
    }
   ],
   "source": [
    "# DONUT chart\n",
    "labels = bar_D7['D7']\n",
    "sizes = bar_D7['value']\n",
    "#,'#42326B',\"#34495e\",'#9D8DC7', \"#F1BDBD\"\n",
    "colors = ['#D63333','#DE5C5C','#42326B','#34495e',\"#34495e\",'#9D8DC7', \"#F1BDBD\"]\n",
    " \n",
    "fig1, ax1 = plt.subplots()\n",
    "ax1.pie(sizes, colors = colors, labels=labels, autopct='%1.1f%%', startangle=90)\n",
    "#draw circle\n",
    "centre_circle = plt.Circle((0,0),0.70,fc='white')\n",
    "fig = plt.gcf()\n",
    "fig.gca().add_artist(centre_circle)\n",
    "# Equal aspect ratio ensures that pie is drawn as a circle\n",
    "ax1.axis('equal')  \n",
    "plt.tight_layout()\n",
    "plt.show()"
   ]
  },
  {
   "cell_type": "code",
   "execution_count": 51,
   "metadata": {},
   "outputs": [],
   "source": [
    "demographic_columns=['S1','S2', 'S3', 'hS3','D2','D3','D4','D5','D6','D8', 'D11','D7']\n",
    "df_dem=df.loc[:, demographic_columns]"
   ]
  },
  {
   "cell_type": "code",
   "execution_count": 52,
   "metadata": {
    "scrolled": true
   },
   "outputs": [
    {
     "name": "stdout",
     "output_type": "stream",
     "text": [
      "<class 'pandas.core.frame.DataFrame'>\n",
      "RangeIndex: 1003 entries, 0 to 1002\n",
      "Data columns (total 12 columns):\n",
      "S1     1003 non-null int64\n",
      "S2     1003 non-null int64\n",
      "S3     1003 non-null int64\n",
      "hS3    1003 non-null object\n",
      "D2     1003 non-null int64\n",
      "D3     1003 non-null int64\n",
      "D4     1003 non-null int64\n",
      "D5     1003 non-null int64\n",
      "D6     1003 non-null int64\n",
      "D8     1003 non-null object\n",
      "D11    1003 non-null object\n",
      "D7     1003 non-null int64\n",
      "dtypes: int64(9), object(3)\n",
      "memory usage: 94.1+ KB\n"
     ]
    }
   ],
   "source": [
    "df_dem.info()"
   ]
  },
  {
   "cell_type": "code",
   "execution_count": 53,
   "metadata": {},
   "outputs": [
    {
     "data": {
      "text/plain": [
       "<matplotlib.axes._subplots.AxesSubplot at 0x1c214470f0>"
      ]
     },
     "execution_count": 53,
     "metadata": {},
     "output_type": "execute_result"
    },
    {
     "data": {
      "image/png": "[encoded data removed]",
      "text/plain": [
       "<Figure size 432x288 with 2 Axes>"
      ]
     },
     "metadata": {
      "needs_background": "light"
     },
     "output_type": "display_data"
    }
   ],
   "source": [
    "sns.heatmap(df_dem.corr().abs(),annot=True)"
   ]
  },
  {
   "cell_type": "markdown",
   "metadata": {},
   "source": [
    "#### Physical health "
   ]
  },
  {
   "cell_type": "markdown",
   "metadata": {},
   "source": [
    "|Section |\tQuestion |\tDescription|values.count |options.count| type|Missing|Missing%|\n",
    "|-------|-----------|--------------- |----------|-------|------|-------|-------|\n",
    "|            \t|D9     |weight pound               |194| -   |num|No |-|\n",
    "| \t            |D10ra  |height ft                  | 5 | -   |num|No |-|\n",
    "| \t            |D10rb  |height inch                | 13| -   |num|No |-|"
   ]
  },
  {
   "cell_type": "code",
   "execution_count": 34,
   "metadata": {},
   "outputs": [],
   "source": [
    "PHH_columns=['D9','D10ra', 'D10rb']\n",
    "df_PHH=df.loc[:, PHH_columns]"
   ]
  },
  {
   "cell_type": "markdown",
   "metadata": {},
   "source": [
    "We will calculate BMI as a measure of physical health."
   ]
  },
  {
   "cell_type": "code",
   "execution_count": 54,
   "metadata": {},
   "outputs": [],
   "source": [
    "#BMI = (Weight in Pounds / (Height in inches) x (Height in inches)\t) x 703\n",
    "df['BMI']=(df['D9']/(12*df[\"D10ra\"]+df[\"D10rb\"])**2)*703"
   ]
  },
  {
   "cell_type": "code",
   "execution_count": 55,
   "metadata": {},
   "outputs": [
    {
     "data": {
      "text/plain": [
       "<bound method IndexOpsMixin.nunique of 0       21.031478\n",
       "1       35.304054\n",
       "2       20.341435\n",
       "3       22.804931\n",
       "4       33.356872\n",
       "5       24.199951\n",
       "6       19.366391\n",
       "7       22.462722\n",
       "8       44.280675\n",
       "9       17.250892\n",
       "10      34.967561\n",
       "11      24.325260\n",
       "12      20.117066\n",
       "13      31.868248\n",
       "14      28.885135\n",
       "15      30.406574\n",
       "16      32.573847\n",
       "17      28.339156\n",
       "18      24.088687\n",
       "19      23.401056\n",
       "20      32.074985\n",
       "21      34.538927\n",
       "22      41.499410\n",
       "23      19.663387\n",
       "24      25.744629\n",
       "25      27.121914\n",
       "26      26.132992\n",
       "27      24.962706\n",
       "28      26.383937\n",
       "29      25.603538\n",
       "          ...    \n",
       "973     30.663453\n",
       "974     20.918469\n",
       "975     25.839831\n",
       "976     25.744629\n",
       "977     36.914514\n",
       "978     23.490755\n",
       "979     20.085714\n",
       "980     23.774714\n",
       "981     35.945946\n",
       "982     21.787190\n",
       "983     25.101869\n",
       "984     31.563265\n",
       "985     36.487889\n",
       "986     16.390044\n",
       "987     22.237755\n",
       "988     25.675676\n",
       "989     78.819602\n",
       "990     25.072368\n",
       "991     26.831081\n",
       "992     28.243243\n",
       "993     24.102857\n",
       "994     28.582180\n",
       "995     24.680941\n",
       "996     22.426346\n",
       "997     32.979921\n",
       "998     24.370667\n",
       "999     25.821855\n",
       "1000    63.503418\n",
       "1001    21.945890\n",
       "1002    34.967561\n",
       "Name: BMI, Length: 1003, dtype: float64>"
      ]
     },
     "execution_count": 55,
     "metadata": {},
     "output_type": "execute_result"
    }
   ],
   "source": [
    "df.BMI.nunique"
   ]
  },
  {
   "cell_type": "code",
   "execution_count": 56,
   "metadata": {},
   "outputs": [],
   "source": [
    "def g(df):\n",
    "    if (df['BMI'] <= 18.5):\n",
    "        val = 0 #underweight\n",
    "    elif (df['BMI'] > 18.5 and df['BMI'] <= 24.9):\n",
    "        val = 1 #Normal\n",
    "    elif (df['BMI'] > 25.0 and df['BMI']<= 29.9):\n",
    "        val = 2 #overweight\n",
    "    else:\n",
    "        val = 3 #obese\n",
    "    return val"
   ]
  },
  {
   "cell_type": "code",
   "execution_count": 57,
   "metadata": {},
   "outputs": [],
   "source": [
    "df[\"BMI_group\"]=df.apply(g, axis=1)"
   ]
  },
  {
   "cell_type": "code",
   "execution_count": 58,
   "metadata": {},
   "outputs": [
    {
     "data": {
      "text/plain": [
       "0       1\n",
       "1       3\n",
       "2       1\n",
       "3       1\n",
       "4       3\n",
       "5       1\n",
       "6       1\n",
       "7       1\n",
       "8       3\n",
       "9       0\n",
       "10      3\n",
       "11      1\n",
       "12      1\n",
       "13      3\n",
       "14      2\n",
       "15      3\n",
       "16      3\n",
       "17      2\n",
       "18      1\n",
       "19      1\n",
       "20      3\n",
       "21      3\n",
       "22      3\n",
       "23      1\n",
       "24      2\n",
       "25      2\n",
       "26      2\n",
       "27      3\n",
       "28      2\n",
       "29      2\n",
       "       ..\n",
       "973     3\n",
       "974     1\n",
       "975     2\n",
       "976     2\n",
       "977     3\n",
       "978     1\n",
       "979     1\n",
       "980     1\n",
       "981     3\n",
       "982     1\n",
       "983     2\n",
       "984     3\n",
       "985     3\n",
       "986     0\n",
       "987     1\n",
       "988     2\n",
       "989     3\n",
       "990     2\n",
       "991     2\n",
       "992     2\n",
       "993     1\n",
       "994     2\n",
       "995     1\n",
       "996     1\n",
       "997     3\n",
       "998     1\n",
       "999     2\n",
       "1000    3\n",
       "1001    1\n",
       "1002    3\n",
       "Name: BMI_group, Length: 1003, dtype: int64"
      ]
     },
     "execution_count": 58,
     "metadata": {},
     "output_type": "execute_result"
    }
   ],
   "source": [
    "df[\"BMI_group\"]"
   ]
  },
  {
   "cell_type": "code",
   "execution_count": 59,
   "metadata": {},
   "outputs": [],
   "source": [
    "s=df.groupby('BMI_group').size()\n",
    "bar_BMI=s.to_frame()\n",
    "bar_BMI.reset_index(inplace=True)\n",
    "bar_BMI.rename(columns = {0:'value'}, inplace = True)\n",
    "#bar_D7_1=bar_D7.sort_values('value', ascending=False)"
   ]
  },
  {
   "cell_type": "code",
   "execution_count": 60,
   "metadata": {},
   "outputs": [
    {
     "data": {
      "image/png": "[encoded data removed]",
      "text/plain": [
       "<Figure size 432x288 with 1 Axes>"
      ]
     },
     "metadata": {},
     "output_type": "display_data"
    }
   ],
   "source": [
    "# DONUT chart\n",
    "labels = bar_BMI['BMI_group']\n",
    "sizes = bar_BMI['value']\n",
    "#,'#42326B',\"#34495e\",'#9D8DC7', \"#F1BDBD\"\n",
    "colors = ['#D63333','#DE5C5C','#42326B','#34495e',\"#34495e\",'#9D8DC7', \"#F1BDBD\"]\n",
    " \n",
    "fig1, ax1 = plt.subplots()\n",
    "ax1.pie(sizes, colors = colors, labels=labels, autopct='%1.1f%%', startangle=90)\n",
    "#draw circle\n",
    "centre_circle = plt.Circle((0,0),0.70,fc='white')\n",
    "fig = plt.gcf()\n",
    "fig.gca().add_artist(centre_circle)\n",
    "# Equal aspect ratio ensures that pie is drawn as a circle\n",
    "ax1.axis('equal')  \n",
    "plt.tight_layout()\n",
    "plt.show()"
   ]
  },
  {
   "cell_type": "markdown",
   "metadata": {},
   "source": [
    "- 0:underwieght\n",
    "- 1:normal\n",
    "- 2:overweight\n",
    "- 3:obese"
   ]
  },
  {
   "cell_type": "markdown",
   "metadata": {},
   "source": [
    "#### Current mental state"
   ]
  },
  {
   "cell_type": "markdown",
   "metadata": {},
   "source": [
    "|Section |\tQuestion |\tDescription|binary |multi| type|transform|from|To|\n",
    "|-------|-----------|--------------- |----------|-------|------|-------|-------|-------|\n",
    "|Q1             |ra-rt |Attitude     |4\t    |4\t\t|cat\t|  No\t|-||\n",
    "|               |hra-hrt|Attitude    |4     |4\t\t|points   |No\t|-|\n",
    "|               |       |            |      |       |         |     | |\n",
    "|Q2           \t|ra-rb |ideal\t     |2     |2\t\t|cat-blank|don't use  | |\n",
    "|           \t|hra-hrb|            |2\t    |2\t\t|points\t  |No   |-|\n",
    "|               |       |            |      |       |         |     | |\n",
    "|Q3\t            |ra-rc\t|everyday mood|2\t|2\t\t|cat-blank|don't use | |\n",
    "|             \t|hra-hrc|             |2\t|2\t\t|points\t  |No\t|-|\n",
    "|               |       |            |      |       |         |     | |\n",
    "|Q4\t            |       |weight goal  |5\t|5\t\t|cat\t  |-   |-|\n",
    "|               |hQ4    |weight goal  |5    |5      |points   |No   |-|\n",
    "|Q5          \t|       |weightgoalnumeric|\t5 |\t5\t|cat      |-  |-|\t\n",
    "|               |hQ5    |weightgaolnumeric| 5 | 5   |points   |No  |-|\n",
    "|Q6\t            |       |Exercise freq.\t  | 6 |\t6\t|cat\t  |-   |-|\n",
    "|               |hQ6    |Exercise freq.\t  | 6 | 6   |points   |No   |-|\n",
    "|               |       |            |      |       |         |     | |\n",
    "|POINTS         |       |Test point       |75 | -   |num      |Yes  |number|groups|\n",
    "|qtime \t        |       |interview time             |997| -   |num|No |-|-|"
   ]
  },
  {
   "cell_type": "markdown",
   "metadata": {},
   "source": [
    "For the attitude questions 1,2,3 will use the survey's point system."
   ]
  },
  {
   "cell_type": "code",
   "execution_count": 42,
   "metadata": {},
   "outputs": [
    {
     "data": {
      "text/plain": [
       "49"
      ]
     },
     "execution_count": 42,
     "metadata": {},
     "output_type": "execute_result"
    }
   ],
   "source": [
    "df.columns.get_loc(\"hQ4\") #21\n",
    "#df.columns.get_loc(\"hQ1rt\") #37"
   ]
  },
  {
   "cell_type": "code",
   "execution_count": 43,
   "metadata": {},
   "outputs": [],
   "source": [
    "attitude_columns=['hQ1ra','hQ1rb','hQ1rd','hQ1re','hQ1rf', 'hQ1rh', 'hQ1ri', 'hQ1rj','hQ1rk', 'hQ1rm', 'hQ1rn', 'hQ1ro', 'hQ1rp', 'hQ1rq'\n",
    " , 'hQ1rr', 'hQ1rs','hQ1rt','hQ2ra','hQ2rb','hQ3ra','hQ3rb','hQ3rc','hQ4','hQ5','hQ6']"
   ]
  },
  {
   "cell_type": "code",
   "execution_count": 44,
   "metadata": {},
   "outputs": [],
   "source": [
    "df_attitude=df.loc[:, attitude_columns]"
   ]
  },
  {
   "cell_type": "code",
   "execution_count": 45,
   "metadata": {
    "scrolled": true
   },
   "outputs": [
    {
     "name": "stdout",
     "output_type": "stream",
     "text": [
      "<class 'pandas.core.frame.DataFrame'>\n",
      "RangeIndex: 1003 entries, 0 to 1002\n",
      "Data columns (total 25 columns):\n",
      "hQ1ra    1003 non-null int64\n",
      "hQ1rb    1003 non-null int64\n",
      "hQ1rd    1003 non-null int64\n",
      "hQ1re    1003 non-null int64\n",
      "hQ1rf    1003 non-null int64\n",
      "hQ1rh    1003 non-null int64\n",
      "hQ1ri    1003 non-null int64\n",
      "hQ1rj    1003 non-null int64\n",
      "hQ1rk    1003 non-null int64\n",
      "hQ1rm    1003 non-null int64\n",
      "hQ1rn    1003 non-null int64\n",
      "hQ1ro    1003 non-null int64\n",
      "hQ1rp    1003 non-null int64\n",
      "hQ1rq    1003 non-null int64\n",
      "hQ1rr    1003 non-null int64\n",
      "hQ1rs    1003 non-null int64\n",
      "hQ1rt    1003 non-null int64\n",
      "hQ2ra    1003 non-null int64\n",
      "hQ2rb    1003 non-null int64\n",
      "hQ3ra    1003 non-null int64\n",
      "hQ3rb    1003 non-null int64\n",
      "hQ3rc    1003 non-null int64\n",
      "hQ4      1003 non-null int64\n",
      "hQ5      1003 non-null float64\n",
      "hQ6      1003 non-null int64\n",
      "dtypes: float64(1), int64(24)\n",
      "memory usage: 196.0 KB\n"
     ]
    }
   ],
   "source": [
    "df_attitude.info()"
   ]
  },
  {
   "cell_type": "code",
   "execution_count": 46,
   "metadata": {},
   "outputs": [
    {
     "data": {
      "text/plain": [
       "0"
      ]
     },
     "execution_count": 46,
     "metadata": {},
     "output_type": "execute_result"
    }
   ],
   "source": [
    "df_attitude.isnull().any().sum()"
   ]
  },
  {
   "cell_type": "markdown",
   "metadata": {},
   "source": [
    "#### POINTS"
   ]
  },
  {
   "cell_type": "code",
   "execution_count": 47,
   "metadata": {},
   "outputs": [],
   "source": [
    "df.POINTS.replace(r' ', np.NaN, inplace= True)"
   ]
  },
  {
   "cell_type": "code",
   "execution_count": 48,
   "metadata": {},
   "outputs": [],
   "source": [
    "df.POINTS.replace(r'', np.NaN, inplace= True)"
   ]
  },
  {
   "cell_type": "code",
   "execution_count": 49,
   "metadata": {},
   "outputs": [],
   "source": [
    "df['points']= df.loc[:, attitude_columns].sum(axis=1)"
   ]
  },
  {
   "cell_type": "code",
   "execution_count": 50,
   "metadata": {},
   "outputs": [
    {
     "data": {
      "text/plain": [
       "0       19.0\n",
       "1       18.0\n",
       "2        6.0\n",
       "3        0.0\n",
       "4       20.0\n",
       "5        4.0\n",
       "6       19.0\n",
       "7       31.0\n",
       "8       13.0\n",
       "9        9.0\n",
       "10     -10.0\n",
       "11      31.0\n",
       "12      21.0\n",
       "13      -3.0\n",
       "14      18.0\n",
       "15      38.0\n",
       "16      20.0\n",
       "17      -3.0\n",
       "18      46.0\n",
       "19      15.0\n",
       "20       4.0\n",
       "21       7.0\n",
       "22     -14.0\n",
       "23      35.0\n",
       "24      21.0\n",
       "25      17.0\n",
       "26      33.0\n",
       "27       9.0\n",
       "28       8.0\n",
       "29       5.0\n",
       "        ... \n",
       "973     -3.0\n",
       "974     22.0\n",
       "975     21.0\n",
       "976     20.0\n",
       "977     24.0\n",
       "978      4.0\n",
       "979     10.0\n",
       "980     17.0\n",
       "981     15.0\n",
       "982     11.0\n",
       "983      4.0\n",
       "984    -14.0\n",
       "985     11.0\n",
       "986     13.0\n",
       "987     -7.0\n",
       "988     -7.0\n",
       "989     -6.0\n",
       "990     24.0\n",
       "991     28.0\n",
       "992     14.0\n",
       "993     30.0\n",
       "994     28.0\n",
       "995     16.0\n",
       "996     33.0\n",
       "997     -4.0\n",
       "998      8.0\n",
       "999     28.0\n",
       "1000   -18.0\n",
       "1001    15.0\n",
       "1002   -15.0\n",
       "Name: points, Length: 1003, dtype: float64"
      ]
     },
     "execution_count": 50,
     "metadata": {},
     "output_type": "execute_result"
    }
   ],
   "source": [
    "df[\"points\"]"
   ]
  },
  {
   "cell_type": "code",
   "execution_count": 51,
   "metadata": {},
   "outputs": [
    {
     "data": {
      "text/plain": [
       "0       19.0\n",
       "1       18.0\n",
       "2        6.0\n",
       "3        0.0\n",
       "4       20.0\n",
       "5        4.0\n",
       "6       19.0\n",
       "7       31.0\n",
       "8       13.0\n",
       "9        9.0\n",
       "10     -10.0\n",
       "11      31.0\n",
       "12      21.0\n",
       "13      -3.0\n",
       "14      18.0\n",
       "15      38.0\n",
       "16      20.0\n",
       "17      -3.0\n",
       "18      46.0\n",
       "19      15.0\n",
       "20       4.0\n",
       "21       7.0\n",
       "22     -14.0\n",
       "23      35.0\n",
       "24      21.0\n",
       "25      17.0\n",
       "26      33.0\n",
       "27       9.0\n",
       "28       8.0\n",
       "29       5.0\n",
       "        ... \n",
       "973     -3.0\n",
       "974     22.0\n",
       "975     21.0\n",
       "976     20.0\n",
       "977     24.0\n",
       "978      4.0\n",
       "979     10.0\n",
       "980     17.0\n",
       "981     15.0\n",
       "982     11.0\n",
       "983      4.0\n",
       "984    -14.0\n",
       "985     11.0\n",
       "986     13.0\n",
       "987     -7.0\n",
       "988     -7.0\n",
       "989     -6.0\n",
       "990     24.0\n",
       "991     28.0\n",
       "992     14.0\n",
       "993     30.0\n",
       "994     28.0\n",
       "995     16.0\n",
       "996     33.0\n",
       "997     -4.0\n",
       "998      8.0\n",
       "999     28.0\n",
       "1000   -18.0\n",
       "1001    15.0\n",
       "1002   -15.0\n",
       "Name: POINTS, Length: 1003, dtype: float64"
      ]
     },
     "execution_count": 51,
     "metadata": {},
     "output_type": "execute_result"
    }
   ],
   "source": [
    "df['POINTS'] "
   ]
  },
  {
   "cell_type": "code",
   "execution_count": 52,
   "metadata": {},
   "outputs": [],
   "source": [
    "df['POINTS'] = df['POINTS'].astype(float)"
   ]
  },
  {
   "cell_type": "code",
   "execution_count": 53,
   "metadata": {},
   "outputs": [],
   "source": [
    "df['points'] = df['points'].astype(int)"
   ]
  },
  {
   "cell_type": "markdown",
   "metadata": {},
   "source": [
    " SCORING SYSTEM - ADD UP THE TOTAL POINTS ON Q1-6\n",
    "- SCORE OF 34 or Higher is Epitomizing Wellness\n",
    "- SCORE OF 17 to 33 is Aspiring to Wellness\n",
    "- SCORE OF 0 to 16 is Sacrificing Wellness\n",
    "- SCORE OF -1 to -16 is Scrambling for Wellness\n",
    "- SCORE OF -17 to -33 is Compromised Wellness\n",
    "- SCORE OF -34 or lower is Neglected Wellness"
   ]
  },
  {
   "cell_type": "code",
   "execution_count": 54,
   "metadata": {},
   "outputs": [],
   "source": [
    "def g2(df):\n",
    "    if (df['POINTS'] <= -34):\n",
    "        val = 1\n",
    "    elif (df['POINTS'] >= -33 and df['BMI'] <= -17):\n",
    "        val = 2\n",
    "    elif (df['POINTS'] >= -16 and df['BMI']<= -1):\n",
    "        val = 3\n",
    "    elif (df['POINTS'] >= 0 and df['BMI'] <= 16):\n",
    "        val = 4\n",
    "    elif (df['POINTS'] >= 17 and df['BMI']<= 33):\n",
    "        val = 5\n",
    "    else:\n",
    "        val = 6\n",
    "    return val"
   ]
  },
  {
   "cell_type": "code",
   "execution_count": 55,
   "metadata": {},
   "outputs": [],
   "source": [
    "df[\"attitude_group\"]=df.apply(g2, axis=1)"
   ]
  },
  {
   "cell_type": "code",
   "execution_count": 56,
   "metadata": {},
   "outputs": [
    {
     "data": {
      "text/plain": [
       "0       5\n",
       "1       6\n",
       "2       6\n",
       "3       6\n",
       "4       6\n",
       "5       6\n",
       "6       5\n",
       "7       5\n",
       "8       6\n",
       "9       6\n",
       "10      6\n",
       "11      5\n",
       "12      5\n",
       "13      6\n",
       "14      5\n",
       "15      5\n",
       "16      5\n",
       "17      6\n",
       "18      5\n",
       "19      6\n",
       "20      6\n",
       "21      6\n",
       "22      6\n",
       "23      5\n",
       "24      5\n",
       "25      5\n",
       "26      5\n",
       "27      6\n",
       "28      6\n",
       "29      6\n",
       "       ..\n",
       "973     6\n",
       "974     5\n",
       "975     5\n",
       "976     5\n",
       "977     6\n",
       "978     6\n",
       "979     6\n",
       "980     5\n",
       "981     6\n",
       "982     6\n",
       "983     6\n",
       "984     6\n",
       "985     6\n",
       "986     6\n",
       "987     6\n",
       "988     6\n",
       "989     6\n",
       "990     5\n",
       "991     5\n",
       "992     6\n",
       "993     5\n",
       "994     5\n",
       "995     6\n",
       "996     5\n",
       "997     6\n",
       "998     6\n",
       "999     5\n",
       "1000    6\n",
       "1001    6\n",
       "1002    6\n",
       "Name: attitude_group, Length: 1003, dtype: int64"
      ]
     },
     "execution_count": 56,
     "metadata": {},
     "output_type": "execute_result"
    }
   ],
   "source": [
    "df[\"attitude_group\"]"
   ]
  },
  {
   "cell_type": "code",
   "execution_count": 57,
   "metadata": {},
   "outputs": [],
   "source": [
    "#df.qtime.unique()\n",
    "#might not use this at all"
   ]
  },
  {
   "cell_type": "markdown",
   "metadata": {},
   "source": [
    " Outlier detection"
   ]
  },
  {
   "cell_type": "code",
   "execution_count": 58,
   "metadata": {},
   "outputs": [
    {
     "name": "stdout",
     "output_type": "stream",
     "text": [
      "[ 0.34871726  0.29956356  0.32274178 ... 13.03650447 14.82775352\n",
      "  8.20843215]\n"
     ]
    }
   ],
   "source": [
    "from scipy import stats\n",
    "import numpy as np\n",
    "z = np.abs(stats.zscore(df['qtime']))\n",
    "print(z)"
   ]
  },
  {
   "cell_type": "code",
   "execution_count": 59,
   "metadata": {},
   "outputs": [],
   "source": [
    "df_not = df.qtime[(z < 3)]"
   ]
  },
  {
   "cell_type": "code",
   "execution_count": 60,
   "metadata": {},
   "outputs": [
    {
     "data": {
      "text/plain": [
       "(991,)"
      ]
     },
     "execution_count": 60,
     "metadata": {},
     "output_type": "execute_result"
    }
   ],
   "source": [
    "df_not.shape"
   ]
  },
  {
   "cell_type": "markdown",
   "metadata": {},
   "source": [
    "### Eating habits"
   ]
  },
  {
   "cell_type": "markdown",
   "metadata": {},
   "source": [
    "Foods and sources"
   ]
  },
  {
   "cell_type": "markdown",
   "metadata": {},
   "source": [
    "|Section |\tQuestion |\tDescription|binary |multi| type|transform|from|To|\n",
    "|-------|-----------|--------------- |----------|-------|------|-------|-------|-------|\n",
    "|Q7\t            |1raa-13rfb| How frequent you eat stuff|7|  7  |cat|yes |multi|binary|\n",
    "|Q8\t            |ra-ri    | Stores                    |7|  7  |cat|yes |multi|binary|\t"
   ]
  },
  {
   "cell_type": "code",
   "execution_count": 61,
   "metadata": {
    "scrolled": true
   },
   "outputs": [
    {
     "data": {
      "text/plain": [
       "array(['Every day', 'Several times a week', 'Once a month',\n",
       "       'Several times a month', 'Never', 'Several times a year',\n",
       "       'Once a year or less'], dtype=object)"
      ]
     },
     "execution_count": 61,
     "metadata": {},
     "output_type": "execute_result"
    }
   ],
   "source": [
    "df.Q7_1raa.unique()"
   ]
  },
  {
   "cell_type": "markdown",
   "metadata": {},
   "source": [
    " |level|point|\n",
    " |-----|-----|\n",
    " |Every day|   365|\n",
    " |Several times a week| 156|\n",
    " |Several times a month| 72|\n",
    " |Once a month|12|\n",
    " |Several times a year|5|\n",
    " |Once a year or less| 1|\n",
    " |Never|0|\n",
    " "
   ]
  },
  {
   "cell_type": "code",
   "execution_count": 62,
   "metadata": {
    "scrolled": false
   },
   "outputs": [
    {
     "data": {
      "text/plain": [
       "185"
      ]
     },
     "execution_count": 62,
     "metadata": {},
     "output_type": "execute_result"
    }
   ],
   "source": [
    "df.columns.get_loc(\"Q7_1raa\")#55\n",
    "df.columns.get_loc(\"Q7_13rfb\")"
   ]
  },
  {
   "cell_type": "code",
   "execution_count": 63,
   "metadata": {},
   "outputs": [],
   "source": [
    "df_food=df.iloc[:,55:186]"
   ]
  },
  {
   "cell_type": "markdown",
   "metadata": {},
   "source": [
    "If we are consuming an item <'Every day','Several times a week','Several times a month'> it means that we are consuming it alot x=1 and if not we are not consuming it alot x=0."
   ]
  },
  {
   "cell_type": "code",
   "execution_count": 64,
   "metadata": {},
   "outputs": [],
   "source": [
    "for column in df_food.columns :\n",
    "    df[column] = [1 if x in ['Every day','Several times a week','Several times a month'] else 0 for x in df[column]]"
   ]
  },
  {
   "cell_type": "code",
   "execution_count": null,
   "metadata": {},
   "outputs": [],
   "source": [
    "#karan\n",
    "\n",
    "unhealthy_food_list= ['Q7_1raa',]\n",
    "\n",
    "healthy_food_list=[]"
   ]
  },
  {
   "cell_type": "code",
   "execution_count": 65,
   "metadata": {},
   "outputs": [
    {
     "data": {
      "text/plain": [
       "Q7_1raa\n",
       "0    591\n",
       "1    412\n",
       "dtype: int64"
      ]
     },
     "execution_count": 65,
     "metadata": {},
     "output_type": "execute_result"
    }
   ],
   "source": [
    "df.groupby('Q7_1raa').size()\n",
    "#Q7_1raa\n",
    "#0    591\n",
    "#1    412"
   ]
  },
  {
   "cell_type": "code",
   "execution_count": 66,
   "metadata": {
    "scrolled": true
   },
   "outputs": [
    {
     "data": {
      "text/plain": [
       "array(['About once a week', 'About once a month',\n",
       "       'Two times a week or more', 'Less than monthly',\n",
       "       'About once every two weeks', 'Not in the past several months'],\n",
       "      dtype=object)"
      ]
     },
     "execution_count": 66,
     "metadata": {},
     "output_type": "execute_result"
    }
   ],
   "source": [
    "df.Q8ra.unique()"
   ]
  },
  {
   "cell_type": "markdown",
   "metadata": {},
   "source": [
    " |level|point|\n",
    " |-----|-----|\n",
    " |Two times a week or more|   100|\n",
    " |About once a week| 50|\n",
    " |About once every two weeks| 24|\n",
    " |About once a month|12|\n",
    " |Less than monthly|6|\n",
    " |Not in the past several months|0|\n",
    " \n",
    " \n",
    " "
   ]
  },
  {
   "cell_type": "code",
   "execution_count": 67,
   "metadata": {
    "scrolled": false
   },
   "outputs": [
    {
     "data": {
      "text/plain": [
       "194"
      ]
     },
     "execution_count": 67,
     "metadata": {},
     "output_type": "execute_result"
    }
   ],
   "source": [
    "df.columns.get_loc(\"Q8ra\")#186\n",
    "df.columns.get_loc(\"Q8ri\")#194"
   ]
  },
  {
   "cell_type": "code",
   "execution_count": 68,
   "metadata": {},
   "outputs": [],
   "source": [
    "df_store=df.iloc[:,186:195]"
   ]
  },
  {
   "cell_type": "markdown",
   "metadata": {},
   "source": [
    "If we areare buying from a store <'Two times a week or more','About once a week','About once every two weeks','About once a month'> it means that we are buying from it frequent enough x=1 and if not we are not frequently buying from it."
   ]
  },
  {
   "cell_type": "code",
   "execution_count": 69,
   "metadata": {},
   "outputs": [],
   "source": [
    "for column in df_store.columns :\n",
    "    df[column] = [1 if x in ['Two times a week or more','About once a week','About once every two weeks','About once a month'] else 0 for x in df[column]]"
   ]
  },
  {
   "cell_type": "code",
   "execution_count": 70,
   "metadata": {},
   "outputs": [
    {
     "data": {
      "text/plain": [
       "Q8ra\n",
       "0    149\n",
       "1    854\n",
       "dtype: int64"
      ]
     },
     "execution_count": 70,
     "metadata": {},
     "output_type": "execute_result"
    }
   ],
   "source": [
    "df.groupby('Q8ra').size()\n",
    "#Q7_1raa\n",
    "#0    591\n",
    "#1    412\n",
    "#854=177+379+170+128 #1"
   ]
  },
  {
   "cell_type": "markdown",
   "metadata": {},
   "source": [
    "Food preparations"
   ]
  },
  {
   "cell_type": "markdown",
   "metadata": {},
   "source": [
    "|Section |\tQuestion |\tDescription|binary |multi| type|transform|from|To|\n",
    "|-------|-----------|--------------- |----------|-------|------|-------|-------|-------|\n",
    "|Q13\t        |          | preparing time            |6|  6 |cat|Yes|multi |bin|\t\t\t\n",
    "|Q14\t        |          | cooking time              |7|  7 |cat|Yes|multi |bin|\t\t\t\t\n",
    "|Q15\t        |ra-rh     | cooking kitchen appliance |2|  2 |cat|Yes| multi|bin|"
   ]
  },
  {
   "cell_type": "code",
   "execution_count": 71,
   "metadata": {
    "scrolled": true
   },
   "outputs": [
    {
     "data": {
      "text/plain": [
       "array(['16-30 minutes', '31-45 minutes', 'Less than five minutes',\n",
       "       '6-15 minutes', '46-60 minutes', 'Over one hour'], dtype=object)"
      ]
     },
     "execution_count": 71,
     "metadata": {},
     "output_type": "execute_result"
    }
   ],
   "source": [
    "df.Q13.unique()"
   ]
  },
  {
   "cell_type": "code",
   "execution_count": 72,
   "metadata": {
    "scrolled": true
   },
   "outputs": [
    {
     "data": {
      "text/plain": [
       "Q13\n",
       "16-30 minutes             339\n",
       "31-45 minutes             101\n",
       "46-60 minutes              55\n",
       "6-15 minutes              248\n",
       "Less than five minutes    236\n",
       "Over one hour              24\n",
       "dtype: int64"
      ]
     },
     "execution_count": 72,
     "metadata": {},
     "output_type": "execute_result"
    }
   ],
   "source": [
    "df.groupby('Q13').size()"
   ]
  },
  {
   "cell_type": "code",
   "execution_count": 73,
   "metadata": {},
   "outputs": [],
   "source": [
    "df['Q13_bin'] = [1 if x in ['Over one hour','46-60 minutes','31-45 minutes'] else 0 for x in df['Q13']]\n",
    "#the time we are spending on preparing the food and whether if we are motivated"
   ]
  },
  {
   "cell_type": "code",
   "execution_count": 74,
   "metadata": {
    "scrolled": true
   },
   "outputs": [
    {
     "data": {
      "text/plain": [
       "Q13_bin\n",
       "0    823\n",
       "1    180\n",
       "dtype: int64"
      ]
     },
     "execution_count": 74,
     "metadata": {},
     "output_type": "execute_result"
    }
   ],
   "source": [
    "df.groupby('Q13_bin').size()"
   ]
  },
  {
   "cell_type": "code",
   "execution_count": 75,
   "metadata": {},
   "outputs": [
    {
     "data": {
      "text/plain": [
       "Q14\n",
       "16-30 minutes                                    354\n",
       "31-45 minutes                                    163\n",
       "46-60 minutes                                     62\n",
       "6-15 minutes                                     193\n",
       "Less than five minutes                           167\n",
       "Over one hour                                     45\n",
       "Put something in the crock pot in the morning     19\n",
       "dtype: int64"
      ]
     },
     "execution_count": 75,
     "metadata": {},
     "output_type": "execute_result"
    }
   ],
   "source": [
    "df.groupby('Q14').size()"
   ]
  },
  {
   "cell_type": "code",
   "execution_count": 76,
   "metadata": {},
   "outputs": [],
   "source": [
    "df['Q14_bin'] = [1 if x in ['Over one hour','46-60 minutes','31-45 minutes','Put something in the crock pot in the morning'] else 0 for x in df['Q14']]\n",
    "#the time we are spending on cooking the food and whether if we are motivated"
   ]
  },
  {
   "cell_type": "code",
   "execution_count": 77,
   "metadata": {
    "scrolled": false
   },
   "outputs": [
    {
     "data": {
      "text/plain": [
       "Q14_bin\n",
       "0    714\n",
       "1    289\n",
       "dtype: int64"
      ]
     },
     "execution_count": 77,
     "metadata": {},
     "output_type": "execute_result"
    }
   ],
   "source": [
    "df.groupby('Q14_bin').size()"
   ]
  },
  {
   "cell_type": "code",
   "execution_count": 78,
   "metadata": {},
   "outputs": [],
   "source": [
    "df['Q15ra'] = [1 if x =='Stove top' else 0 for x in df['Q15ra']]\n",
    "df['Q15rb'] = [1 if x =='Microwave' else 0 for x in df['Q15rb']]\n",
    "df['Q15rc'] = [1 if x =='Oven/Broiler' else 0 for x in df['Q15rc']]\n",
    "df['Q15rd'] = [1 if x =='Toaster Oven' else 0 for x in df['Q15rd']]\n",
    "df['Q15re'] = [1 if x =='Crock Pot' else 0 for x in df['Q15re']]\n",
    "df['Q15rf'] = [1 if x =='BBQ Grill' else 0 for x in df['Q15rf']]\n",
    "df['Q15rg'] = [1 if x =='Blender' else 0 for x in df['Q15rg']]\n",
    "df['Q15rh'] = [1 if x =='Food Processor' else 0 for x in df['Q15rh']]"
   ]
  },
  {
   "cell_type": "markdown",
   "metadata": {},
   "source": [
    "Dinner experience"
   ]
  },
  {
   "cell_type": "markdown",
   "metadata": {},
   "source": [
    "|Section |\tQuestion |\tDescription|binary |multi| type|transform|from|To|\n",
    "|-------|-----------|--------------- |----------|-------|------|-------|-------|-------|\n",
    "|Q9\t            |c1-c4    | Dinner 4 nights           |11|12  |cat|Yes|multi|bin|\n",
    "|Q10\t        |r1-r4    | Dinner place              |3|  3  |cat|Yes|cat|num|\t\n",
    "|Q11\t        |ra-rff   | Mood for dinner prep      |2|  2  |cat|Yes |cat|num\t\n",
    "|Q12\t        |ra-rhh   | last night dinner         |2|  2  |cat|No |cat|num|\n",
    "|    \t        |rzoe-rhhoe| last night dinner        |42/19|-|cat|Yes| drop|-|\n",
    "|Q16\t        |ra-rk     | type of dinner companion  |7|  7 |cat|No idea|? |\t\n",
    "|Q17\t        |          | Satisfaction w dinner     |10|  10 |cat|yes|cat|num|\n",
    "|   \t        |          |                           |  |     |   |  | |\n",
    "|   \t        |          |                           |  |     |   |  | |\n",
    "|Q18\t        |          | satisfaction w healthy dinner|4|  4 |cat|Yes|cat |\tnum|\n",
    "|Q19\t        |          | satisfaction w tasty dinner |4|  4 |cat|Yes| cat |\tnum|\n",
    "|Q20\t        |          | satisfying with hunger      |4|  4 |cat|Yes| cat |\tnum|\n",
    "|Q21\t        |          | good source of energy       |4|  4 |cat|Yes| cat |\tnum|\n",
    "|Q22\t        |          | well balanced meal          |4|  4 |cat|Yes| cat |\tnum|\n",
    "|Q23\t        |          | dinner comforting           |4|  4 |cat|Yes| cat |\tnum|\n",
    "|   \t        |          |                           |  |     |   |  | |\n",
    "|   \t        |          |                           |  |     |   |  | |\n",
    "|Q24\t        |          | overal description          |11|11 |cat|yes|cat |bin|\t\n",
    "|Q25\t        |          | snack yes/no 24hours        |2|  2 |cat|yes|cat |bin|\n",
    "|Q26\t        |ra-rh     | well balanced meal          |2|  2 |cat|Yes| cat|bin|"
   ]
  },
  {
   "cell_type": "markdown",
   "metadata": {},
   "source": [
    "#### Q9"
   ]
  },
  {
   "cell_type": "code",
   "execution_count": 79,
   "metadata": {},
   "outputs": [
    {
     "data": {
      "text/plain": [
       "198"
      ]
     },
     "execution_count": 79,
     "metadata": {},
     "output_type": "execute_result"
    }
   ],
   "source": [
    "df.Q9c1.unique()\n",
    "df.columns.get_loc(\"Q9c4\") "
   ]
  },
  {
   "cell_type": "code",
   "execution_count": 80,
   "metadata": {},
   "outputs": [],
   "source": [
    "dining_choice=[\"Nourish Me: I made a decision to eat something that's better for me\",\n",
    "             'Time to Savor: I had plenty of time to relax and eat dinner',\n",
    "        'Oasis: I made time to recover and reward myself or my family for a busy week',\n",
    "        \"Change of Pace: I decided to change things up a bit and have something I don't have often\",\n",
    "              'Expand my Horizons: I took the time to be adventurous and try something new',\n",
    "              'Some other situation']\n",
    "df_dinner_choice=df.iloc[:,195:200]"
   ]
  },
  {
   "cell_type": "code",
   "execution_count": 81,
   "metadata": {},
   "outputs": [],
   "source": [
    "for column in df_dinner_choice.columns :\n",
    "    df[column] = [1 if x in dining_choice else 0 for x in df[column]]\n",
    "\n",
    "#if the made \n",
    "# df[\"q11\"]= df.iloc[:,195:200].sum(axis=1)/4\n",
    "#0   0 nights\n",
    "#1/4 1 night out of four nights\n",
    "#2/4 2 nights out of four night\n",
    "#3/4 three night out of four nights\n",
    "# 4/4 every night they are makign the choice to make time for having dinner"
   ]
  },
  {
   "cell_type": "markdown",
   "metadata": {},
   "source": [
    "#### Q12"
   ]
  },
  {
   "cell_type": "code",
   "execution_count": 82,
   "metadata": {},
   "outputs": [],
   "source": [
    "#meals made at home\n",
    "df['hQ12r1'] = [1 if x =='Meals Made at Home' else 0 for x in df['hQ12r1']]\n",
    "df['hQ12r2'] = [1 if x =='Meals from Away from Home' else 0 for x in df['hQ12r2']]\n",
    "df['Q12ra'] = [1 if x =='Plated entrée - a meal that could include a protein, a side dish (like a vegetable) and a starch (like potatoes or rice' else 0 for x in df['Q12ra']]\n",
    "df['Q12rb'] = [1 if x =='Pasta (does not include macaroni & cheese)' else 0 for x in df['Q12rb']]\n",
    "df['Q12rc'] = [1 if x =='Pizza (not delivered)' else 0 for x in df['Q12rc']]\n",
    "df['Q12rd'] = [1 if x =='Salad' else 0 for x in df['Q12rd']]\n",
    "df['Q12re'] = [1 if x =='Sandwich - lunchmeat, grilled cheese, BLTs, etc.' else 0 for x in df['Q12re']]\n",
    "df['Q12rf'] = [1 if x =='From the grill - burgers, hot dogs, brats or smoked sausage in a bun' else 0 for x in df['Q12rf']]\n",
    "df['Q12rg'] = [1 if x =='Traditional favorites - meatloaf, roasts, etc.' else 0 for x in df['Q12rg']]\n",
    "df['Q12rh'] = [1 if x =='Kids favorites - corn dogs, macaroni & cheese, chicken nuggets' else 0 for x in df['Q12rh']]\n",
    "df['Q12ri'] = [1 if x =='Casseroles' else 0 for x in df['Q12ri']]\n",
    "df['Q12rk'] = [1 if x =='Crockpot meal' else 0 for x in df['Q12rk']]\n",
    "df['Q12rj'] = [1 if x =='Soups, stews, chili or gumbo' else 0 for x in df['Q12rj']]\n",
    "df['Q12rl'] = [1 if x =='Meatless Meal - baked potatoes, vegetable sauté' else 0 for x in df['Q12rl']]\n",
    "df['Q12rm'] = [1 if x =='Breakfast foods - eggs, cereal, waffles, etc.' else 0 for x in df['Q12rm']]\n",
    "df['Q12rn'] = [1 if x =='Frozen complete meal kit - frozen or refrigerated bagged meals (e.g. Bertolli, P.F. Changs)' else 0 for x in df['Q12rn']]\n",
    "df['Q12ro'] = [1 if x =='Shelf stable meal starter kit (e.g. Hamburger Helper)' else 0 for x in df['Q12ro']]\n",
    "df['Q12rp'] = [1 if x =='Refrigerated meal starter kit (e.g. sliced pre-cooked chicken, other pre-cooked meats)' else 0 for x in df['Q12rp']]\n",
    "df['Q12rq'] = [1 if x ==\"Heat and eat meal - frozen entrees (e.g. Lean Cuisine, Stouffer's)\" else 0 for x in df['Q12rq']]\n",
    "df['Q12rr'] = [1 if x =='Snack Food or Dessert Food as Dinner - ate snacks or desserts instead of making dinner' else 0 for x in df['Q12rr']]\n",
    "df['Q12rs'] = [1 if x =='Sushi' else 0 for x in df['Q12rs']]\n",
    "df['Q12rt'] = [1 if x =='Italian foods - chicken parmesan, pesto' else 0 for x in df['Q12rt']]\n",
    "df['Q12ru'] = [1 if x =='Asian foods - Chinese, Thai etc.' else 0 for x in df['Q12ru']]\n",
    "df['Q12rv'] = [1 if x =='Mexican food - tacos, burritos, quesadilla, etc.' else 0 for x in df['Q12rv']]\n",
    "df['Q12rx'] = [1 if x =='Latin food (non-Mexican) - Cuban, South American etc.' else 0 for x in df['Q12rx']]\n",
    "df['Q12ry'] = [1 if x =='Indian food - Chicken Tikka, Chana Masala, Saag Paneer etc.' else 0 for x in df['Q12ry']]\n",
    "df['Q12rz'] = [1 if x =='Other (please specify):' else 0 for x in df['Q12rz']]\n",
    "#meals away from home\n",
    "df['Q12raa'] = [1 if x =='Fast Food - food from any fast food restaurant' else 0 for x in df['Q12raa']]\n",
    "df['Q12rbb'] = [1 if x =='Carry Out or Delivery Pizza' else 0 for x in df['Q12rbb']]\n",
    "df['Q12rcc'] = [1 if x =='Ate Food from a Fast Casual Restaurant - order food at a counter, no wait staff, no tips left such as Chipotle, Panera,' else 0 for x in df['Q12rcc']]\n",
    "df['Q12rdd'] = [1 if x ==\"Ate at a Casual Dining Restaurant - order from the waiter or waitress such as Chili's or Applebee's\" else 0 for x in df['Q12rdd']]\n",
    "df['Q12ree'] = [1 if x =='Ate at a local restaurant' else 0 for x in df['Q12ree']]\n",
    "df['Q12rff'] = [1 if x =='Ate at a fine dining restaurant' else 0 for x in df['Q12rff']]\n",
    "df['Q12rgg'] = [1 if x =='Ate prepared food from the grocery store - either at the grocery store or take away' else 0 for x in df['Q12rgg']]\n",
    "df['Q12rhh'] = [1 if x =='Other (please specify):' else 0 for x in df['Q12rhh']]"
   ]
  },
  {
   "cell_type": "code",
   "execution_count": 83,
   "metadata": {},
   "outputs": [],
   "source": [
    "home_meal=['Q12ra','Q12rb','Q12rc','Q12rd','Q12re', 'Q12rf', 'Q12rg','Q12rh','Q12ri','Q12rj','Q12rk','Q12rl','Q12rm', 'Q12rn','Q12ro', 'Q12rp',\n",
    " 'Q12rq','Q12rr','Q12rs','Q12rt','Q12ru','Q12rv', 'Q12rx','Q12ry','Q12rz']\n",
    "away_meal=['Q12raa','Q12rbb','Q12rcc','Q12rdd','Q12ree','Q12rff','Q12rgg','Q12rhh']"
   ]
  },
  {
   "cell_type": "code",
   "execution_count": 84,
   "metadata": {},
   "outputs": [],
   "source": [
    "df.drop('Q12rzoe', axis=1, inplace=True)\n",
    "df.drop('Q12rhhoe', axis=1, inplace=True)"
   ]
  },
  {
   "cell_type": "markdown",
   "metadata": {},
   "source": [
    "#### Q10"
   ]
  },
  {
   "cell_type": "code",
   "execution_count": 85,
   "metadata": {},
   "outputs": [
    {
     "data": {
      "text/plain": [
       "array(['Ate at home', 'Ate at a restaurant',\n",
       "       \"Ate at someone else's house\"], dtype=object)"
      ]
     },
     "execution_count": 85,
     "metadata": {},
     "output_type": "execute_result"
    }
   ],
   "source": [
    "df.Q10r2.unique()"
   ]
  },
  {
   "cell_type": "code",
   "execution_count": 86,
   "metadata": {},
   "outputs": [
    {
     "data": {
      "text/plain": [
       "202"
      ]
     },
     "execution_count": 86,
     "metadata": {},
     "output_type": "execute_result"
    }
   ],
   "source": [
    "df.columns.get_loc(\"Q10r4\") "
   ]
  },
  {
   "cell_type": "code",
   "execution_count": 87,
   "metadata": {},
   "outputs": [],
   "source": [
    "for j in range(199,203) :\n",
    "    for i in range(0,1003):\n",
    "        if df.iloc[i,j]=='Ate at home':\n",
    "            df.iloc[i,j]= 3\n",
    "        elif df.iloc[i,j]==\"Ate at someone else's house\":\n",
    "            df.iloc[i,j]= 2\n",
    "        else:\n",
    "            df.iloc[i,j]= 1"
   ]
  },
  {
   "cell_type": "markdown",
   "metadata": {},
   "source": [
    "#### Q11"
   ]
  },
  {
   "cell_type": "code",
   "execution_count": 88,
   "metadata": {},
   "outputs": [
    {
     "data": {
      "text/plain": [
       "203"
      ]
     },
     "execution_count": 88,
     "metadata": {},
     "output_type": "execute_result"
    }
   ],
   "source": [
    "df.columns.get_loc(\"Q11ra\") #203"
   ]
  },
  {
   "cell_type": "code",
   "execution_count": 89,
   "metadata": {},
   "outputs": [],
   "source": [
    "negative_emo =['Q11rb','Q11rc','Q11rf','Q11rg' ,'Q11ri','Q11rm' ,'Q11ro','Q11rs','Q11rt','Q11ry','Q11rz','Q11rbb','Q11rcc','Q11rdd']\n",
    "Positive_emo= ['Q11ra','Q11rd','Q11re','Q11rh','Q11rj','Q11rk','Q11rl','Q11rn','Q11rp','Q11rq','Q11rt','Q11rv','Q11rw','Q11rx','Q11raa','Q11ree','Q11rff']\n",
    "\n",
    "#average -> compared the averages and from that we can say which one is more dominant"
   ]
  },
  {
   "cell_type": "code",
   "execution_count": 90,
   "metadata": {},
   "outputs": [],
   "source": [
    "df['Q11ra'] = [1 if x =='Accomplished' else 0 for x in df['Q11ra']]\n",
    "df['Q11rb'] = [1 if x =='Bad Mood' else 0 for x in df['Q11rb']]\n",
    "df['Q11rc'] = [1 if x =='Bored' else 0 for x in df['Q11rc']]\n",
    "df['Q11rd'] = [1 if x =='Calm' else 0 for x in df['Q11rd']]\n",
    "df['Q11re'] = [1 if x =='Content' else 0 for x in df['Q11re']]\n",
    "df['Q11rf'] = [1 if x =='Cranky/Crabby' else 0 for x in df['Q11rf']]\n",
    "df['Q11rg'] = [1 if x =='Depressed' else 0 for x in df['Q11rg']]\n",
    "df['Q11rh'] = [1 if x =='Excited' else 0 for x in df['Q11rh']]\n",
    "df['Q11ri'] = [1 if x =='Exhausted' else 0 for x in df['Q11ri']]\n",
    "df['Q11rk'] = [1 if x =='Good Mood' else 0 for x in df['Q11rk']]\n",
    "df['Q11rj'] = [1 if x =='Energetic' else 0 for x in df['Q11rj']]\n",
    "df['Q11rl'] = [1 if x =='Happy' else 0 for x in df['Q11rl']]\n",
    "df['Q11rm'] = [1 if x =='Hurried' else 0 for x in df['Q11rm']]\n",
    "df['Q11rn'] = [1 if x =='In control' else 0 for x in df['Q11rn']]\n",
    "df['Q11ro'] = [1 if x =='Lonely' else 0 for x in df['Q11ro']]\n",
    "df['Q11rp'] = [1 if x =='Caring' else 0 for x in df['Q11rp']]\n",
    "df['Q11rq'] = [1 if x =='Inspired' else 0 for x in df['Q11rq']]\n",
    "df['Q11rr'] = [1 if x =='Joyful' else 0 for x in df['Q11rr']]\n",
    "df['Q11rs'] = [1 if x =='Mentally tired' else 0 for x in df['Q11rs']]\n",
    "df['Q11rt'] = [1 if x =='Overwhelmed' else 0 for x in df['Q11rt']]\n",
    "df['Q11ru'] = [1 if x =='Peaceful' else 0 for x in df['Q11ru']]\n",
    "df['Q11rv'] = [1 if x =='Positive' else 0 for x in df['Q11rv']]\n",
    "df['Q11rw'] = [1 if x =='Productive' else 0 for x in df['Q11rw']]\n",
    "df['Q11rx'] = [1 if x =='Relaxed' else 0 for x in df['Q11rx']]\n",
    "df['Q11ry'] = [1 if x =='Rushed' else 0 for x in df['Q11ry']]\n",
    "df['Q11rz'] = [1 if x =='Sad' else 0 for x in df['Q11rz']]\n",
    "df['Q11raa'] = [1 if x =='Sociable' else 0 for x in df['Q11raa']]\n",
    "df['Q11rbb'] = [1 if x =='Stressed' else 0 for x in df['Q11rbb']]\n",
    "df['Q11rcc'] = [1 if x =='Tense' else 0 for x in df['Q11rcc']]\n",
    "df['Q11rdd'] = [1 if x =='Tired' else 0 for x in df['Q11rdd']]\n",
    "df['Q11ree'] = [1 if x =='Creative' else 0 for x in df['Q11ree']]\n",
    "df['Q11rff'] = [1 if x =='Adventurous' else 0 for x in df['Q11rff']]"
   ]
  },
  {
   "cell_type": "code",
   "execution_count": 91,
   "metadata": {},
   "outputs": [
    {
     "data": {
      "text/plain": [
       "array([0, 1], dtype=int64)"
      ]
     },
     "execution_count": 91,
     "metadata": {},
     "output_type": "execute_result"
    }
   ],
   "source": [
    "df.Q11rff.unique()"
   ]
  },
  {
   "cell_type": "markdown",
   "metadata": {},
   "source": [
    "#### Q16"
   ]
  },
  {
   "cell_type": "code",
   "execution_count": 156,
   "metadata": {},
   "outputs": [
    {
     "data": {
      "text/plain": [
       "array([ 0,  1,  2,  3,  4,  8, 17], dtype=int64)"
      ]
     },
     "execution_count": 156,
     "metadata": {},
     "output_type": "execute_result"
    }
   ],
   "source": [
    "df.Q16rc.unique()"
   ]
  },
  {
   "cell_type": "code",
   "execution_count": null,
   "metadata": {},
   "outputs": [],
   "source": [
    "#alone \n",
    "#with other people\n",
    "#Jinx"
   ]
  },
  {
   "cell_type": "markdown",
   "metadata": {},
   "source": [
    "#### Q17"
   ]
  },
  {
   "cell_type": "code",
   "execution_count": 93,
   "metadata": {},
   "outputs": [
    {
     "data": {
      "text/plain": [
       "291"
      ]
     },
     "execution_count": 93,
     "metadata": {},
     "output_type": "execute_result"
    }
   ],
   "source": [
    "df.Q17.unique()\n",
    "df.columns.get_loc('Q17')"
   ]
  },
  {
   "cell_type": "code",
   "execution_count": 94,
   "metadata": {},
   "outputs": [],
   "source": [
    "for i in range(0,1003):\n",
    "        if df.iloc[i,291]=='Extremely Satisfied 10':\n",
    "            df.iloc[i,291]= 10\n",
    "        elif df.iloc[i,291]=='Not at All Satisfied 1':\n",
    "            df.iloc[i,291]= 1\n",
    "        elif df.iloc[i,291]=='8':\n",
    "            df.iloc[i,291]= 8\n",
    "        elif df.iloc[i,291]=='4':\n",
    "            df.iloc[i,291]= 4\n",
    "        elif df.iloc[i,291]=='7':\n",
    "            df.iloc[i,291]= 7\n",
    "        elif df.iloc[i,291]=='9':\n",
    "            df.iloc[i,291]= 9\n",
    "        elif df.iloc[i,291]=='3':\n",
    "            df.iloc[i,291]= 3\n",
    "        elif df.iloc[i,291]=='5':\n",
    "            df.iloc[i,291]= 5\n",
    "        elif df.iloc[i,291]=='6':\n",
    "            df.iloc[i,291]= 6\n",
    "        else:\n",
    "            df.iloc[i,291]= 2"
   ]
  },
  {
   "cell_type": "markdown",
   "metadata": {},
   "source": [
    "#### Q25"
   ]
  },
  {
   "cell_type": "code",
   "execution_count": 95,
   "metadata": {},
   "outputs": [
    {
     "data": {
      "text/plain": [
       "array(['No', 'Yes'], dtype=object)"
      ]
     },
     "execution_count": 95,
     "metadata": {},
     "output_type": "execute_result"
    }
   ],
   "source": [
    "df.Q25.unique()"
   ]
  },
  {
   "cell_type": "code",
   "execution_count": 96,
   "metadata": {},
   "outputs": [],
   "source": [
    "df['Q25'] = [1 if x =='Yes' else 0 for x in df['Q25']]"
   ]
  },
  {
   "cell_type": "code",
   "execution_count": 97,
   "metadata": {},
   "outputs": [
    {
     "data": {
      "text/plain": [
       "Q25\n",
       "0    281\n",
       "1    722\n",
       "dtype: int64"
      ]
     },
     "execution_count": 97,
     "metadata": {},
     "output_type": "execute_result"
    }
   ],
   "source": [
    "df.groupby('Q25').size()"
   ]
  },
  {
   "cell_type": "markdown",
   "metadata": {},
   "source": [
    "#### Q26"
   ]
  },
  {
   "cell_type": "code",
   "execution_count": 98,
   "metadata": {
    "scrolled": true
   },
   "outputs": [
    {
     "data": {
      "text/plain": [
       "array(['NO TO: Late night', 'Late night'], dtype=object)"
      ]
     },
     "execution_count": 98,
     "metadata": {},
     "output_type": "execute_result"
    }
   ],
   "source": [
    "df.Q26rh.unique()"
   ]
  },
  {
   "cell_type": "code",
   "execution_count": 99,
   "metadata": {},
   "outputs": [],
   "source": [
    "df['Q26ra'] = [1 if x =='Before breakfast' else 0 for x in df['Q26ra']]\n",
    "df['Q26rb'] = [1 if x =='With breakfast' else 0 for x in df['Q26rb']]\n",
    "df['Q26rc'] = [1 if x =='Between breakfast and lunch' else 0 for x in df['Q26rc']]\n",
    "df['Q26rd'] = [1 if x =='With lunch' else 0 for x in df['Q26rd']]\n",
    "df['Q26re'] = [1 if x =='Between lunch and dinner' else 0 for x in df['Q26re']]\n",
    "df['Q26rf'] = [1 if x =='With dinner' else 0 for x in df['Q26rf']]\n",
    "df['Q26rg'] = [1 if x =='After dinner' else 0 for x in df['Q26rg']]\n",
    "df['Q26rh'] = [1 if x =='Late night' else 0 for x in df['Q26rh']]"
   ]
  },
  {
   "cell_type": "markdown",
   "metadata": {},
   "source": [
    "#### Q18"
   ]
  },
  {
   "cell_type": "code",
   "execution_count": 100,
   "metadata": {},
   "outputs": [
    {
     "name": "stdout",
     "output_type": "stream",
     "text": [
      "292\n",
      "['A little healthier than other options'\n",
      " 'Much healthier than other options'\n",
      " 'Much less healthy than other options'\n",
      " 'A little less healthy than other options']\n"
     ]
    },
    {
     "data": {
      "text/plain": [
       "Q18\n",
       "A little healthier than other options       439\n",
       "A little less healthy than other options    219\n",
       "Much healthier than other options           269\n",
       "Much less healthy than other options         76\n",
       "dtype: int64"
      ]
     },
     "execution_count": 100,
     "metadata": {},
     "output_type": "execute_result"
    }
   ],
   "source": [
    "print(df.columns.get_loc(\"Q18\"))\n",
    "print(df.Q18.unique())\n",
    "df.groupby(\"Q18\").size()"
   ]
  },
  {
   "cell_type": "code",
   "execution_count": 101,
   "metadata": {},
   "outputs": [],
   "source": [
    "for i in range(0,1003):\n",
    "    if df.iloc[i,292]=='Much healthier than other options':\n",
    "        df.iloc[i,292]= 4\n",
    "    elif df.iloc[i,292]=='A little healthier than other options':\n",
    "        df.iloc[i,292]= 3\n",
    "        df.iloc[i,292]= 2\n",
    "    else:\n",
    "        df.iloc[i,292]= 1"
   ]
  },
  {
   "cell_type": "code",
   "execution_count": 102,
   "metadata": {
    "scrolled": true
   },
   "outputs": [
    {
     "name": "stdout",
     "output_type": "stream",
     "text": [
      "[2 4 1]\n"
     ]
    },
    {
     "data": {
      "text/plain": [
       "Q18\n",
       "1    295\n",
       "2    439\n",
       "4    269\n",
       "dtype: int64"
      ]
     },
     "execution_count": 102,
     "metadata": {},
     "output_type": "execute_result"
    }
   ],
   "source": [
    "print(df.Q18.unique())\n",
    "df.groupby(\"Q18\").size()"
   ]
  },
  {
   "cell_type": "markdown",
   "metadata": {},
   "source": [
    "#### Q19"
   ]
  },
  {
   "cell_type": "code",
   "execution_count": 103,
   "metadata": {},
   "outputs": [
    {
     "name": "stdout",
     "output_type": "stream",
     "text": [
      "293\n",
      "['A little tastier than other options' 'Much tastier than other options'\n",
      " 'A little less tasty than other options'\n",
      " 'Much less tasty than other options']\n"
     ]
    },
    {
     "data": {
      "text/plain": [
       "Q19\n",
       "A little less tasty than other options    121\n",
       "A little tastier than other options       448\n",
       "Much less tasty than other options         27\n",
       "Much tastier than other options           407\n",
       "dtype: int64"
      ]
     },
     "execution_count": 103,
     "metadata": {},
     "output_type": "execute_result"
    }
   ],
   "source": [
    "print(df.columns.get_loc(\"Q19\"))\n",
    "print(df.Q19.unique())\n",
    "df.groupby(\"Q19\").size()"
   ]
  },
  {
   "cell_type": "code",
   "execution_count": 104,
   "metadata": {},
   "outputs": [],
   "source": [
    "for i in range(0,1003):\n",
    "    if df.iloc[i,293]=='Much tastier than other options':\n",
    "        df.iloc[i,293]= 4\n",
    "    elif df.iloc[i,293]=='A little tastier than other options':\n",
    "        df.iloc[i,293]= 3\n",
    "    elif df.iloc[i,293]=='A little less tasty than other options':\n",
    "        df.iloc[i,293]= 2\n",
    "    else:\n",
    "        df.iloc[i,293]= 1"
   ]
  },
  {
   "cell_type": "code",
   "execution_count": 105,
   "metadata": {},
   "outputs": [
    {
     "name": "stdout",
     "output_type": "stream",
     "text": [
      "[3 4 2 1]\n"
     ]
    },
    {
     "data": {
      "text/plain": [
       "Q19\n",
       "1     27\n",
       "2    121\n",
       "3    448\n",
       "4    407\n",
       "dtype: int64"
      ]
     },
     "execution_count": 105,
     "metadata": {},
     "output_type": "execute_result"
    }
   ],
   "source": [
    "print(df.Q19.unique())\n",
    "df.groupby(\"Q19\").size()"
   ]
  },
  {
   "cell_type": "markdown",
   "metadata": {},
   "source": [
    "#### Q20-23"
   ]
  },
  {
   "cell_type": "code",
   "execution_count": 106,
   "metadata": {},
   "outputs": [
    {
     "name": "stdout",
     "output_type": "stream",
     "text": [
      "294\n",
      "297\n"
     ]
    },
    {
     "data": {
      "text/plain": [
       "Q20\n",
       "Somewhat dissatisfied     52\n",
       "Somewhat satisfied       342\n",
       "Very dissatisfied         22\n",
       "Very satisfied           587\n",
       "dtype: int64"
      ]
     },
     "execution_count": 106,
     "metadata": {},
     "output_type": "execute_result"
    }
   ],
   "source": [
    "print(df.columns.get_loc(\"Q20\"))\n",
    "print(df.columns.get_loc(\"Q23\"))\n",
    "df.groupby(\"Q20\").size()"
   ]
  },
  {
   "cell_type": "code",
   "execution_count": 107,
   "metadata": {},
   "outputs": [],
   "source": [
    "for j in range(294,298) :\n",
    "    for i in range(0,1003):\n",
    "        if df.iloc[i,j]=='Very satisfied':\n",
    "            df.iloc[i,j]= 4\n",
    "        elif df.iloc[i,j]=='Somewhat satisfied':\n",
    "            df.iloc[i,j]= 3\n",
    "        elif df.iloc[i,j]=='Somewhat dissatisfied':\n",
    "            df.iloc[i,j]= 2\n",
    "        else:\n",
    "            df.iloc[i,j]= 1"
   ]
  },
  {
   "cell_type": "code",
   "execution_count": 108,
   "metadata": {
    "scrolled": true
   },
   "outputs": [
    {
     "data": {
      "text/plain": [
       "Q23\n",
       "1     26\n",
       "2     80\n",
       "3    409\n",
       "4    488\n",
       "dtype: int64"
      ]
     },
     "execution_count": 108,
     "metadata": {},
     "output_type": "execute_result"
    }
   ],
   "source": [
    "df.groupby(\"Q23\").size()"
   ]
  },
  {
   "cell_type": "markdown",
   "metadata": {},
   "source": [
    "#### Q24"
   ]
  },
  {
   "cell_type": "code",
   "execution_count": 109,
   "metadata": {},
   "outputs": [],
   "source": [
    "df['Q24'] = [1 if x in dining_choice else 0 for x in df['Q24']]"
   ]
  },
  {
   "cell_type": "markdown",
   "metadata": {},
   "source": [
    "## Current attempt at healthy life and diets"
   ]
  },
  {
   "cell_type": "markdown",
   "metadata": {},
   "source": [
    "|Section |\tQuestion |\tDescription|binary |multi| type|transform|from|To|\n",
    "|-------|-----------|--------------- |----------|-------|------|-------|-------|-------|\n",
    "|Q30\t        |raa-rbm         | attempt at health plan      |4|  4 |cat|No | | |\t\t\t\t\t\t\t\n",
    "|D1             |ra-ro           | diets\t                   |2|\t2 |cat|No | | |\t"
   ]
  },
  {
   "cell_type": "markdown",
   "metadata": {},
   "source": [
    "LIFESTYLE/ATTITUDINAL:"
   ]
  },
  {
   "cell_type": "code",
   "execution_count": 110,
   "metadata": {
    "scrolled": true
   },
   "outputs": [
    {
     "data": {
      "text/plain": [
       "308"
      ]
     },
     "execution_count": 110,
     "metadata": {},
     "output_type": "execute_result"
    }
   ],
   "source": [
    "df.groupby('Q30raa').size()\n",
    "df.columns.get_loc(\"Q30raa\")"
   ]
  },
  {
   "cell_type": "code",
   "execution_count": 111,
   "metadata": {},
   "outputs": [],
   "source": [
    "for j in range(308,349) :\n",
    "    for i in range(0,1003):\n",
    "        if df.iloc[i,j]=='Strongly agree':\n",
    "            df.iloc[i,j]= 4\n",
    "        elif df.iloc[i,j]=='Agree somewhat':\n",
    "            df.iloc[i,j]= 3\n",
    "        elif df.iloc[i,j]=='Disagree somewhat':\n",
    "            df.iloc[i,j]= 2\n",
    "        else:\n",
    "            df.iloc[i,j]= 1"
   ]
  },
  {
   "cell_type": "code",
   "execution_count": 112,
   "metadata": {},
   "outputs": [
    {
     "data": {
      "text/plain": [
       "Q30rbm\n",
       "1     45\n",
       "2    223\n",
       "3    493\n",
       "4    242\n",
       "dtype: int64"
      ]
     },
     "execution_count": 112,
     "metadata": {},
     "output_type": "execute_result"
    }
   ],
   "source": [
    "df.groupby('Q30rbm').size()"
   ]
  },
  {
   "cell_type": "markdown",
   "metadata": {},
   "source": [
    "Diets"
   ]
  },
  {
   "cell_type": "code",
   "execution_count": 113,
   "metadata": {},
   "outputs": [
    {
     "data": {
      "text/plain": [
       "D1ra\n",
       "1    1003\n",
       "dtype: int64"
      ]
     },
     "execution_count": 113,
     "metadata": {},
     "output_type": "execute_result"
    }
   ],
   "source": [
    "df.groupby('D1ra').size()"
   ]
  },
  {
   "cell_type": "code",
   "execution_count": 114,
   "metadata": {},
   "outputs": [],
   "source": [
    "df['D1ra'] = [1 if x =='Gluten free' else 0 for x in df['D1ra']]\n",
    "df['D1rb'] = [1 if x =='Dairy free' else 0 for x in df['D1rb']]\n",
    "df['D1rc'] = [1 if x =='Nut free' else 0 for x in df['D1rc']]\n",
    "df['D1rd'] = [1 if x =='Diabetic' else 0 for x in df['D1rd']]\n",
    "df['D1re'] = [1 if x =='Plant based diet' else 0 for x in df['D1re']]\n",
    "df['D1rf'] = [1 if x =='Vegan' else 0 for x in df['D1rf']]\n",
    "df['D1rg'] = [1 if x =='Vegetarian' else 0 for x in df['D1rg']]\n",
    "df['D1rh'] = [1 if x =='Low sodium' else 0 for x in df['D1rh']]\n",
    "df['D1ri'] = [1 if x =='Low carb' else 0 for x in df['D1ri']]\n",
    "df['D1rk'] = [1 if x =='Non-GMO' else 0 for x in df['D1rk']]\n",
    "df['D1rj'] = [1 if x =='Low calorie' else 0 for x in df['D1rj']]\n",
    "df['D1rl'] = [1 if x =='Antibiotic free' else 0 for x in df['D1rl']]\n",
    "df['D1rm'] = [1 if x =='Hormone free' else 0 for x in df['D1rm']]\n",
    "df['D1rn'] = [1 if x =='Allergen free' else 0 for x in df['D1rn']]\n",
    "df['D1ro'] = [1 if x =='Locally sourced' else 0 for x in df['D1ro']]"
   ]
  },
  {
   "cell_type": "code",
   "execution_count": 115,
   "metadata": {},
   "outputs": [],
   "source": [
    "#later for machine learning\n",
    "#D7 ethnicity \n",
    "#D8 work situation \n",
    "multi_option=['D7','D8']#'D11',\n",
    "df = pd.get_dummies(data = df,columns = multi_option )"
   ]
  },
  {
   "cell_type": "code",
   "execution_count": 116,
   "metadata": {},
   "outputs": [],
   "source": [
    "data=df.copy()"
   ]
  },
  {
   "cell_type": "code",
   "execution_count": 117,
   "metadata": {},
   "outputs": [],
   "source": [
    "df['equality'] = np.where(df['points']==df['POINTS'], \n",
    "                                           'yes', 'no')"
   ]
  },
  {
   "cell_type": "code",
   "execution_count": 118,
   "metadata": {
    "scrolled": true
   },
   "outputs": [
    {
     "data": {
      "text/html": [
       "<div>\n",
       "<style scoped>\n",
       "    .dataframe tbody tr th:only-of-type {\n",
       "        vertical-align: middle;\n",
       "    }\n",
       "\n",
       "    .dataframe tbody tr th {\n",
       "        vertical-align: top;\n",
       "    }\n",
       "\n",
       "    .dataframe thead th {\n",
       "        text-align: right;\n",
       "    }\n",
       "</style>\n",
       "<table border=\"1\" class=\"dataframe\">\n",
       "  <thead>\n",
       "    <tr style=\"text-align: right;\">\n",
       "      <th></th>\n",
       "      <th>points</th>\n",
       "      <th>POINTS</th>\n",
       "    </tr>\n",
       "  </thead>\n",
       "  <tbody>\n",
       "    <tr>\n",
       "      <th>251</th>\n",
       "      <td>-1</td>\n",
       "      <td>NaN</td>\n",
       "    </tr>\n",
       "    <tr>\n",
       "      <th>308</th>\n",
       "      <td>-1</td>\n",
       "      <td>NaN</td>\n",
       "    </tr>\n",
       "    <tr>\n",
       "      <th>341</th>\n",
       "      <td>-1</td>\n",
       "      <td>NaN</td>\n",
       "    </tr>\n",
       "    <tr>\n",
       "      <th>523</th>\n",
       "      <td>-1</td>\n",
       "      <td>NaN</td>\n",
       "    </tr>\n",
       "    <tr>\n",
       "      <th>553</th>\n",
       "      <td>-1</td>\n",
       "      <td>NaN</td>\n",
       "    </tr>\n",
       "    <tr>\n",
       "      <th>568</th>\n",
       "      <td>-1</td>\n",
       "      <td>NaN</td>\n",
       "    </tr>\n",
       "    <tr>\n",
       "      <th>611</th>\n",
       "      <td>-1</td>\n",
       "      <td>NaN</td>\n",
       "    </tr>\n",
       "    <tr>\n",
       "      <th>613</th>\n",
       "      <td>-1</td>\n",
       "      <td>NaN</td>\n",
       "    </tr>\n",
       "    <tr>\n",
       "      <th>642</th>\n",
       "      <td>-1</td>\n",
       "      <td>NaN</td>\n",
       "    </tr>\n",
       "    <tr>\n",
       "      <th>646</th>\n",
       "      <td>-1</td>\n",
       "      <td>NaN</td>\n",
       "    </tr>\n",
       "    <tr>\n",
       "      <th>696</th>\n",
       "      <td>-1</td>\n",
       "      <td>NaN</td>\n",
       "    </tr>\n",
       "    <tr>\n",
       "      <th>749</th>\n",
       "      <td>-1</td>\n",
       "      <td>NaN</td>\n",
       "    </tr>\n",
       "    <tr>\n",
       "      <th>793</th>\n",
       "      <td>-1</td>\n",
       "      <td>NaN</td>\n",
       "    </tr>\n",
       "    <tr>\n",
       "      <th>821</th>\n",
       "      <td>-1</td>\n",
       "      <td>NaN</td>\n",
       "    </tr>\n",
       "    <tr>\n",
       "      <th>919</th>\n",
       "      <td>-1</td>\n",
       "      <td>NaN</td>\n",
       "    </tr>\n",
       "    <tr>\n",
       "      <th>946</th>\n",
       "      <td>-1</td>\n",
       "      <td>NaN</td>\n",
       "    </tr>\n",
       "    <tr>\n",
       "      <th>970</th>\n",
       "      <td>-1</td>\n",
       "      <td>NaN</td>\n",
       "    </tr>\n",
       "  </tbody>\n",
       "</table>\n",
       "</div>"
      ],
      "text/plain": [
       "     points  POINTS\n",
       "251      -1     NaN\n",
       "308      -1     NaN\n",
       "341      -1     NaN\n",
       "523      -1     NaN\n",
       "553      -1     NaN\n",
       "568      -1     NaN\n",
       "611      -1     NaN\n",
       "613      -1     NaN\n",
       "642      -1     NaN\n",
       "646      -1     NaN\n",
       "696      -1     NaN\n",
       "749      -1     NaN\n",
       "793      -1     NaN\n",
       "821      -1     NaN\n",
       "919      -1     NaN\n",
       "946      -1     NaN\n",
       "970      -1     NaN"
      ]
     },
     "execution_count": 118,
     "metadata": {},
     "output_type": "execute_result"
    }
   ],
   "source": [
    "dif=df[df['equality']=='no']\n",
    "dif[[\"points\",\"POINTS\"]]"
   ]
  },
  {
   "cell_type": "code",
   "execution_count": 119,
   "metadata": {},
   "outputs": [],
   "source": [
    "data.drop('POINTS', axis=1, inplace=True)"
   ]
  },
  {
   "cell_type": "code",
   "execution_count": 120,
   "metadata": {
    "scrolled": true
   },
   "outputs": [
    {
     "data": {
      "text/plain": [
       "374"
      ]
     },
     "execution_count": 120,
     "metadata": {},
     "output_type": "execute_result"
    }
   ],
   "source": [
    "df.columns.get_loc('D7r6oe') #other for ethnicity"
   ]
  },
  {
   "cell_type": "code",
   "execution_count": 121,
   "metadata": {},
   "outputs": [],
   "source": [
    "df_Q1=df.iloc[:,4:21] \n",
    "df_D=df.iloc[:,367:375] "
   ]
  },
  {
   "cell_type": "code",
   "execution_count": 122,
   "metadata": {},
   "outputs": [],
   "source": [
    "df_Q1_list=list(df_Q1.columns)\n",
    "df_D_list=list(df_D.columns)"
   ]
  },
  {
   "cell_type": "code",
   "execution_count": 123,
   "metadata": {
    "scrolled": true
   },
   "outputs": [],
   "source": [
    "data.drop('Q4', axis=1, inplace=True) #hQ4\n",
    "data.drop('Q5', axis=1, inplace=True) #hQ5\n",
    "data.drop('Q6', axis=1, inplace=True) #hQ6\n",
    "data.drop('hS3', axis=1, inplace=True) #age_group #categorical\n",
    "data.drop('Q13', axis=1, inplace=True) # kept the binary ones\n",
    "data.drop('Q14', axis=1, inplace=True) # kept the binary ones\n",
    "\n",
    "data.drop(df_Q1_list, axis=1, inplace=True)\n",
    "data.drop(df_D_list , axis=1, inplace=True)\n",
    "data.drop('Q2ra', axis=1, inplace=True)\n",
    "data.drop('Q2rb', axis=1, inplace=True)\n",
    "\n",
    "data.drop('Q3ra', axis=1, inplace=True)\n",
    "data.drop('Q3rb', axis=1, inplace=True)\n",
    "data.drop('Q3rc', axis=1, inplace=True)\n",
    "\n",
    "#states dropped for now\n",
    "data.drop('D11', axis=1, inplace=True) "
   ]
  },
  {
   "cell_type": "code",
   "execution_count": 124,
   "metadata": {},
   "outputs": [],
   "source": [
    "indexNames = data[data['BMI'] >= 50].index\n",
    "data.drop(indexNames , inplace=True)"
   ]
  },
  {
   "cell_type": "code",
   "execution_count": 125,
   "metadata": {},
   "outputs": [],
   "source": [
    "data.to_csv('project_cleaned_transformed_data.csv')"
   ]
  },
  {
   "cell_type": "code",
   "execution_count": 126,
   "metadata": {},
   "outputs": [],
   "source": [
    "data_copy=data.copy()"
   ]
  },
  {
   "cell_type": "markdown",
   "metadata": {},
   "source": [
    "## Questions  "
   ]
  },
  {
   "cell_type": "markdown",
   "metadata": {},
   "source": [
    "PCA"
   ]
  },
  {
   "cell_type": "code",
   "execution_count": 127,
   "metadata": {},
   "outputs": [],
   "source": [
    "from sklearn.cluster import KMeans\n",
    "from sklearn.preprocessing import StandardScaler, normalize\n",
    "from sklearn.decomposition import PCA\n",
    "from sklearn.metrics import silhouette_score\n",
    "from sklearn.model_selection import train_test_split"
   ]
  },
  {
   "cell_type": "code",
   "execution_count": 128,
   "metadata": {},
   "outputs": [],
   "source": [
    "Y = data.BMI_group\n",
    "X = data.drop(['BMI','BMI_group','D10ra','D10rb','D9'], axis=1)"
   ]
  },
  {
   "cell_type": "code",
   "execution_count": 129,
   "metadata": {},
   "outputs": [],
   "source": [
    "#Splitting the dataset into the Training set and Test set\n",
    "X_train, X_test, Y_train, Y_test = train_test_split(X, Y, test_size = 0.2, random_state = 0)"
   ]
  },
  {
   "cell_type": "code",
   "execution_count": 130,
   "metadata": {},
   "outputs": [],
   "source": [
    "from sklearn.decomposition import PCA\n",
    "\n",
    "pca = PCA(n_components=3)\n",
    "X_train_reduced = pca.fit_transform(X_train)\n",
    "X_test_reduced = pca.transform(X_test)\n",
    "\n",
    "X_reduced = pca.fit_transform(X)"
   ]
  },
  {
   "cell_type": "code",
   "execution_count": 131,
   "metadata": {},
   "outputs": [
    {
     "data": {
      "text/plain": [
       "(785, 357)"
      ]
     },
     "execution_count": 131,
     "metadata": {},
     "output_type": "execute_result"
    }
   ],
   "source": [
    "X_train.shape"
   ]
  },
  {
   "cell_type": "code",
   "execution_count": 132,
   "metadata": {},
   "outputs": [
    {
     "data": {
      "text/plain": [
       "(785, 3)"
      ]
     },
     "execution_count": 132,
     "metadata": {},
     "output_type": "execute_result"
    }
   ],
   "source": [
    "X_train_reduced.shape"
   ]
  },
  {
   "cell_type": "code",
   "execution_count": 133,
   "metadata": {},
   "outputs": [
    {
     "name": "stdout",
     "output_type": "stream",
     "text": [
      "[[ 7.62329224e-08 -2.89970603e-07 -1.53576770e-05 ... -5.22176861e-07\n",
      "   2.25769123e-06 -3.01755343e-07]\n",
      " [ 5.68722828e-07  3.58658817e-06 -1.10395368e-05 ... -5.94831295e-07\n",
      "   3.24308581e-06 -3.43334555e-07]\n",
      " [ 9.25462741e-04  2.12796356e-03 -1.97951335e-01 ... -3.25226488e-03\n",
      "   7.21632357e-04 -9.94609764e-04]]\n",
      "[3.28712244e+09 1.79970695e+07 2.08968912e+02]\n"
     ]
    }
   ],
   "source": [
    "print(pca.components_)\n",
    "print(pca.explained_variance_)\n",
    "#pca.get_precision()"
   ]
  },
  {
   "cell_type": "code",
   "execution_count": 134,
   "metadata": {
    "scrolled": true
   },
   "outputs": [
    {
     "data": {
      "text/plain": [
       "0.999999881354793"
      ]
     },
     "execution_count": 134,
     "metadata": {},
     "output_type": "execute_result"
    }
   ],
   "source": [
    "np.sum(pca.explained_variance_ratio_)"
   ]
  },
  {
   "cell_type": "code",
   "execution_count": 135,
   "metadata": {},
   "outputs": [],
   "source": [
    "#print(pd.DataFrame(coef,columns= ['PC-1','PC-2','PC-3'],index =X.columns))"
   ]
  },
  {
   "cell_type": "markdown",
   "metadata": {},
   "source": [
    "Are there clusters of consumers who associated with health and wellness? You should think about clustering people based on their physical and psychological attitude. \n"
   ]
  },
  {
   "cell_type": "code",
   "execution_count": 136,
   "metadata": {},
   "outputs": [],
   "source": [
    "from sklearn.cluster import KMeans\n",
    "n_clusters=30\n",
    "cost=[]\n",
    "for i in range(1,n_clusters):\n",
    "    kmean= KMeans(i)\n",
    "    kmean.fit(X)\n",
    "    cost.append(kmean.inertia_)  "
   ]
  },
  {
   "cell_type": "code",
   "execution_count": 137,
   "metadata": {},
   "outputs": [
    {
     "data": {
      "text/plain": [
       "[<matplotlib.lines.Line2D at 0x16ffbaf20b8>]"
      ]
     },
     "execution_count": 137,
     "metadata": {},
     "output_type": "execute_result"
    },
    {
     "data": {
      "image/png": "[encoded data removed]",
      "text/plain": [
       "<Figure size 432x288 with 1 Axes>"
      ]
     },
     "metadata": {
      "needs_background": "light"
     },
     "output_type": "display_data"
    }
   ],
   "source": [
    "plt.plot(cost, 'bx-')"
   ]
  },
  {
   "cell_type": "code",
   "execution_count": 138,
   "metadata": {},
   "outputs": [
    {
     "data": {
      "image/png": "[encoded data removed]",
      "text/plain": [
       "<Figure size 432x288 with 1 Axes>"
      ]
     },
     "metadata": {
      "needs_background": "light"
     },
     "output_type": "display_data"
    }
   ],
   "source": [
    "from sklearn.cluster import KMeans\n",
    "inertia = []\n",
    "for k in range(1, 20):\n",
    "    kmeans = KMeans(n_clusters=k, random_state=1).fit(X)\n",
    "    inertia.append(np.sqrt(kmeans.inertia_))\n",
    "plt.plot(range(1, 20), inertia, marker='s');\n",
    "plt.xlabel('$k$')\n",
    "plt.ylabel('$J(C_k)$');"
   ]
  },
  {
   "cell_type": "markdown",
   "metadata": {},
   "source": [
    "We see that  J(Ck)  decreases significantly until the number of clusters is 5 and then does not change as much anymore. This means that the optimal number of clusters is 5."
   ]
  },
  {
   "cell_type": "code",
   "execution_count": 139,
   "metadata": {
    "scrolled": true
   },
   "outputs": [
    {
     "data": {
      "image/png": "[encoded data removed]",
      "text/plain": [
       "<Figure size 432x288 with 1 Axes>"
      ]
     },
     "metadata": {
      "needs_background": "light"
     },
     "output_type": "display_data"
    }
   ],
   "source": [
    "# Use the Elbow method to find a good number of clusters using WCSS\n",
    "wcss = []\n",
    "for ii in range( 1, 30 ):\n",
    "    kmeans = KMeans(n_clusters=ii, init=\"k-means++\", n_init=10, max_iter=300) \n",
    "    kmeans.fit_predict( X )\n",
    "    wcss.append( kmeans.inertia_ )\n",
    "    \n",
    "plt.plot( wcss, 'ro-', label=\"WCSS\")\n",
    "plt.title(\"Computing WCSS for KMeans++\")\n",
    "plt.xlabel(\"Number of clusters\")\n",
    "plt.ylabel(\"WCSS\")\n",
    "plt.show()"
   ]
  },
  {
   "cell_type": "markdown",
   "metadata": {},
   "source": [
    "kmeans = KMeans(n_clusters=5, init=\"k-means++\", n_init=10, max_iter=300) \n",
    "y_pred = kmeans.fit_predict( X )\n",
    "/# As it's difficult to visualise clusters when the data is high-dimensional - we'll see\n",
    "/# if Seaborn's pairplot can help us see how the clusters are separating out the samples.   \n",
    "import seaborn as sns\n",
    "data[\"cluster\"] = y_pred\n",
    "cols = list(data.columns)\n",
    "\n",
    "sns.pairplot( data[ cols ], hue=\"cluster\")"
   ]
  },
  {
   "cell_type": "code",
   "execution_count": 157,
   "metadata": {},
   "outputs": [],
   "source": [
    "kmean= KMeans(4)\n",
    "kmean.fit(X)\n",
    "labels=kmean.labels_"
   ]
  },
  {
   "cell_type": "code",
   "execution_count": 141,
   "metadata": {},
   "outputs": [
    {
     "data": {
      "text/html": [
       "<div>\n",
       "<style scoped>\n",
       "    .dataframe tbody tr th:only-of-type {\n",
       "        vertical-align: middle;\n",
       "    }\n",
       "\n",
       "    .dataframe tbody tr th {\n",
       "        vertical-align: top;\n",
       "    }\n",
       "\n",
       "    .dataframe thead th {\n",
       "        text-align: right;\n",
       "    }\n",
       "</style>\n",
       "<table border=\"1\" class=\"dataframe\">\n",
       "  <thead>\n",
       "    <tr style=\"text-align: right;\">\n",
       "      <th></th>\n",
       "      <th>S1</th>\n",
       "      <th>S2</th>\n",
       "      <th>S3</th>\n",
       "      <th>hQ1ra</th>\n",
       "      <th>hQ1rb</th>\n",
       "      <th>hQ1rd</th>\n",
       "      <th>hQ1re</th>\n",
       "      <th>hQ1rf</th>\n",
       "      <th>hQ1rh</th>\n",
       "      <th>hQ1ri</th>\n",
       "      <th>...</th>\n",
       "      <th>D7_5</th>\n",
       "      <th>D7_6</th>\n",
       "      <th>D8_Decline to answer</th>\n",
       "      <th>D8_Home maker/Stay at home parent</th>\n",
       "      <th>D8_Not currently employed</th>\n",
       "      <th>D8_Not currently employed, but looking for work</th>\n",
       "      <th>D8_Retired</th>\n",
       "      <th>D8_Work full time</th>\n",
       "      <th>D8_Work part time</th>\n",
       "      <th>cluster</th>\n",
       "    </tr>\n",
       "  </thead>\n",
       "  <tbody>\n",
       "    <tr>\n",
       "      <th>0</th>\n",
       "      <td>0.0</td>\n",
       "      <td>1.0</td>\n",
       "      <td>52.0</td>\n",
       "      <td>0.0</td>\n",
       "      <td>0.0</td>\n",
       "      <td>-1.0</td>\n",
       "      <td>0.0</td>\n",
       "      <td>0.0</td>\n",
       "      <td>2.0</td>\n",
       "      <td>1.0</td>\n",
       "      <td>...</td>\n",
       "      <td>0.0</td>\n",
       "      <td>0.0</td>\n",
       "      <td>0.0</td>\n",
       "      <td>0.0</td>\n",
       "      <td>0.0</td>\n",
       "      <td>1.0</td>\n",
       "      <td>0.0</td>\n",
       "      <td>0.0</td>\n",
       "      <td>0.0</td>\n",
       "      <td>3.0</td>\n",
       "    </tr>\n",
       "    <tr>\n",
       "      <th>1</th>\n",
       "      <td>0.0</td>\n",
       "      <td>0.0</td>\n",
       "      <td>39.0</td>\n",
       "      <td>0.0</td>\n",
       "      <td>0.0</td>\n",
       "      <td>0.0</td>\n",
       "      <td>1.0</td>\n",
       "      <td>0.0</td>\n",
       "      <td>1.0</td>\n",
       "      <td>1.0</td>\n",
       "      <td>...</td>\n",
       "      <td>0.0</td>\n",
       "      <td>0.0</td>\n",
       "      <td>0.0</td>\n",
       "      <td>0.0</td>\n",
       "      <td>0.0</td>\n",
       "      <td>0.0</td>\n",
       "      <td>0.0</td>\n",
       "      <td>1.0</td>\n",
       "      <td>0.0</td>\n",
       "      <td>0.0</td>\n",
       "    </tr>\n",
       "    <tr>\n",
       "      <th>2</th>\n",
       "      <td>0.0</td>\n",
       "      <td>1.0</td>\n",
       "      <td>30.0</td>\n",
       "      <td>-1.0</td>\n",
       "      <td>-1.0</td>\n",
       "      <td>-1.0</td>\n",
       "      <td>-1.0</td>\n",
       "      <td>0.0</td>\n",
       "      <td>2.0</td>\n",
       "      <td>2.0</td>\n",
       "      <td>...</td>\n",
       "      <td>0.0</td>\n",
       "      <td>0.0</td>\n",
       "      <td>0.0</td>\n",
       "      <td>0.0</td>\n",
       "      <td>0.0</td>\n",
       "      <td>0.0</td>\n",
       "      <td>0.0</td>\n",
       "      <td>1.0</td>\n",
       "      <td>0.0</td>\n",
       "      <td>2.0</td>\n",
       "    </tr>\n",
       "    <tr>\n",
       "      <th>3</th>\n",
       "      <td>0.0</td>\n",
       "      <td>1.0</td>\n",
       "      <td>21.0</td>\n",
       "      <td>0.0</td>\n",
       "      <td>0.0</td>\n",
       "      <td>-1.0</td>\n",
       "      <td>0.0</td>\n",
       "      <td>0.0</td>\n",
       "      <td>2.0</td>\n",
       "      <td>1.0</td>\n",
       "      <td>...</td>\n",
       "      <td>0.0</td>\n",
       "      <td>0.0</td>\n",
       "      <td>0.0</td>\n",
       "      <td>0.0</td>\n",
       "      <td>0.0</td>\n",
       "      <td>0.0</td>\n",
       "      <td>0.0</td>\n",
       "      <td>1.0</td>\n",
       "      <td>0.0</td>\n",
       "      <td>0.0</td>\n",
       "    </tr>\n",
       "    <tr>\n",
       "      <th>4</th>\n",
       "      <td>0.0</td>\n",
       "      <td>0.0</td>\n",
       "      <td>43.0</td>\n",
       "      <td>0.0</td>\n",
       "      <td>0.0</td>\n",
       "      <td>0.0</td>\n",
       "      <td>0.0</td>\n",
       "      <td>0.0</td>\n",
       "      <td>1.0</td>\n",
       "      <td>1.0</td>\n",
       "      <td>...</td>\n",
       "      <td>0.0</td>\n",
       "      <td>0.0</td>\n",
       "      <td>0.0</td>\n",
       "      <td>0.0</td>\n",
       "      <td>1.0</td>\n",
       "      <td>0.0</td>\n",
       "      <td>0.0</td>\n",
       "      <td>0.0</td>\n",
       "      <td>0.0</td>\n",
       "      <td>3.0</td>\n",
       "    </tr>\n",
       "  </tbody>\n",
       "</table>\n",
       "<p>5 rows × 363 columns</p>\n",
       "</div>"
      ],
      "text/plain": [
       "    S1   S2    S3  hQ1ra  hQ1rb  hQ1rd  hQ1re  hQ1rf  hQ1rh  hQ1ri   ...     \\\n",
       "0  0.0  1.0  52.0    0.0    0.0   -1.0    0.0    0.0    2.0    1.0   ...      \n",
       "1  0.0  0.0  39.0    0.0    0.0    0.0    1.0    0.0    1.0    1.0   ...      \n",
       "2  0.0  1.0  30.0   -1.0   -1.0   -1.0   -1.0    0.0    2.0    2.0   ...      \n",
       "3  0.0  1.0  21.0    0.0    0.0   -1.0    0.0    0.0    2.0    1.0   ...      \n",
       "4  0.0  0.0  43.0    0.0    0.0    0.0    0.0    0.0    1.0    1.0   ...      \n",
       "\n",
       "   D7_5  D7_6  D8_Decline to answer  D8_Home maker/Stay at home parent  \\\n",
       "0   0.0   0.0                   0.0                                0.0   \n",
       "1   0.0   0.0                   0.0                                0.0   \n",
       "2   0.0   0.0                   0.0                                0.0   \n",
       "3   0.0   0.0                   0.0                                0.0   \n",
       "4   0.0   0.0                   0.0                                0.0   \n",
       "\n",
       "   D8_Not currently employed  D8_Not currently employed, but looking for work  \\\n",
       "0                        0.0                                              1.0   \n",
       "1                        0.0                                              0.0   \n",
       "2                        0.0                                              0.0   \n",
       "3                        0.0                                              0.0   \n",
       "4                        1.0                                              0.0   \n",
       "\n",
       "   D8_Retired  D8_Work full time  D8_Work part time  cluster  \n",
       "0         0.0                0.0                0.0      3.0  \n",
       "1         0.0                1.0                0.0      0.0  \n",
       "2         0.0                1.0                0.0      2.0  \n",
       "3         0.0                1.0                0.0      0.0  \n",
       "4         0.0                0.0                0.0      3.0  \n",
       "\n",
       "[5 rows x 363 columns]"
      ]
     },
     "execution_count": 141,
     "metadata": {},
     "output_type": "execute_result"
    }
   ],
   "source": [
    "clusters=pd.concat([data, pd.DataFrame({'cluster':labels})], axis=1)\n",
    "clusters.head()"
   ]
  },
  {
   "cell_type": "code",
   "execution_count": 142,
   "metadata": {},
   "outputs": [
    {
     "data": {
      "text/plain": [
       "BMI_group\n",
       "0.0     48\n",
       "1.0    308\n",
       "2.0    308\n",
       "3.0    318\n",
       "dtype: int64"
      ]
     },
     "execution_count": 142,
     "metadata": {},
     "output_type": "execute_result"
    }
   ],
   "source": [
    "clusters.groupby('BMI_group').size()"
   ]
  },
  {
   "cell_type": "code",
   "execution_count": 143,
   "metadata": {},
   "outputs": [
    {
     "data": {
      "text/plain": [
       "cluster\n",
       "0.0    334\n",
       "1.0      9\n",
       "2.0    117\n",
       "3.0    522\n",
       "dtype: int64"
      ]
     },
     "execution_count": 143,
     "metadata": {},
     "output_type": "execute_result"
    }
   ],
   "source": [
    "clusters.groupby('cluster').size()"
   ]
  },
  {
   "cell_type": "code",
   "execution_count": 144,
   "metadata": {},
   "outputs": [],
   "source": [
    "df_clustering = data[['BMI','S3','S2','points']]"
   ]
  },
  {
   "cell_type": "code",
   "execution_count": 145,
   "metadata": {},
   "outputs": [],
   "source": [
    "from sklearn.preprocessing import StandardScaler\n",
    "scaler = StandardScaler()"
   ]
  },
  {
   "cell_type": "code",
   "execution_count": 146,
   "metadata": {},
   "outputs": [
    {
     "name": "stderr",
     "output_type": "stream",
     "text": [
      "C:\\Users\\SavrinD\\Anaconda3\\lib\\site-packages\\sklearn\\preprocessing\\data.py:625: DataConversionWarning: Data with input dtype int32, int64, float64 were all converted to float64 by StandardScaler.\n",
      "  return self.partial_fit(X, y)\n"
     ]
    },
    {
     "data": {
      "text/plain": [
       "StandardScaler(copy=True, with_mean=True, with_std=True)"
      ]
     },
     "execution_count": 146,
     "metadata": {},
     "output_type": "execute_result"
    }
   ],
   "source": [
    "scaler.fit(df_clustering)"
   ]
  },
  {
   "cell_type": "code",
   "execution_count": 147,
   "metadata": {},
   "outputs": [
    {
     "name": "stderr",
     "output_type": "stream",
     "text": [
      "C:\\Users\\SavrinD\\Anaconda3\\lib\\site-packages\\ipykernel_launcher.py:1: DataConversionWarning: Data with input dtype int32, int64, float64 were all converted to float64 by StandardScaler.\n",
      "  \"\"\"Entry point for launching an IPython kernel.\n"
     ]
    }
   ],
   "source": [
    "normalized_df_c = scaler.transform(df_clustering)"
   ]
  },
  {
   "cell_type": "code",
   "execution_count": 148,
   "metadata": {},
   "outputs": [],
   "source": [
    "sse = {}\n",
    "for k in range(1, 20):\n",
    "    kmeans = KMeans(n_clusters=k, random_state=1)\n",
    "    kmeans.fit(normalized_df_c)\n",
    "    sse[k] = kmeans.inertia_ # sum of squared distances to closest cluster center"
   ]
  },
  {
   "cell_type": "code",
   "execution_count": 149,
   "metadata": {},
   "outputs": [
    {
     "data": {
      "image/png": "[encoded data removed]",
      "text/plain": [
       "<Figure size 432x288 with 1 Axes>"
      ]
     },
     "metadata": {
      "needs_background": "light"
     },
     "output_type": "display_data"
    }
   ],
   "source": [
    "# Plot SSE for each *k*\n",
    "plt.title('The Elbow Method')\n",
    "plt.xlabel('k'); plt.ylabel('SSE')\n",
    "sns.pointplot(x=list(sse.keys()), y=list(sse.values()))\n",
    "plt.show()"
   ]
  },
  {
   "cell_type": "code",
   "execution_count": 150,
   "metadata": {},
   "outputs": [],
   "source": [
    "kmeans4 = KMeans(n_clusters=4, random_state=1)"
   ]
  },
  {
   "cell_type": "code",
   "execution_count": 151,
   "metadata": {
    "scrolled": true
   },
   "outputs": [
    {
     "data": {
      "text/plain": [
       "KMeans(algorithm='auto', copy_x=True, init='k-means++', max_iter=300,\n",
       "    n_clusters=4, n_init=10, n_jobs=None, precompute_distances='auto',\n",
       "    random_state=1, tol=0.0001, verbose=0)"
      ]
     },
     "execution_count": 151,
     "metadata": {},
     "output_type": "execute_result"
    }
   ],
   "source": [
    "kmeans4.fit(normalized_df_c)"
   ]
  },
  {
   "cell_type": "code",
   "execution_count": 152,
   "metadata": {},
   "outputs": [],
   "source": [
    "#for c in clusters:\n",
    "#    grid= sns.FacetGrid(clusters, col='cluster')\n",
    "#    grid.map(plt.hist, c)"
   ]
  },
  {
   "cell_type": "markdown",
   "metadata": {},
   "source": [
    "Can you have quantitative measurements of people from different\n",
    "dimensions of healthiness? Which factors explain people attitude towards to be healthier or less healthy, e.g., wealth, time, attitude towards life, …\n"
   ]
  },
  {
   "cell_type": "markdown",
   "metadata": {},
   "source": [
    " How would you profile each segment?"
   ]
  },
  {
   "cell_type": "markdown",
   "metadata": {},
   "source": [
    " What can motivate change to improve overall health and wellness by segment?\n"
   ]
  },
  {
   "cell_type": "code",
   "execution_count": null,
   "metadata": {},
   "outputs": [],
   "source": []
  }
 ],
 "metadata": {
  "kernelspec": {
   "display_name": "Python 3",
   "language": "python",
   "name": "python3"
  },
  "language_info": {
   "codemirror_mode": {
    "name": "ipython",
    "version": 3
   },
   "file_extension": ".py",
   "mimetype": "text/x-python",
   "name": "python",
   "nbconvert_exporter": "python",
   "pygments_lexer": "ipython3",
   "version": "3.7.1"
  }
 },
 "nbformat": 4,
 "nbformat_minor": 4
}
